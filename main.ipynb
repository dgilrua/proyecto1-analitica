{
 "cells": [
  {
   "cell_type": "markdown",
   "metadata": {},
   "source": [
    "<h1>Importacion de librerias necesarias para el desarrollo del modelo</h1>"
   ]
  },
  {
   "cell_type": "code",
   "execution_count": 83,
   "metadata": {},
   "outputs": [],
   "source": [
    "# Manipulacion de datos\n",
    "import pandas as pd\n",
    "import numpy as np\n",
    "import math\n",
    "from tqdm import tqdm\n",
    "import optbinning\n",
    "from sklearn.preprocessing import OrdinalEncoder\n",
    "\n",
    "#Visualizacion\n",
    "import matplotlib.pyplot as plt\n",
    "import seaborn as sns\n",
    "import sklearn\n",
    "import joblib\n",
    "\n",
    "#Preprocesamiento\n",
    "from sklearn.preprocessing import OneHotEncoder, OrdinalEncoder, MinMaxScaler, StandardScaler, Normalizer\n",
    "from sklearn.linear_model import LogisticRegression\n",
    "from sklearn import metrics, model_selection, linear_model\n",
    "from sklearn.feature_selection import f_classif\n",
    "from sklearn.model_selection import train_test_split\n",
    "from scipy.stats import chi2_contingency\n",
    "from sklearn.metrics import roc_curve, auc\n",
    "\n",
    "#Estilo de las graficas\n",
    "sns.set_style('whitegrid')"
   ]
  },
  {
   "cell_type": "code",
   "execution_count": 84,
   "metadata": {},
   "outputs": [
    {
     "data": {
      "text/html": [
       "<div>\n",
       "<style scoped>\n",
       "    .dataframe tbody tr th:only-of-type {\n",
       "        vertical-align: middle;\n",
       "    }\n",
       "\n",
       "    .dataframe tbody tr th {\n",
       "        vertical-align: top;\n",
       "    }\n",
       "\n",
       "    .dataframe thead th {\n",
       "        text-align: right;\n",
       "    }\n",
       "</style>\n",
       "<table border=\"1\" class=\"dataframe\">\n",
       "  <thead>\n",
       "    <tr style=\"text-align: right;\">\n",
       "      <th></th>\n",
       "      <th>person_age</th>\n",
       "      <th>person_income</th>\n",
       "      <th>person_home_ownership</th>\n",
       "      <th>person_emp_length</th>\n",
       "      <th>loan_intent</th>\n",
       "      <th>loan_grade</th>\n",
       "      <th>loan_amnt</th>\n",
       "      <th>loan_int_rate</th>\n",
       "      <th>loan_status</th>\n",
       "      <th>loan_percent_income</th>\n",
       "      <th>cb_person_default_on_file</th>\n",
       "      <th>cb_person_cred_hist_length</th>\n",
       "    </tr>\n",
       "  </thead>\n",
       "  <tbody>\n",
       "    <tr>\n",
       "      <th>0</th>\n",
       "      <td>22</td>\n",
       "      <td>59000</td>\n",
       "      <td>RENT</td>\n",
       "      <td>123.0</td>\n",
       "      <td>PERSONAL</td>\n",
       "      <td>D</td>\n",
       "      <td>35000</td>\n",
       "      <td>16.02</td>\n",
       "      <td>1</td>\n",
       "      <td>0.59</td>\n",
       "      <td>Y</td>\n",
       "      <td>3</td>\n",
       "    </tr>\n",
       "    <tr>\n",
       "      <th>1</th>\n",
       "      <td>21</td>\n",
       "      <td>9600</td>\n",
       "      <td>OWN</td>\n",
       "      <td>5.0</td>\n",
       "      <td>EDUCATION</td>\n",
       "      <td>B</td>\n",
       "      <td>1000</td>\n",
       "      <td>11.14</td>\n",
       "      <td>0</td>\n",
       "      <td>0.10</td>\n",
       "      <td>N</td>\n",
       "      <td>2</td>\n",
       "    </tr>\n",
       "    <tr>\n",
       "      <th>2</th>\n",
       "      <td>25</td>\n",
       "      <td>9600</td>\n",
       "      <td>MORTGAGE</td>\n",
       "      <td>1.0</td>\n",
       "      <td>MEDICAL</td>\n",
       "      <td>C</td>\n",
       "      <td>5500</td>\n",
       "      <td>12.87</td>\n",
       "      <td>1</td>\n",
       "      <td>0.57</td>\n",
       "      <td>N</td>\n",
       "      <td>3</td>\n",
       "    </tr>\n",
       "    <tr>\n",
       "      <th>3</th>\n",
       "      <td>23</td>\n",
       "      <td>65500</td>\n",
       "      <td>RENT</td>\n",
       "      <td>4.0</td>\n",
       "      <td>MEDICAL</td>\n",
       "      <td>C</td>\n",
       "      <td>35000</td>\n",
       "      <td>15.23</td>\n",
       "      <td>1</td>\n",
       "      <td>0.53</td>\n",
       "      <td>N</td>\n",
       "      <td>2</td>\n",
       "    </tr>\n",
       "    <tr>\n",
       "      <th>4</th>\n",
       "      <td>24</td>\n",
       "      <td>54400</td>\n",
       "      <td>RENT</td>\n",
       "      <td>8.0</td>\n",
       "      <td>MEDICAL</td>\n",
       "      <td>C</td>\n",
       "      <td>35000</td>\n",
       "      <td>14.27</td>\n",
       "      <td>1</td>\n",
       "      <td>0.55</td>\n",
       "      <td>Y</td>\n",
       "      <td>4</td>\n",
       "    </tr>\n",
       "  </tbody>\n",
       "</table>\n",
       "</div>"
      ],
      "text/plain": [
       "   person_age  person_income person_home_ownership  person_emp_length  \\\n",
       "0          22          59000                  RENT              123.0   \n",
       "1          21           9600                   OWN                5.0   \n",
       "2          25           9600              MORTGAGE                1.0   \n",
       "3          23          65500                  RENT                4.0   \n",
       "4          24          54400                  RENT                8.0   \n",
       "\n",
       "  loan_intent loan_grade  loan_amnt  loan_int_rate  loan_status  \\\n",
       "0    PERSONAL          D      35000          16.02            1   \n",
       "1   EDUCATION          B       1000          11.14            0   \n",
       "2     MEDICAL          C       5500          12.87            1   \n",
       "3     MEDICAL          C      35000          15.23            1   \n",
       "4     MEDICAL          C      35000          14.27            1   \n",
       "\n",
       "   loan_percent_income cb_person_default_on_file  cb_person_cred_hist_length  \n",
       "0                 0.59                         Y                           3  \n",
       "1                 0.10                         N                           2  \n",
       "2                 0.57                         N                           3  \n",
       "3                 0.53                         N                           2  \n",
       "4                 0.55                         Y                           4  "
      ]
     },
     "execution_count": 84,
     "metadata": {},
     "output_type": "execute_result"
    }
   ],
   "source": [
    "# Carga de datos\n",
    "df = pd.read_csv('credit_risk_dataset.csv')\n",
    "df.head()"
   ]
  },
  {
   "cell_type": "code",
   "execution_count": 85,
   "metadata": {},
   "outputs": [
    {
     "data": {
      "text/html": [
       "<div>\n",
       "<style scoped>\n",
       "    .dataframe tbody tr th:only-of-type {\n",
       "        vertical-align: middle;\n",
       "    }\n",
       "\n",
       "    .dataframe tbody tr th {\n",
       "        vertical-align: top;\n",
       "    }\n",
       "\n",
       "    .dataframe thead th {\n",
       "        text-align: right;\n",
       "    }\n",
       "</style>\n",
       "<table border=\"1\" class=\"dataframe\">\n",
       "  <thead>\n",
       "    <tr style=\"text-align: right;\">\n",
       "      <th></th>\n",
       "      <th>person_age</th>\n",
       "      <th>person_income</th>\n",
       "      <th>person_home_ownership</th>\n",
       "      <th>person_emp_length</th>\n",
       "      <th>loan_intent</th>\n",
       "      <th>loan_grade</th>\n",
       "      <th>loan_amnt</th>\n",
       "      <th>loan_int_rate</th>\n",
       "      <th>loan_status</th>\n",
       "      <th>loan_percent_income</th>\n",
       "      <th>cb_person_default_on_file</th>\n",
       "      <th>cb_person_cred_hist_length</th>\n",
       "    </tr>\n",
       "  </thead>\n",
       "  <tbody>\n",
       "    <tr>\n",
       "      <th>32576</th>\n",
       "      <td>57</td>\n",
       "      <td>53000</td>\n",
       "      <td>MORTGAGE</td>\n",
       "      <td>1.0</td>\n",
       "      <td>PERSONAL</td>\n",
       "      <td>C</td>\n",
       "      <td>5800</td>\n",
       "      <td>13.16</td>\n",
       "      <td>0</td>\n",
       "      <td>0.11</td>\n",
       "      <td>N</td>\n",
       "      <td>30</td>\n",
       "    </tr>\n",
       "    <tr>\n",
       "      <th>32577</th>\n",
       "      <td>54</td>\n",
       "      <td>120000</td>\n",
       "      <td>MORTGAGE</td>\n",
       "      <td>4.0</td>\n",
       "      <td>PERSONAL</td>\n",
       "      <td>A</td>\n",
       "      <td>17625</td>\n",
       "      <td>7.49</td>\n",
       "      <td>0</td>\n",
       "      <td>0.15</td>\n",
       "      <td>N</td>\n",
       "      <td>19</td>\n",
       "    </tr>\n",
       "    <tr>\n",
       "      <th>32578</th>\n",
       "      <td>65</td>\n",
       "      <td>76000</td>\n",
       "      <td>RENT</td>\n",
       "      <td>3.0</td>\n",
       "      <td>HOMEIMPROVEMENT</td>\n",
       "      <td>B</td>\n",
       "      <td>35000</td>\n",
       "      <td>10.99</td>\n",
       "      <td>1</td>\n",
       "      <td>0.46</td>\n",
       "      <td>N</td>\n",
       "      <td>28</td>\n",
       "    </tr>\n",
       "    <tr>\n",
       "      <th>32579</th>\n",
       "      <td>56</td>\n",
       "      <td>150000</td>\n",
       "      <td>MORTGAGE</td>\n",
       "      <td>5.0</td>\n",
       "      <td>PERSONAL</td>\n",
       "      <td>B</td>\n",
       "      <td>15000</td>\n",
       "      <td>11.48</td>\n",
       "      <td>0</td>\n",
       "      <td>0.10</td>\n",
       "      <td>N</td>\n",
       "      <td>26</td>\n",
       "    </tr>\n",
       "    <tr>\n",
       "      <th>32580</th>\n",
       "      <td>66</td>\n",
       "      <td>42000</td>\n",
       "      <td>RENT</td>\n",
       "      <td>2.0</td>\n",
       "      <td>MEDICAL</td>\n",
       "      <td>B</td>\n",
       "      <td>6475</td>\n",
       "      <td>9.99</td>\n",
       "      <td>0</td>\n",
       "      <td>0.15</td>\n",
       "      <td>N</td>\n",
       "      <td>30</td>\n",
       "    </tr>\n",
       "  </tbody>\n",
       "</table>\n",
       "</div>"
      ],
      "text/plain": [
       "       person_age  person_income person_home_ownership  person_emp_length  \\\n",
       "32576          57          53000              MORTGAGE                1.0   \n",
       "32577          54         120000              MORTGAGE                4.0   \n",
       "32578          65          76000                  RENT                3.0   \n",
       "32579          56         150000              MORTGAGE                5.0   \n",
       "32580          66          42000                  RENT                2.0   \n",
       "\n",
       "           loan_intent loan_grade  loan_amnt  loan_int_rate  loan_status  \\\n",
       "32576         PERSONAL          C       5800          13.16            0   \n",
       "32577         PERSONAL          A      17625           7.49            0   \n",
       "32578  HOMEIMPROVEMENT          B      35000          10.99            1   \n",
       "32579         PERSONAL          B      15000          11.48            0   \n",
       "32580          MEDICAL          B       6475           9.99            0   \n",
       "\n",
       "       loan_percent_income cb_person_default_on_file  \\\n",
       "32576                 0.11                         N   \n",
       "32577                 0.15                         N   \n",
       "32578                 0.46                         N   \n",
       "32579                 0.10                         N   \n",
       "32580                 0.15                         N   \n",
       "\n",
       "       cb_person_cred_hist_length  \n",
       "32576                          30  \n",
       "32577                          19  \n",
       "32578                          28  \n",
       "32579                          26  \n",
       "32580                          30  "
      ]
     },
     "execution_count": 85,
     "metadata": {},
     "output_type": "execute_result"
    }
   ],
   "source": [
    "df.tail()"
   ]
  },
  {
   "cell_type": "code",
   "execution_count": 86,
   "metadata": {},
   "outputs": [
    {
     "data": {
      "text/plain": [
       "(32581, 12)"
      ]
     },
     "execution_count": 86,
     "metadata": {},
     "output_type": "execute_result"
    }
   ],
   "source": [
    "# Tamaño del dataset\n",
    "df.shape"
   ]
  },
  {
   "cell_type": "code",
   "execution_count": 87,
   "metadata": {},
   "outputs": [
    {
     "name": "stdout",
     "output_type": "stream",
     "text": [
      "<class 'pandas.core.frame.DataFrame'>\n",
      "RangeIndex: 32581 entries, 0 to 32580\n",
      "Data columns (total 12 columns):\n",
      " #   Column                      Non-Null Count  Dtype  \n",
      "---  ------                      --------------  -----  \n",
      " 0   person_age                  32581 non-null  int64  \n",
      " 1   person_income               32581 non-null  int64  \n",
      " 2   person_home_ownership       32581 non-null  object \n",
      " 3   person_emp_length           31686 non-null  float64\n",
      " 4   loan_intent                 32581 non-null  object \n",
      " 5   loan_grade                  32581 non-null  object \n",
      " 6   loan_amnt                   32581 non-null  int64  \n",
      " 7   loan_int_rate               29465 non-null  float64\n",
      " 8   loan_status                 32581 non-null  int64  \n",
      " 9   loan_percent_income         32581 non-null  float64\n",
      " 10  cb_person_default_on_file   32581 non-null  object \n",
      " 11  cb_person_cred_hist_length  32581 non-null  int64  \n",
      "dtypes: float64(3), int64(5), object(4)\n",
      "memory usage: 3.0+ MB\n"
     ]
    }
   ],
   "source": [
    "#informacion general del dataset\n",
    "df.info()"
   ]
  },
  {
   "cell_type": "markdown",
   "metadata": {},
   "source": [
    "### Queremos borrar los valores NA o nulos en la base de datos para eso primero tenemos que ver cuantos datos NA hay."
   ]
  },
  {
   "cell_type": "code",
   "execution_count": 88,
   "metadata": {},
   "outputs": [
    {
     "data": {
      "text/plain": [
       "person_age                       0\n",
       "person_income                    0\n",
       "person_home_ownership            0\n",
       "person_emp_length              895\n",
       "loan_intent                      0\n",
       "loan_grade                       0\n",
       "loan_amnt                        0\n",
       "loan_int_rate                 3116\n",
       "loan_status                      0\n",
       "loan_percent_income              0\n",
       "cb_person_default_on_file        0\n",
       "cb_person_cred_hist_length       0\n",
       "dtype: int64"
      ]
     },
     "execution_count": 88,
     "metadata": {},
     "output_type": "execute_result"
    }
   ],
   "source": [
    "#conteo de valores nulos\n",
    "df.isnull().sum()"
   ]
  },
  {
   "cell_type": "code",
   "execution_count": 89,
   "metadata": {},
   "outputs": [
    {
     "data": {
      "text/plain": [
       "person_age                    0\n",
       "person_income                 0\n",
       "person_home_ownership         0\n",
       "person_emp_length             0\n",
       "loan_intent                   0\n",
       "loan_grade                    0\n",
       "loan_amnt                     0\n",
       "loan_int_rate                 0\n",
       "loan_status                   0\n",
       "loan_percent_income           0\n",
       "cb_person_default_on_file     0\n",
       "cb_person_cred_hist_length    0\n",
       "dtype: int64"
      ]
     },
     "execution_count": 89,
     "metadata": {},
     "output_type": "execute_result"
    }
   ],
   "source": [
    "#Eliminar filas con valores nulos y verificar\n",
    "df = df.dropna().reset_index(drop=True)\n",
    "df.isnull().sum()"
   ]
  },
  {
   "cell_type": "code",
   "execution_count": 90,
   "metadata": {},
   "outputs": [
    {
     "data": {
      "text/plain": [
       "person_age                      57\n",
       "person_income                 3835\n",
       "person_home_ownership            4\n",
       "person_emp_length               36\n",
       "loan_intent                      6\n",
       "loan_grade                       7\n",
       "loan_amnt                      728\n",
       "loan_int_rate                  348\n",
       "loan_status                      2\n",
       "loan_percent_income             77\n",
       "cb_person_default_on_file        2\n",
       "cb_person_cred_hist_length      29\n",
       "dtype: int64"
      ]
     },
     "execution_count": 90,
     "metadata": {},
     "output_type": "execute_result"
    }
   ],
   "source": [
    "#conteo de valores unicos\n",
    "df.nunique()"
   ]
  },
  {
   "cell_type": "code",
   "execution_count": 91,
   "metadata": {},
   "outputs": [
    {
     "data": {
      "text/html": [
       "<div>\n",
       "<style scoped>\n",
       "    .dataframe tbody tr th:only-of-type {\n",
       "        vertical-align: middle;\n",
       "    }\n",
       "\n",
       "    .dataframe tbody tr th {\n",
       "        vertical-align: top;\n",
       "    }\n",
       "\n",
       "    .dataframe thead th {\n",
       "        text-align: right;\n",
       "    }\n",
       "</style>\n",
       "<table border=\"1\" class=\"dataframe\">\n",
       "  <thead>\n",
       "    <tr style=\"text-align: right;\">\n",
       "      <th></th>\n",
       "      <th>person_age</th>\n",
       "      <th>person_income</th>\n",
       "      <th>person_emp_length</th>\n",
       "      <th>loan_amnt</th>\n",
       "      <th>loan_int_rate</th>\n",
       "      <th>loan_status</th>\n",
       "      <th>loan_percent_income</th>\n",
       "      <th>cb_person_cred_hist_length</th>\n",
       "    </tr>\n",
       "  </thead>\n",
       "  <tbody>\n",
       "    <tr>\n",
       "      <th>count</th>\n",
       "      <td>28638.000000</td>\n",
       "      <td>2.863800e+04</td>\n",
       "      <td>28638.000000</td>\n",
       "      <td>28638.000000</td>\n",
       "      <td>28638.000000</td>\n",
       "      <td>28638.000000</td>\n",
       "      <td>28638.000000</td>\n",
       "      <td>28638.000000</td>\n",
       "    </tr>\n",
       "    <tr>\n",
       "      <th>mean</th>\n",
       "      <td>27.727216</td>\n",
       "      <td>6.664937e+04</td>\n",
       "      <td>4.788672</td>\n",
       "      <td>9656.493121</td>\n",
       "      <td>11.039867</td>\n",
       "      <td>0.216600</td>\n",
       "      <td>0.169488</td>\n",
       "      <td>5.793736</td>\n",
       "    </tr>\n",
       "    <tr>\n",
       "      <th>std</th>\n",
       "      <td>6.310441</td>\n",
       "      <td>6.235645e+04</td>\n",
       "      <td>4.154627</td>\n",
       "      <td>6329.683361</td>\n",
       "      <td>3.229372</td>\n",
       "      <td>0.411935</td>\n",
       "      <td>0.106393</td>\n",
       "      <td>4.038483</td>\n",
       "    </tr>\n",
       "    <tr>\n",
       "      <th>min</th>\n",
       "      <td>20.000000</td>\n",
       "      <td>4.000000e+03</td>\n",
       "      <td>0.000000</td>\n",
       "      <td>500.000000</td>\n",
       "      <td>5.420000</td>\n",
       "      <td>0.000000</td>\n",
       "      <td>0.000000</td>\n",
       "      <td>2.000000</td>\n",
       "    </tr>\n",
       "    <tr>\n",
       "      <th>25%</th>\n",
       "      <td>23.000000</td>\n",
       "      <td>3.948000e+04</td>\n",
       "      <td>2.000000</td>\n",
       "      <td>5000.000000</td>\n",
       "      <td>7.900000</td>\n",
       "      <td>0.000000</td>\n",
       "      <td>0.090000</td>\n",
       "      <td>3.000000</td>\n",
       "    </tr>\n",
       "    <tr>\n",
       "      <th>50%</th>\n",
       "      <td>26.000000</td>\n",
       "      <td>5.595600e+04</td>\n",
       "      <td>4.000000</td>\n",
       "      <td>8000.000000</td>\n",
       "      <td>10.990000</td>\n",
       "      <td>0.000000</td>\n",
       "      <td>0.150000</td>\n",
       "      <td>4.000000</td>\n",
       "    </tr>\n",
       "    <tr>\n",
       "      <th>75%</th>\n",
       "      <td>30.000000</td>\n",
       "      <td>8.000000e+04</td>\n",
       "      <td>7.000000</td>\n",
       "      <td>12500.000000</td>\n",
       "      <td>13.480000</td>\n",
       "      <td>0.000000</td>\n",
       "      <td>0.230000</td>\n",
       "      <td>8.000000</td>\n",
       "    </tr>\n",
       "    <tr>\n",
       "      <th>max</th>\n",
       "      <td>144.000000</td>\n",
       "      <td>6.000000e+06</td>\n",
       "      <td>123.000000</td>\n",
       "      <td>35000.000000</td>\n",
       "      <td>23.220000</td>\n",
       "      <td>1.000000</td>\n",
       "      <td>0.830000</td>\n",
       "      <td>30.000000</td>\n",
       "    </tr>\n",
       "  </tbody>\n",
       "</table>\n",
       "</div>"
      ],
      "text/plain": [
       "         person_age  person_income  person_emp_length     loan_amnt  \\\n",
       "count  28638.000000   2.863800e+04       28638.000000  28638.000000   \n",
       "mean      27.727216   6.664937e+04           4.788672   9656.493121   \n",
       "std        6.310441   6.235645e+04           4.154627   6329.683361   \n",
       "min       20.000000   4.000000e+03           0.000000    500.000000   \n",
       "25%       23.000000   3.948000e+04           2.000000   5000.000000   \n",
       "50%       26.000000   5.595600e+04           4.000000   8000.000000   \n",
       "75%       30.000000   8.000000e+04           7.000000  12500.000000   \n",
       "max      144.000000   6.000000e+06         123.000000  35000.000000   \n",
       "\n",
       "       loan_int_rate   loan_status  loan_percent_income  \\\n",
       "count   28638.000000  28638.000000         28638.000000   \n",
       "mean       11.039867      0.216600             0.169488   \n",
       "std         3.229372      0.411935             0.106393   \n",
       "min         5.420000      0.000000             0.000000   \n",
       "25%         7.900000      0.000000             0.090000   \n",
       "50%        10.990000      0.000000             0.150000   \n",
       "75%        13.480000      0.000000             0.230000   \n",
       "max        23.220000      1.000000             0.830000   \n",
       "\n",
       "       cb_person_cred_hist_length  \n",
       "count                28638.000000  \n",
       "mean                     5.793736  \n",
       "std                      4.038483  \n",
       "min                      2.000000  \n",
       "25%                      3.000000  \n",
       "50%                      4.000000  \n",
       "75%                      8.000000  \n",
       "max                     30.000000  "
      ]
     },
     "execution_count": 91,
     "metadata": {},
     "output_type": "execute_result"
    }
   ],
   "source": [
    "#Estadisticos descriptivos para variables numericas\n",
    "df.describe()"
   ]
  },
  {
   "cell_type": "code",
   "execution_count": 92,
   "metadata": {},
   "outputs": [
    {
     "data": {
      "text/html": [
       "<div>\n",
       "<style scoped>\n",
       "    .dataframe tbody tr th:only-of-type {\n",
       "        vertical-align: middle;\n",
       "    }\n",
       "\n",
       "    .dataframe tbody tr th {\n",
       "        vertical-align: top;\n",
       "    }\n",
       "\n",
       "    .dataframe thead th {\n",
       "        text-align: right;\n",
       "    }\n",
       "</style>\n",
       "<table border=\"1\" class=\"dataframe\">\n",
       "  <thead>\n",
       "    <tr style=\"text-align: right;\">\n",
       "      <th></th>\n",
       "      <th>person_home_ownership</th>\n",
       "      <th>loan_intent</th>\n",
       "      <th>loan_grade</th>\n",
       "      <th>cb_person_default_on_file</th>\n",
       "    </tr>\n",
       "  </thead>\n",
       "  <tbody>\n",
       "    <tr>\n",
       "      <th>count</th>\n",
       "      <td>28638</td>\n",
       "      <td>28638</td>\n",
       "      <td>28638</td>\n",
       "      <td>28638</td>\n",
       "    </tr>\n",
       "    <tr>\n",
       "      <th>unique</th>\n",
       "      <td>4</td>\n",
       "      <td>6</td>\n",
       "      <td>7</td>\n",
       "      <td>2</td>\n",
       "    </tr>\n",
       "    <tr>\n",
       "      <th>top</th>\n",
       "      <td>RENT</td>\n",
       "      <td>EDUCATION</td>\n",
       "      <td>A</td>\n",
       "      <td>N</td>\n",
       "    </tr>\n",
       "    <tr>\n",
       "      <th>freq</th>\n",
       "      <td>14551</td>\n",
       "      <td>5704</td>\n",
       "      <td>9402</td>\n",
       "      <td>23535</td>\n",
       "    </tr>\n",
       "  </tbody>\n",
       "</table>\n",
       "</div>"
      ],
      "text/plain": [
       "       person_home_ownership loan_intent loan_grade cb_person_default_on_file\n",
       "count                  28638       28638      28638                     28638\n",
       "unique                     4           6          7                         2\n",
       "top                     RENT   EDUCATION          A                         N\n",
       "freq                   14551        5704       9402                     23535"
      ]
     },
     "execution_count": 92,
     "metadata": {},
     "output_type": "execute_result"
    }
   ],
   "source": [
    "#Estadisticos descriptivos para variables categoricas\n",
    "df.describe(include=['object'])"
   ]
  },
  {
   "cell_type": "code",
   "execution_count": 93,
   "metadata": {},
   "outputs": [
    {
     "data": {
      "text/plain": [
       "137"
      ]
     },
     "execution_count": 93,
     "metadata": {},
     "output_type": "execute_result"
    }
   ],
   "source": [
    "#Verificar si hay valores duplicados\n",
    "df.duplicated().sum()"
   ]
  },
  {
   "cell_type": "markdown",
   "metadata": {},
   "source": [
    "### Una vez revisado datos unicos buscamos eliminar datos duplicados en la base de datos"
   ]
  },
  {
   "cell_type": "code",
   "execution_count": 94,
   "metadata": {},
   "outputs": [],
   "source": [
    "#Eliminar valores duplicados\n",
    "df.drop_duplicates(inplace=True)"
   ]
  },
  {
   "cell_type": "code",
   "execution_count": 95,
   "metadata": {},
   "outputs": [
    {
     "data": {
      "text/plain": [
       "(28501, 12)"
      ]
     },
     "execution_count": 95,
     "metadata": {},
     "output_type": "execute_result"
    }
   ],
   "source": [
    "#Verificar que se eliminaron los valores duplicados\n",
    "df.shape"
   ]
  },
  {
   "cell_type": "markdown",
   "metadata": {},
   "source": [
    "\n",
    "### Revisamos como se distribuyen los datos númericos para ver si encontramos algún posible outlier a traves de sus graficas."
   ]
  },
  {
   "cell_type": "code",
   "execution_count": 96,
   "metadata": {},
   "outputs": [
    {
     "name": "stderr",
     "output_type": "stream",
     "text": [
      "c:\\Users\\pixel\\anaconda3\\lib\\site-packages\\seaborn\\_oldcore.py:1498: FutureWarning: is_categorical_dtype is deprecated and will be removed in a future version. Use isinstance(dtype, CategoricalDtype) instead\n",
      "  if pd.api.types.is_categorical_dtype(vector):\n",
      "c:\\Users\\pixel\\anaconda3\\lib\\site-packages\\seaborn\\_oldcore.py:1119: FutureWarning: use_inf_as_na option is deprecated and will be removed in a future version. Convert inf values to NaN before operating instead.\n",
      "  with pd.option_context('mode.use_inf_as_na', True):\n"
     ]
    },
    {
     "data": {
      "image/png": "[encoded data removed]",
      "text/plain": [
       "<Figure size 1080x360 with 1 Axes>"
      ]
     },
     "metadata": {},
     "output_type": "display_data"
    }
   ],
   "source": [
    "#Grafico de la variable person_income para ver su distribucion\n",
    "sns.displot(df['person_income'], aspect=3, bins=100)\n",
    "plt.show()"
   ]
  },
  {
   "cell_type": "code",
   "execution_count": 97,
   "metadata": {},
   "outputs": [
    {
     "name": "stderr",
     "output_type": "stream",
     "text": [
      "c:\\Users\\pixel\\anaconda3\\lib\\site-packages\\seaborn\\_oldcore.py:1498: FutureWarning: is_categorical_dtype is deprecated and will be removed in a future version. Use isinstance(dtype, CategoricalDtype) instead\n",
      "  if pd.api.types.is_categorical_dtype(vector):\n",
      "c:\\Users\\pixel\\anaconda3\\lib\\site-packages\\seaborn\\_oldcore.py:1119: FutureWarning: use_inf_as_na option is deprecated and will be removed in a future version. Convert inf values to NaN before operating instead.\n",
      "  with pd.option_context('mode.use_inf_as_na', True):\n"
     ]
    },
    {
     "data": {
      "image/png": "[encoded data removed]",
      "text/plain": [
       "<Figure size 1080x360 with 1 Axes>"
      ]
     },
     "metadata": {},
     "output_type": "display_data"
    }
   ],
   "source": [
    "#Grafico de la variable loan_amnt para ver su distribucion\n",
    "sns.displot(df['loan_amnt'], aspect=3, bins=100)\n",
    "plt.show()"
   ]
  },
  {
   "cell_type": "code",
   "execution_count": 98,
   "metadata": {},
   "outputs": [
    {
     "name": "stderr",
     "output_type": "stream",
     "text": [
      "c:\\Users\\pixel\\anaconda3\\lib\\site-packages\\seaborn\\_oldcore.py:1498: FutureWarning: is_categorical_dtype is deprecated and will be removed in a future version. Use isinstance(dtype, CategoricalDtype) instead\n",
      "  if pd.api.types.is_categorical_dtype(vector):\n",
      "c:\\Users\\pixel\\anaconda3\\lib\\site-packages\\seaborn\\_oldcore.py:1119: FutureWarning: use_inf_as_na option is deprecated and will be removed in a future version. Convert inf values to NaN before operating instead.\n",
      "  with pd.option_context('mode.use_inf_as_na', True):\n"
     ]
    },
    {
     "data": {
      "image/png": "[encoded data removed]",
      "text/plain": [
       "<Figure size 1080x360 with 1 Axes>"
      ]
     },
     "metadata": {},
     "output_type": "display_data"
    }
   ],
   "source": [
    "#Grafico de la variable person_age para ver su distribucion\n",
    "sns.displot(df['person_age'], kde=False, bins=100, aspect=3)\n",
    "plt.show()"
   ]
  },
  {
   "cell_type": "code",
   "execution_count": 99,
   "metadata": {},
   "outputs": [
    {
     "name": "stderr",
     "output_type": "stream",
     "text": [
      "c:\\Users\\pixel\\anaconda3\\lib\\site-packages\\seaborn\\_oldcore.py:1498: FutureWarning: is_categorical_dtype is deprecated and will be removed in a future version. Use isinstance(dtype, CategoricalDtype) instead\n",
      "  if pd.api.types.is_categorical_dtype(vector):\n"
     ]
    },
    {
     "data": {
      "image/png": "[encoded data removed]",
      "text/plain": [
       "<Figure size 864x432 with 1 Axes>"
      ]
     },
     "metadata": {},
     "output_type": "display_data"
    }
   ],
   "source": [
    "#Grafico de caja de la variable person_age para verificar outliers\n",
    "fig, ax = plt.subplots(figsize=(12, 6))\n",
    "sns.boxplot(x=df['person_age'])\n",
    "plt.show()"
   ]
  },
  {
   "cell_type": "markdown",
   "metadata": {},
   "source": [
    "### En el grafico no se observan datos erroneos relacionados con la edad. En la tabla relacionada a los estadisticos descriptivos se observa un valor maximo de 144 para la variable graficada lo cual es un valor incorrecto y que debe ser corregido. Ademas en el boxplot se puede verificar la existencia de datos outliers."
   ]
  },
  {
   "cell_type": "code",
   "execution_count": 100,
   "metadata": {},
   "outputs": [
    {
     "data": {
      "text/plain": [
       "58"
      ]
     },
     "execution_count": 100,
     "metadata": {},
     "output_type": "execute_result"
    }
   ],
   "source": [
    "#Verificar cuantas entradas de la variable person_age son mayores a 60\n",
    "df[df['person_age'] > 60]['person_age'].count()"
   ]
  },
  {
   "cell_type": "code",
   "execution_count": 101,
   "metadata": {},
   "outputs": [],
   "source": [
    "#eliminar las entradas de la variable person_age mayores a 60\n",
    "df = df[df['person_age'] <= 60]"
   ]
  },
  {
   "cell_type": "markdown",
   "metadata": {},
   "source": [
    "### El mismo proceso se realiza para la variable person_emp_length"
   ]
  },
  {
   "cell_type": "code",
   "execution_count": 102,
   "metadata": {},
   "outputs": [
    {
     "name": "stderr",
     "output_type": "stream",
     "text": [
      "c:\\Users\\pixel\\anaconda3\\lib\\site-packages\\seaborn\\_oldcore.py:1498: FutureWarning: is_categorical_dtype is deprecated and will be removed in a future version. Use isinstance(dtype, CategoricalDtype) instead\n",
      "  if pd.api.types.is_categorical_dtype(vector):\n",
      "c:\\Users\\pixel\\anaconda3\\lib\\site-packages\\seaborn\\_oldcore.py:1119: FutureWarning: use_inf_as_na option is deprecated and will be removed in a future version. Convert inf values to NaN before operating instead.\n",
      "  with pd.option_context('mode.use_inf_as_na', True):\n"
     ]
    },
    {
     "data": {
      "image/png": "[encoded data removed]",
      "text/plain": [
       "<Figure size 1080x360 with 1 Axes>"
      ]
     },
     "metadata": {},
     "output_type": "display_data"
    }
   ],
   "source": [
    "#Grafico de la variable person_emp_length para ver su distribucion\n",
    "sns.displot(df['person_emp_length'], kde=False, bins=100, aspect=3)\n",
    "plt.show()"
   ]
  },
  {
   "cell_type": "code",
   "execution_count": 103,
   "metadata": {},
   "outputs": [
    {
     "name": "stderr",
     "output_type": "stream",
     "text": [
      "c:\\Users\\pixel\\anaconda3\\lib\\site-packages\\seaborn\\_oldcore.py:1498: FutureWarning: is_categorical_dtype is deprecated and will be removed in a future version. Use isinstance(dtype, CategoricalDtype) instead\n",
      "  if pd.api.types.is_categorical_dtype(vector):\n"
     ]
    },
    {
     "data": {
      "image/png": "[encoded data removed]",
      "text/plain": [
       "<Figure size 864x432 with 1 Axes>"
      ]
     },
     "metadata": {},
     "output_type": "display_data"
    }
   ],
   "source": [
    "#Grafico de caja de la variable person_emp_lenght para verificar outliers\n",
    "fig, ax = plt.subplots(figsize=(12, 6))\n",
    "sns.boxplot(x=df['person_emp_length'])\n",
    "plt.show()"
   ]
  },
  {
   "cell_type": "markdown",
   "metadata": {},
   "source": [
    "### En el grafico no se observan datos erroneos relacionados con los años que el usuario ha trabajado. En la tabla relacionada a los estadisticos descriptivos se observa un valor maximo de 123 años para la variable graficada lo cual es un valor incorrecto y que debe ser corregido. Ademas en el boxplot se puede verificar la existencia de datos outliers."
   ]
  },
  {
   "cell_type": "code",
   "execution_count": 104,
   "metadata": {},
   "outputs": [
    {
     "data": {
      "text/plain": [
       "8"
      ]
     },
     "execution_count": 104,
     "metadata": {},
     "output_type": "execute_result"
    }
   ],
   "source": [
    "#Verificar cuantas entradas de la variable person_emp_length son mayores a 40\n",
    "df[df['person_emp_length'] > 30]['person_emp_length'].count()"
   ]
  },
  {
   "cell_type": "code",
   "execution_count": 105,
   "metadata": {},
   "outputs": [],
   "source": [
    "#eliminar las entradas de la variable person_emp_length mayores a 40\n",
    "df = df[df['person_emp_length'] <= 30]"
   ]
  },
  {
   "cell_type": "markdown",
   "metadata": {},
   "source": [
    "# Discretizacion de datos"
   ]
  },
  {
   "cell_type": "markdown",
   "metadata": {},
   "source": [
    "### Se discretizaran las siguientes variables continuas (\tperson_age\tperson_income loan_amnt), agrupando sus valores en categorias especificas "
   ]
  },
  {
   "cell_type": "markdown",
   "metadata": {},
   "source": [
    "## Analisis de rangos"
   ]
  },
  {
   "cell_type": "code",
   "execution_count": 106,
   "metadata": {},
   "outputs": [
    {
     "name": "stdout",
     "output_type": "stream",
     "text": [
      "cantidad de datos entre 20 y 25 = 13389\n",
      "cantidad de datos entre 25 y 30 = 10983\n",
      "cantidad de datos entre 30 y inf = 7871\n"
     ]
    }
   ],
   "source": [
    "# analizar posibles rangos y cantidad de datos en cada rango para la columna person_age\n",
    "def age_group(arr):\n",
    "  for i in range(len(arr)-1):\n",
    "    next_value = arr[i+1]\n",
    "    values = df['person_age'].between(arr[i], next_value, inclusive='both').sum()\n",
    "    print(f'cantidad de datos entre {arr[i]} y {arr[i+1]} = {values}')\n",
    "age_group([20, 25, 30, float('inf')])"
   ]
  },
  {
   "cell_type": "code",
   "execution_count": 107,
   "metadata": {},
   "outputs": [
    {
     "name": "stdout",
     "output_type": "stream",
     "text": [
      "cantidad de datos entre 4000 y 30000 = 3721\n",
      "cantidad de datos entre 30000 y 50000 = 9084\n",
      "cantidad de datos entre 50000 y 70000 = 7715\n",
      "cantidad de datos entre 70000 y 100000 = 6075\n",
      "cantidad de datos entre 100000 y 2039784 = 4036\n"
     ]
    }
   ],
   "source": [
    "# analizar posibles rangos y cantidad de datos en cada rango para la columna person_income\n",
    "valor_max = df['person_income'].max()\n",
    "valor_min = df['person_income'].min()\n",
    "\n",
    "def income_group(arr):\n",
    "  for i in range(len(arr)-1):\n",
    "    next_value = arr[i+1]\n",
    "    values = df['person_income'].between(arr[i], next_value, inclusive='both').sum()\n",
    "    print(f'cantidad de datos entre {arr[i]} y {arr[i+1]} = {values}')\n",
    "    \n",
    "income_group([valor_min, 30000, 50000, 70000, 100000, valor_max])"
   ]
  },
  {
   "cell_type": "code",
   "execution_count": 108,
   "metadata": {},
   "outputs": [
    {
     "name": "stdout",
     "output_type": "stream",
     "text": [
      "cantidad de datos entre 500 y 5000 = 8125\n",
      "cantidad de datos entre 5000 y 10000 = 12310\n",
      "cantidad de datos entre 10000 y 15000 = 7708\n",
      "cantidad de datos entre 15000 y 35000 = 5710\n"
     ]
    }
   ],
   "source": [
    "#Analizar posibles rangos y cantidad de datos en cada rango para la columna loan_amnt\n",
    "valor_max = df['loan_amnt'].max()\n",
    "valor_min = df['loan_amnt'].min()\n",
    "def loan_group(arr):\n",
    "  for i in range(len(arr)-1):\n",
    "    next_value = arr[i+1]\n",
    "    values = df['loan_amnt'].between(arr[i], next_value, inclusive='both').sum()\n",
    "    print(f'cantidad de datos entre {arr[i]} y {arr[i+1]} = {values}')\n",
    "loan_group([valor_min, 5000, 10000, 15000, valor_max])"
   ]
  },
  {
   "cell_type": "markdown",
   "metadata": {},
   "source": [
    "## Creacion de nuevas variables"
   ]
  },
  {
   "cell_type": "code",
   "execution_count": 109,
   "metadata": {},
   "outputs": [],
   "source": [
    "#Creacion de la coluna age_group\n",
    "df['age_group'] = pd.cut(df['person_age'], bins=[20, 25, 30, np.inf], labels=['20-25', '25-30', '30+'], include_lowest=True)"
   ]
  },
  {
   "cell_type": "code",
   "execution_count": 110,
   "metadata": {},
   "outputs": [],
   "source": [
    "#Creacion de la coluna income_group\n",
    "df['income_group'] = pd.cut(df['person_income'], bins=[0, 30000, 50000, 70000, 100000, float('inf')], labels=['low', 'low-middle', 'middle', 'middle-high', 'high'])"
   ]
  },
  {
   "cell_type": "code",
   "execution_count": 111,
   "metadata": {},
   "outputs": [],
   "source": [
    "#Creacion de la coluna loan_group\n",
    "df['loan_group'] = pd.cut(df['loan_amnt'], bins=[0, 5000, 10000, 15000, float('inf')], labels=['small', 'medium', 'large', 'very large'])"
   ]
  },
  {
   "cell_type": "code",
   "execution_count": 112,
   "metadata": {},
   "outputs": [
    {
     "data": {
      "text/html": [
       "<div>\n",
       "<style scoped>\n",
       "    .dataframe tbody tr th:only-of-type {\n",
       "        vertical-align: middle;\n",
       "    }\n",
       "\n",
       "    .dataframe tbody tr th {\n",
       "        vertical-align: top;\n",
       "    }\n",
       "\n",
       "    .dataframe thead th {\n",
       "        text-align: right;\n",
       "    }\n",
       "</style>\n",
       "<table border=\"1\" class=\"dataframe\">\n",
       "  <thead>\n",
       "    <tr style=\"text-align: right;\">\n",
       "      <th></th>\n",
       "      <th>age_group</th>\n",
       "      <th>loan_group</th>\n",
       "      <th>income_group</th>\n",
       "    </tr>\n",
       "  </thead>\n",
       "  <tbody>\n",
       "    <tr>\n",
       "      <th>1</th>\n",
       "      <td>20-25</td>\n",
       "      <td>small</td>\n",
       "      <td>low</td>\n",
       "    </tr>\n",
       "    <tr>\n",
       "      <th>2</th>\n",
       "      <td>20-25</td>\n",
       "      <td>medium</td>\n",
       "      <td>low</td>\n",
       "    </tr>\n",
       "    <tr>\n",
       "      <th>3</th>\n",
       "      <td>20-25</td>\n",
       "      <td>very large</td>\n",
       "      <td>middle</td>\n",
       "    </tr>\n",
       "    <tr>\n",
       "      <th>4</th>\n",
       "      <td>20-25</td>\n",
       "      <td>very large</td>\n",
       "      <td>middle</td>\n",
       "    </tr>\n",
       "    <tr>\n",
       "      <th>5</th>\n",
       "      <td>20-25</td>\n",
       "      <td>small</td>\n",
       "      <td>low</td>\n",
       "    </tr>\n",
       "  </tbody>\n",
       "</table>\n",
       "</div>"
      ],
      "text/plain": [
       "  age_group  loan_group income_group\n",
       "1     20-25       small          low\n",
       "2     20-25      medium          low\n",
       "3     20-25  very large       middle\n",
       "4     20-25  very large       middle\n",
       "5     20-25       small          low"
      ]
     },
     "execution_count": 112,
     "metadata": {},
     "output_type": "execute_result"
    }
   ],
   "source": [
    "#Verificar que se crearon las columnas en el dataset principal\n",
    "df[['age_group','loan_group','income_group']].head()"
   ]
  },
  {
   "cell_type": "markdown",
   "metadata": {},
   "source": [
    "## Transformacion de variables categoricas en continuas para observar las correlaciones existentes"
   ]
  },
  {
   "cell_type": "markdown",
   "metadata": {},
   "source": [
    "\n",
    "### Creamos un encoder para codificar las variables que son categoricas"
   ]
  },
  {
   "cell_type": "code",
   "execution_count": 113,
   "metadata": {},
   "outputs": [],
   "source": [
    "#Creacion del encoder para las variables categoricas\n",
    "encoder = OrdinalEncoder()"
   ]
  },
  {
   "cell_type": "code",
   "execution_count": 114,
   "metadata": {},
   "outputs": [],
   "source": [
    "#Seleccion de variables categoricas\n",
    "cat_cols = df.select_dtypes(include=['object', 'category']).columns"
   ]
  },
  {
   "cell_type": "code",
   "execution_count": 115,
   "metadata": {},
   "outputs": [],
   "source": [
    "#Copiar el dataset en un nuevo dataframe\n",
    "df2 = df.copy()"
   ]
  },
  {
   "cell_type": "code",
   "execution_count": 116,
   "metadata": {},
   "outputs": [],
   "source": [
    "#Aplicar el encoder a las variables categoricas\n",
    "df2[cat_cols] = encoder.fit_transform(df2[cat_cols])"
   ]
  },
  {
   "cell_type": "code",
   "execution_count": 117,
   "metadata": {},
   "outputs": [
    {
     "data": {
      "text/html": [
       "<div>\n",
       "<style scoped>\n",
       "    .dataframe tbody tr th:only-of-type {\n",
       "        vertical-align: middle;\n",
       "    }\n",
       "\n",
       "    .dataframe tbody tr th {\n",
       "        vertical-align: top;\n",
       "    }\n",
       "\n",
       "    .dataframe thead th {\n",
       "        text-align: right;\n",
       "    }\n",
       "</style>\n",
       "<table border=\"1\" class=\"dataframe\">\n",
       "  <thead>\n",
       "    <tr style=\"text-align: right;\">\n",
       "      <th></th>\n",
       "      <th>person_age</th>\n",
       "      <th>person_income</th>\n",
       "      <th>person_home_ownership</th>\n",
       "      <th>person_emp_length</th>\n",
       "      <th>loan_intent</th>\n",
       "      <th>loan_grade</th>\n",
       "      <th>loan_amnt</th>\n",
       "      <th>loan_int_rate</th>\n",
       "      <th>loan_status</th>\n",
       "      <th>loan_percent_income</th>\n",
       "      <th>cb_person_default_on_file</th>\n",
       "      <th>cb_person_cred_hist_length</th>\n",
       "      <th>age_group</th>\n",
       "      <th>income_group</th>\n",
       "      <th>loan_group</th>\n",
       "    </tr>\n",
       "  </thead>\n",
       "  <tbody>\n",
       "    <tr>\n",
       "      <th>1</th>\n",
       "      <td>21</td>\n",
       "      <td>9600</td>\n",
       "      <td>2.0</td>\n",
       "      <td>5.0</td>\n",
       "      <td>1.0</td>\n",
       "      <td>1.0</td>\n",
       "      <td>1000</td>\n",
       "      <td>11.14</td>\n",
       "      <td>0</td>\n",
       "      <td>0.10</td>\n",
       "      <td>0.0</td>\n",
       "      <td>2</td>\n",
       "      <td>0.0</td>\n",
       "      <td>1.0</td>\n",
       "      <td>2.0</td>\n",
       "    </tr>\n",
       "    <tr>\n",
       "      <th>2</th>\n",
       "      <td>25</td>\n",
       "      <td>9600</td>\n",
       "      <td>0.0</td>\n",
       "      <td>1.0</td>\n",
       "      <td>3.0</td>\n",
       "      <td>2.0</td>\n",
       "      <td>5500</td>\n",
       "      <td>12.87</td>\n",
       "      <td>1</td>\n",
       "      <td>0.57</td>\n",
       "      <td>0.0</td>\n",
       "      <td>3</td>\n",
       "      <td>0.0</td>\n",
       "      <td>1.0</td>\n",
       "      <td>1.0</td>\n",
       "    </tr>\n",
       "    <tr>\n",
       "      <th>3</th>\n",
       "      <td>23</td>\n",
       "      <td>65500</td>\n",
       "      <td>3.0</td>\n",
       "      <td>4.0</td>\n",
       "      <td>3.0</td>\n",
       "      <td>2.0</td>\n",
       "      <td>35000</td>\n",
       "      <td>15.23</td>\n",
       "      <td>1</td>\n",
       "      <td>0.53</td>\n",
       "      <td>0.0</td>\n",
       "      <td>2</td>\n",
       "      <td>0.0</td>\n",
       "      <td>3.0</td>\n",
       "      <td>3.0</td>\n",
       "    </tr>\n",
       "    <tr>\n",
       "      <th>4</th>\n",
       "      <td>24</td>\n",
       "      <td>54400</td>\n",
       "      <td>3.0</td>\n",
       "      <td>8.0</td>\n",
       "      <td>3.0</td>\n",
       "      <td>2.0</td>\n",
       "      <td>35000</td>\n",
       "      <td>14.27</td>\n",
       "      <td>1</td>\n",
       "      <td>0.55</td>\n",
       "      <td>1.0</td>\n",
       "      <td>4</td>\n",
       "      <td>0.0</td>\n",
       "      <td>3.0</td>\n",
       "      <td>3.0</td>\n",
       "    </tr>\n",
       "    <tr>\n",
       "      <th>5</th>\n",
       "      <td>21</td>\n",
       "      <td>9900</td>\n",
       "      <td>2.0</td>\n",
       "      <td>2.0</td>\n",
       "      <td>5.0</td>\n",
       "      <td>0.0</td>\n",
       "      <td>2500</td>\n",
       "      <td>7.14</td>\n",
       "      <td>1</td>\n",
       "      <td>0.25</td>\n",
       "      <td>0.0</td>\n",
       "      <td>2</td>\n",
       "      <td>0.0</td>\n",
       "      <td>1.0</td>\n",
       "      <td>2.0</td>\n",
       "    </tr>\n",
       "  </tbody>\n",
       "</table>\n",
       "</div>"
      ],
      "text/plain": [
       "   person_age  person_income  person_home_ownership  person_emp_length  \\\n",
       "1          21           9600                    2.0                5.0   \n",
       "2          25           9600                    0.0                1.0   \n",
       "3          23          65500                    3.0                4.0   \n",
       "4          24          54400                    3.0                8.0   \n",
       "5          21           9900                    2.0                2.0   \n",
       "\n",
       "   loan_intent  loan_grade  loan_amnt  loan_int_rate  loan_status  \\\n",
       "1          1.0         1.0       1000          11.14            0   \n",
       "2          3.0         2.0       5500          12.87            1   \n",
       "3          3.0         2.0      35000          15.23            1   \n",
       "4          3.0         2.0      35000          14.27            1   \n",
       "5          5.0         0.0       2500           7.14            1   \n",
       "\n",
       "   loan_percent_income  cb_person_default_on_file  cb_person_cred_hist_length  \\\n",
       "1                 0.10                        0.0                           2   \n",
       "2                 0.57                        0.0                           3   \n",
       "3                 0.53                        0.0                           2   \n",
       "4                 0.55                        1.0                           4   \n",
       "5                 0.25                        0.0                           2   \n",
       "\n",
       "   age_group  income_group  loan_group  \n",
       "1        0.0           1.0         2.0  \n",
       "2        0.0           1.0         1.0  \n",
       "3        0.0           3.0         3.0  \n",
       "4        0.0           3.0         3.0  \n",
       "5        0.0           1.0         2.0  "
      ]
     },
     "execution_count": 117,
     "metadata": {},
     "output_type": "execute_result"
    }
   ],
   "source": [
    "#Verificar que se aplico el encoder\n",
    "df2.head()"
   ]
  },
  {
   "cell_type": "code",
   "execution_count": 118,
   "metadata": {},
   "outputs": [
    {
     "data": {
      "image/png": "[encoded data removed]",
      "text/plain": [
       "<Figure size 864x720 with 2 Axes>"
      ]
     },
     "metadata": {},
     "output_type": "display_data"
    }
   ],
   "source": [
    "#Grafico de calor para ver la correlacion entre las variables numericas\n",
    "fig, ax = plt.subplots(figsize=(12, 10))\n",
    "sns.heatmap(df2.corr(numeric_only=True), annot=True)\n",
    "plt.show()"
   ]
  },
  {
   "cell_type": "markdown",
   "metadata": {},
   "source": [
    "### Se puede ver como los valores con mayor correlación entre si son los de person_age con age_group y cb_person_cred_hist_length, con age_group tiene sentido ya que esta variable fue creada en base de los rangos de person_age para cred history length seria debido a que para tener una historia creditica larga se tiene que primero tener bastante edad y vice versa. Ya para la relación con menor correlación esta se encuentra en person_income con un valor de -0.00013 en cb_person_cred_hist_lenght."
   ]
  },
  {
   "cell_type": "code",
   "execution_count": 119,
   "metadata": {},
   "outputs": [],
   "source": [
    "#Crear el Scaler\n",
    "scaler = MinMaxScaler()"
   ]
  },
  {
   "cell_type": "code",
   "execution_count": 120,
   "metadata": {},
   "outputs": [
    {
     "name": "stderr",
     "output_type": "stream",
     "text": [
      "c:\\Users\\pixel\\anaconda3\\lib\\site-packages\\sklearn\\utils\\validation.py:623: FutureWarning: is_sparse is deprecated and will be removed in a future version. Check `isinstance(dtype, pd.SparseDtype)` instead.\n",
      "  if not hasattr(array, \"sparse\") and array.dtypes.apply(is_sparse).any():\n"
     ]
    },
    {
     "data": {
      "text/plain": [
       "MinMaxScaler()"
      ]
     },
     "execution_count": 120,
     "metadata": {},
     "output_type": "execute_result"
    }
   ],
   "source": [
    "#Ajustar el scaler al dataset\n",
    "scaler.fit(df2)"
   ]
  },
  {
   "cell_type": "code",
   "execution_count": 121,
   "metadata": {},
   "outputs": [
    {
     "name": "stderr",
     "output_type": "stream",
     "text": [
      "c:\\Users\\pixel\\anaconda3\\lib\\site-packages\\sklearn\\utils\\validation.py:623: FutureWarning: is_sparse is deprecated and will be removed in a future version. Check `isinstance(dtype, pd.SparseDtype)` instead.\n",
      "  if not hasattr(array, \"sparse\") and array.dtypes.apply(is_sparse).any():\n"
     ]
    }
   ],
   "source": [
    "#Aplicar el scaler al dataset\n",
    "dataset_scalado = scaler.transform(df2)"
   ]
  },
  {
   "cell_type": "code",
   "execution_count": 122,
   "metadata": {},
   "outputs": [],
   "source": [
    "#Crear dataset con el scaler aplicado\n",
    "dataset_scalado = pd.DataFrame(dataset_scalado, columns=df2.columns)"
   ]
  },
  {
   "cell_type": "code",
   "execution_count": 123,
   "metadata": {},
   "outputs": [
    {
     "data": {
      "text/plain": [
       "['scaler.pkl']"
      ]
     },
     "execution_count": 123,
     "metadata": {},
     "output_type": "execute_result"
    }
   ],
   "source": [
    "#Exportar el scaler\n",
    "joblib.dump(scaler, 'scaler.pkl')"
   ]
  },
  {
   "cell_type": "markdown",
   "metadata": {},
   "source": [
    "## Pruebas de chi2"
   ]
  },
  {
   "cell_type": "markdown",
   "metadata": {},
   "source": [
    "#### Ahora haremos pruebas de chi2 y anova para determinar la independencia de las variables y su relativa importancio para el modelo de predicción"
   ]
  },
  {
   "cell_type": "markdown",
   "metadata": {},
   "source": [
    "#### Primero separaremos las variables categoricas de las númericas ya que chi2 sera para variables categoricas y ANOVA buscara representar las variables númericas"
   ]
  },
  {
   "cell_type": "code",
   "execution_count": 124,
   "metadata": {},
   "outputs": [],
   "source": [
    "#Separacion de las columnas categoricas y numericas\n",
    "var_cat=['person_home_ownership',\n",
    "         'loan_intent','loan_grade',\n",
    "         'cb_person_default_on_file',\n",
    "         'cb_person_cred_hist_length',\n",
    "         'age_group',\n",
    "         'income_group',\n",
    "         'person_emp_length',\n",
    "         'loan_group']\n",
    "\n",
    "var_cont=['person_income',\n",
    "          'loan_amnt',\n",
    "          'loan_int_rate',\n",
    "          'loan_percent_income',\n",
    "          'cb_person_cred_hist_length']"
   ]
  },
  {
   "cell_type": "markdown",
   "metadata": {},
   "source": [
    "### Prueba CHI2"
   ]
  },
  {
   "cell_type": "code",
   "execution_count": 125,
   "metadata": {},
   "outputs": [
    {
     "data": {
      "text/html": [
       "<div>\n",
       "<style scoped>\n",
       "    .dataframe tbody tr th:only-of-type {\n",
       "        vertical-align: middle;\n",
       "    }\n",
       "\n",
       "    .dataframe tbody tr th {\n",
       "        vertical-align: top;\n",
       "    }\n",
       "\n",
       "    .dataframe thead th {\n",
       "        text-align: right;\n",
       "    }\n",
       "</style>\n",
       "<table border=\"1\" class=\"dataframe\">\n",
       "  <thead>\n",
       "    <tr style=\"text-align: right;\">\n",
       "      <th></th>\n",
       "      <th>Variable</th>\n",
       "      <th>Chi P-Value</th>\n",
       "    </tr>\n",
       "  </thead>\n",
       "  <tbody>\n",
       "    <tr>\n",
       "      <th>0</th>\n",
       "      <td>person_home_ownership</td>\n",
       "      <td>0.000000e+00</td>\n",
       "    </tr>\n",
       "    <tr>\n",
       "      <th>1</th>\n",
       "      <td>loan_intent</td>\n",
       "      <td>1.568916e-97</td>\n",
       "    </tr>\n",
       "    <tr>\n",
       "      <th>2</th>\n",
       "      <td>loan_grade</td>\n",
       "      <td>0.000000e+00</td>\n",
       "    </tr>\n",
       "    <tr>\n",
       "      <th>3</th>\n",
       "      <td>cb_person_default_on_file</td>\n",
       "      <td>8.025750e-206</td>\n",
       "    </tr>\n",
       "    <tr>\n",
       "      <th>4</th>\n",
       "      <td>cb_person_cred_hist_length</td>\n",
       "      <td>8.318654e-02</td>\n",
       "    </tr>\n",
       "    <tr>\n",
       "      <th>5</th>\n",
       "      <td>age_group</td>\n",
       "      <td>4.002673e-06</td>\n",
       "    </tr>\n",
       "    <tr>\n",
       "      <th>6</th>\n",
       "      <td>income_group</td>\n",
       "      <td>0.000000e+00</td>\n",
       "    </tr>\n",
       "    <tr>\n",
       "      <th>7</th>\n",
       "      <td>person_emp_length</td>\n",
       "      <td>6.882384e-54</td>\n",
       "    </tr>\n",
       "    <tr>\n",
       "      <th>8</th>\n",
       "      <td>loan_group</td>\n",
       "      <td>1.793522e-91</td>\n",
       "    </tr>\n",
       "  </tbody>\n",
       "</table>\n",
       "</div>"
      ],
      "text/plain": [
       "                     Variable    Chi P-Value\n",
       "0       person_home_ownership   0.000000e+00\n",
       "1                 loan_intent   1.568916e-97\n",
       "2                  loan_grade   0.000000e+00\n",
       "3   cb_person_default_on_file  8.025750e-206\n",
       "4  cb_person_cred_hist_length   8.318654e-02\n",
       "5                   age_group   4.002673e-06\n",
       "6                income_group   0.000000e+00\n",
       "7           person_emp_length   6.882384e-54\n",
       "8                  loan_group   1.793522e-91"
      ]
     },
     "execution_count": 125,
     "metadata": {},
     "output_type": "execute_result"
    }
   ],
   "source": [
    "#Test Chi2 para variables categoricas\n",
    "chi2_tabla = {'Variable':[],'Chi P-Value':[]}\n",
    "for columna in var_cat:\n",
    "    chi, p, dof, ex = chi2_contingency(pd.crosstab(df[columna],  df['loan_status']))\n",
    "    chi2_tabla['Variable'].append(columna)\n",
    "    chi2_tabla['Chi P-Value'].append(p)\n",
    "chi2_tabla = pd.DataFrame(chi2_tabla)\n",
    "chi2_tabla"
   ]
  },
  {
   "cell_type": "markdown",
   "metadata": {},
   "source": [
    "### Si la hipotesis se validara con valores P menores a 0.05 que seria un precisión de 95% entonces todas las variables cumplirian esta hipotesis"
   ]
  },
  {
   "cell_type": "markdown",
   "metadata": {},
   "source": [
    "### ANOVA para variables continuas"
   ]
  },
  {
   "cell_type": "code",
   "execution_count": 126,
   "metadata": {},
   "outputs": [
    {
     "name": "stderr",
     "output_type": "stream",
     "text": [
      "c:\\Users\\pixel\\anaconda3\\lib\\site-packages\\sklearn\\utils\\validation.py:623: FutureWarning: is_sparse is deprecated and will be removed in a future version. Check `isinstance(dtype, pd.SparseDtype)` instead.\n",
      "  if not hasattr(array, \"sparse\") and array.dtypes.apply(is_sparse).any():\n"
     ]
    },
    {
     "data": {
      "text/html": [
       "<div>\n",
       "<style scoped>\n",
       "    .dataframe tbody tr th:only-of-type {\n",
       "        vertical-align: middle;\n",
       "    }\n",
       "\n",
       "    .dataframe tbody tr th {\n",
       "        vertical-align: top;\n",
       "    }\n",
       "\n",
       "    .dataframe thead th {\n",
       "        text-align: right;\n",
       "    }\n",
       "</style>\n",
       "<table border=\"1\" class=\"dataframe\">\n",
       "  <thead>\n",
       "    <tr style=\"text-align: right;\">\n",
       "      <th></th>\n",
       "      <th>Feature</th>\n",
       "      <th>F-Score</th>\n",
       "      <th>P-Value</th>\n",
       "    </tr>\n",
       "  </thead>\n",
       "  <tbody>\n",
       "    <tr>\n",
       "      <th>0</th>\n",
       "      <td>person_income</td>\n",
       "      <td>851.509510</td>\n",
       "      <td>1.796653e-184</td>\n",
       "    </tr>\n",
       "    <tr>\n",
       "      <th>1</th>\n",
       "      <td>loan_amnt</td>\n",
       "      <td>370.236451</td>\n",
       "      <td>5.526480e-82</td>\n",
       "    </tr>\n",
       "    <tr>\n",
       "      <th>2</th>\n",
       "      <td>loan_int_rate</td>\n",
       "      <td>3709.578956</td>\n",
       "      <td>0.000000e+00</td>\n",
       "    </tr>\n",
       "    <tr>\n",
       "      <th>3</th>\n",
       "      <td>loan_percent_income</td>\n",
       "      <td>4784.921648</td>\n",
       "      <td>0.000000e+00</td>\n",
       "    </tr>\n",
       "    <tr>\n",
       "      <th>4</th>\n",
       "      <td>cb_person_cred_hist_length</td>\n",
       "      <td>9.612501</td>\n",
       "      <td>1.934461e-03</td>\n",
       "    </tr>\n",
       "  </tbody>\n",
       "</table>\n",
       "</div>"
      ],
      "text/plain": [
       "                      Feature      F-Score        P-Value\n",
       "0               person_income   851.509510  1.796653e-184\n",
       "1                   loan_amnt   370.236451   5.526480e-82\n",
       "2               loan_int_rate  3709.578956   0.000000e+00\n",
       "3         loan_percent_income  4784.921648   0.000000e+00\n",
       "4  cb_person_cred_hist_length     9.612501   1.934461e-03"
      ]
     },
     "execution_count": 126,
     "metadata": {},
     "output_type": "execute_result"
    }
   ],
   "source": [
    "#Tabla anova para variables continuas\n",
    "F_statistic, p_values = f_classif(df[var_cont], df['loan_status'])\n",
    "anovaTabla = pd.DataFrame(data = {'Feature':df[var_cont].columns.values,'F-Score':F_statistic,'P-Value':p_values})\n",
    "anovaTabla['Feature']=var_cont\n",
    "anovaTabla"
   ]
  },
  {
   "cell_type": "markdown",
   "metadata": {},
   "source": [
    "### De igual manera, buscando ver si los valores P son menores a 0.05 que seria una precisión de 95% entonces todas las variables pasarian."
   ]
  },
  {
   "cell_type": "markdown",
   "metadata": {},
   "source": [
    "# WoE"
   ]
  },
  {
   "cell_type": "markdown",
   "metadata": {},
   "source": [
    "### Debido a que las pruebas CHI2 y ANOVA no nos dieron resultados conclusivos sobre la importancia de las variables sobre el modelo de predicción vamos a pasar a usar el Weight of Evidence el cual nos dara un Information Value, estas pruebas se basan en una comparación de Buenos y malos clientes y de eventos y no eventos para determinar sus valores, ya luego nos enfocaremos en aquellas variables que sean tengan un valor IV mayor a 0.02"
   ]
  },
  {
   "cell_type": "code",
   "execution_count": 127,
   "metadata": {},
   "outputs": [],
   "source": [
    "# Copia del dataset original para aplicar el WOE y el IV\n",
    "df_woe = df2.copy()\n",
    "train_cols = df_woe.columns.drop('loan_status')"
   ]
  },
  {
   "cell_type": "code",
   "execution_count": 128,
   "metadata": {},
   "outputs": [
    {
     "name": "stderr",
     "output_type": "stream",
     "text": [
      "100%|██████████| 14/14 [00:00<00:00, 17.35it/s]\n"
     ]
    }
   ],
   "source": [
    "#Calculo del IV por columna\n",
    "iv_score_dict = {}\n",
    "for col in tqdm(train_cols):\n",
    "    if col in var_cat:\n",
    "        optb = optbinning.OptimalBinning(dtype='categorical')\n",
    "        optb.fit(df_woe[col], df_woe['loan_status'])\n",
    "    else:\n",
    "        optb = optbinning.OptimalBinning(dtype='numerical')\n",
    "        optb.fit(df_woe[col], df_woe['loan_status'])\n",
    "    binning_table = optb.binning_table\n",
    "    binning_table.build()\n",
    "    iv_score_dict[col] = binning_table.iv\n",
    "\n",
    "iv_score_df = pd.Series(iv_score_dict)\n",
    "iv_score_df.sort_values(ascending=False, inplace=True)"
   ]
  },
  {
   "cell_type": "code",
   "execution_count": 129,
   "metadata": {},
   "outputs": [
    {
     "data": {
      "text/plain": [
       "loan_percent_income           0.958064\n",
       "loan_grade                    0.891208\n",
       "loan_int_rate                 0.799312\n",
       "person_income                 0.515927\n",
       "income_group                  0.385984\n",
       "person_home_ownership         0.376643\n",
       "cb_person_default_on_file     0.169196\n",
       "loan_amnt                     0.098246\n",
       "loan_intent                   0.097719\n",
       "loan_group                    0.080659\n",
       "person_emp_length             0.067229\n",
       "person_age                    0.009902\n",
       "cb_person_cred_hist_length    0.006711\n",
       "age_group                     0.005151\n",
       "dtype: float64"
      ]
     },
     "execution_count": 129,
     "metadata": {},
     "output_type": "execute_result"
    }
   ],
   "source": [
    "iv_score_df.head(14)"
   ]
  },
  {
   "cell_type": "markdown",
   "metadata": {},
   "source": [
    "### Seleccionamos aquellas variables más relevantes"
   ]
  },
  {
   "cell_type": "code",
   "execution_count": 130,
   "metadata": {},
   "outputs": [],
   "source": [
    "#Seleccion de las caracteristicas mas relevantes\n",
    "top_features = iv_score_df[:11].index.values"
   ]
  },
  {
   "cell_type": "markdown",
   "metadata": {},
   "source": [
    "### Separamos los datos en bins y graficamos sus events y non events para cada variable relevante"
   ]
  },
  {
   "cell_type": "code",
   "execution_count": 131,
   "metadata": {},
   "outputs": [
    {
     "name": "stdout",
     "output_type": "stream",
     "text": [
      "----------------------------------------------------------------------------------------------------\n",
      "Variable: loan_percent_income\n"
     ]
    },
    {
     "data": {
      "text/html": [
       "<div>\n",
       "<style scoped>\n",
       "    .dataframe tbody tr th:only-of-type {\n",
       "        vertical-align: middle;\n",
       "    }\n",
       "\n",
       "    .dataframe tbody tr th {\n",
       "        vertical-align: top;\n",
       "    }\n",
       "\n",
       "    .dataframe thead th {\n",
       "        text-align: right;\n",
       "    }\n",
       "</style>\n",
       "<table border=\"1\" class=\"dataframe\">\n",
       "  <thead>\n",
       "    <tr style=\"text-align: right;\">\n",
       "      <th></th>\n",
       "      <th>Bin</th>\n",
       "      <th>Count</th>\n",
       "      <th>Count (%)</th>\n",
       "      <th>Non-event</th>\n",
       "      <th>Event</th>\n",
       "      <th>Event rate</th>\n",
       "      <th>WoE</th>\n",
       "      <th>IV</th>\n",
       "      <th>JS</th>\n",
       "    </tr>\n",
       "  </thead>\n",
       "  <tbody>\n",
       "    <tr>\n",
       "      <th>0</th>\n",
       "      <td>(-inf, 0.05)</td>\n",
       "      <td>3031</td>\n",
       "      <td>0.106594</td>\n",
       "      <td>2720</td>\n",
       "      <td>311</td>\n",
       "      <td>0.102606</td>\n",
       "      <td>0.885484</td>\n",
       "      <td>0.063554</td>\n",
       "      <td>0.007694</td>\n",
       "    </tr>\n",
       "    <tr>\n",
       "      <th>1</th>\n",
       "      <td>[0.05, 0.07)</td>\n",
       "      <td>2349</td>\n",
       "      <td>0.082609</td>\n",
       "      <td>2078</td>\n",
       "      <td>271</td>\n",
       "      <td>0.115368</td>\n",
       "      <td>0.753932</td>\n",
       "      <td>0.037259</td>\n",
       "      <td>0.004550</td>\n",
       "    </tr>\n",
       "    <tr>\n",
       "      <th>2</th>\n",
       "      <td>[0.07, 0.13)</td>\n",
       "      <td>7488</td>\n",
       "      <td>0.263337</td>\n",
       "      <td>6530</td>\n",
       "      <td>958</td>\n",
       "      <td>0.127938</td>\n",
       "      <td>0.636204</td>\n",
       "      <td>0.087832</td>\n",
       "      <td>0.010798</td>\n",
       "    </tr>\n",
       "    <tr>\n",
       "      <th>3</th>\n",
       "      <td>[0.13, 0.16)</td>\n",
       "      <td>3162</td>\n",
       "      <td>0.111201</td>\n",
       "      <td>2702</td>\n",
       "      <td>460</td>\n",
       "      <td>0.145478</td>\n",
       "      <td>0.487411</td>\n",
       "      <td>0.022820</td>\n",
       "      <td>0.002825</td>\n",
       "    </tr>\n",
       "    <tr>\n",
       "      <th>4</th>\n",
       "      <td>[0.16, 0.20)</td>\n",
       "      <td>3714</td>\n",
       "      <td>0.130614</td>\n",
       "      <td>3055</td>\n",
       "      <td>659</td>\n",
       "      <td>0.177437</td>\n",
       "      <td>0.250701</td>\n",
       "      <td>0.007628</td>\n",
       "      <td>0.000951</td>\n",
       "    </tr>\n",
       "    <tr>\n",
       "      <th>5</th>\n",
       "      <td>[0.20, 0.25)</td>\n",
       "      <td>3298</td>\n",
       "      <td>0.115984</td>\n",
       "      <td>2659</td>\n",
       "      <td>639</td>\n",
       "      <td>0.193754</td>\n",
       "      <td>0.142691</td>\n",
       "      <td>0.002266</td>\n",
       "      <td>0.000283</td>\n",
       "    </tr>\n",
       "    <tr>\n",
       "      <th>6</th>\n",
       "      <td>[0.25, 0.31)</td>\n",
       "      <td>2109</td>\n",
       "      <td>0.074169</td>\n",
       "      <td>1568</td>\n",
       "      <td>541</td>\n",
       "      <td>0.256520</td>\n",
       "      <td>-0.218973</td>\n",
       "      <td>0.003775</td>\n",
       "      <td>0.000471</td>\n",
       "    </tr>\n",
       "    <tr>\n",
       "      <th>7</th>\n",
       "      <td>[0.31, 0.38)</td>\n",
       "      <td>1802</td>\n",
       "      <td>0.063373</td>\n",
       "      <td>560</td>\n",
       "      <td>1242</td>\n",
       "      <td>0.689234</td>\n",
       "      <td>-2.079652</td>\n",
       "      <td>0.366250</td>\n",
       "      <td>0.038984</td>\n",
       "    </tr>\n",
       "    <tr>\n",
       "      <th>8</th>\n",
       "      <td>[0.38, inf)</td>\n",
       "      <td>1482</td>\n",
       "      <td>0.052119</td>\n",
       "      <td>392</td>\n",
       "      <td>1090</td>\n",
       "      <td>0.735493</td>\n",
       "      <td>-2.305781</td>\n",
       "      <td>0.366679</td>\n",
       "      <td>0.037791</td>\n",
       "    </tr>\n",
       "    <tr>\n",
       "      <th>9</th>\n",
       "      <td>Special</td>\n",
       "      <td>0</td>\n",
       "      <td>0.000000</td>\n",
       "      <td>0</td>\n",
       "      <td>0</td>\n",
       "      <td>0.000000</td>\n",
       "      <td>0.0</td>\n",
       "      <td>0.000000</td>\n",
       "      <td>0.000000</td>\n",
       "    </tr>\n",
       "    <tr>\n",
       "      <th>10</th>\n",
       "      <td>Missing</td>\n",
       "      <td>0</td>\n",
       "      <td>0.000000</td>\n",
       "      <td>0</td>\n",
       "      <td>0</td>\n",
       "      <td>0.000000</td>\n",
       "      <td>0.0</td>\n",
       "      <td>0.000000</td>\n",
       "      <td>0.000000</td>\n",
       "    </tr>\n",
       "    <tr>\n",
       "      <th>Totals</th>\n",
       "      <td></td>\n",
       "      <td>28435</td>\n",
       "      <td>1.000000</td>\n",
       "      <td>22264</td>\n",
       "      <td>6171</td>\n",
       "      <td>0.217021</td>\n",
       "      <td></td>\n",
       "      <td>0.958064</td>\n",
       "      <td>0.104347</td>\n",
       "    </tr>\n",
       "  </tbody>\n",
       "</table>\n",
       "</div>"
      ],
      "text/plain": [
       "                 Bin  Count  Count (%)  Non-event  Event  Event rate  \\\n",
       "0       (-inf, 0.05)   3031   0.106594       2720    311    0.102606   \n",
       "1       [0.05, 0.07)   2349   0.082609       2078    271    0.115368   \n",
       "2       [0.07, 0.13)   7488   0.263337       6530    958    0.127938   \n",
       "3       [0.13, 0.16)   3162   0.111201       2702    460    0.145478   \n",
       "4       [0.16, 0.20)   3714   0.130614       3055    659    0.177437   \n",
       "5       [0.20, 0.25)   3298   0.115984       2659    639    0.193754   \n",
       "6       [0.25, 0.31)   2109   0.074169       1568    541    0.256520   \n",
       "7       [0.31, 0.38)   1802   0.063373        560   1242    0.689234   \n",
       "8        [0.38, inf)   1482   0.052119        392   1090    0.735493   \n",
       "9            Special      0   0.000000          0      0    0.000000   \n",
       "10           Missing      0   0.000000          0      0    0.000000   \n",
       "Totals                28435   1.000000      22264   6171    0.217021   \n",
       "\n",
       "             WoE        IV        JS  \n",
       "0       0.885484  0.063554  0.007694  \n",
       "1       0.753932  0.037259  0.004550  \n",
       "2       0.636204  0.087832  0.010798  \n",
       "3       0.487411  0.022820  0.002825  \n",
       "4       0.250701  0.007628  0.000951  \n",
       "5       0.142691  0.002266  0.000283  \n",
       "6      -0.218973  0.003775  0.000471  \n",
       "7      -2.079652  0.366250  0.038984  \n",
       "8      -2.305781  0.366679  0.037791  \n",
       "9            0.0  0.000000  0.000000  \n",
       "10           0.0  0.000000  0.000000  \n",
       "Totals            0.958064  0.104347  "
      ]
     },
     "metadata": {},
     "output_type": "display_data"
    },
    {
     "data": {
      "image/png": "[encoded data removed]",
      "text/plain": [
       "<Figure size 432x288 with 2 Axes>"
      ]
     },
     "metadata": {},
     "output_type": "display_data"
    },
    {
     "name": "stdout",
     "output_type": "stream",
     "text": [
      "----------------------------------------------------------------------------------------------------\n",
      "Variable: loan_grade\n"
     ]
    },
    {
     "data": {
      "text/html": [
       "<div>\n",
       "<style scoped>\n",
       "    .dataframe tbody tr th:only-of-type {\n",
       "        vertical-align: middle;\n",
       "    }\n",
       "\n",
       "    .dataframe tbody tr th {\n",
       "        vertical-align: top;\n",
       "    }\n",
       "\n",
       "    .dataframe thead th {\n",
       "        text-align: right;\n",
       "    }\n",
       "</style>\n",
       "<table border=\"1\" class=\"dataframe\">\n",
       "  <thead>\n",
       "    <tr style=\"text-align: right;\">\n",
       "      <th></th>\n",
       "      <th>Bin</th>\n",
       "      <th>Count</th>\n",
       "      <th>Count (%)</th>\n",
       "      <th>Non-event</th>\n",
       "      <th>Event</th>\n",
       "      <th>Event rate</th>\n",
       "      <th>WoE</th>\n",
       "      <th>IV</th>\n",
       "      <th>JS</th>\n",
       "    </tr>\n",
       "  </thead>\n",
       "  <tbody>\n",
       "    <tr>\n",
       "      <th>0</th>\n",
       "      <td>[0.0]</td>\n",
       "      <td>9326</td>\n",
       "      <td>0.327976</td>\n",
       "      <td>8429</td>\n",
       "      <td>897</td>\n",
       "      <td>0.096183</td>\n",
       "      <td>0.957267</td>\n",
       "      <td>0.223269</td>\n",
       "      <td>0.026890</td>\n",
       "    </tr>\n",
       "    <tr>\n",
       "      <th>1</th>\n",
       "      <td>[1.0]</td>\n",
       "      <td>9073</td>\n",
       "      <td>0.319079</td>\n",
       "      <td>7629</td>\n",
       "      <td>1444</td>\n",
       "      <td>0.159154</td>\n",
       "      <td>0.38143</td>\n",
       "      <td>0.041447</td>\n",
       "      <td>0.005150</td>\n",
       "    </tr>\n",
       "    <tr>\n",
       "      <th>2</th>\n",
       "      <td>[2.0]</td>\n",
       "      <td>5671</td>\n",
       "      <td>0.199437</td>\n",
       "      <td>4519</td>\n",
       "      <td>1152</td>\n",
       "      <td>0.203139</td>\n",
       "      <td>0.083681</td>\n",
       "      <td>0.001363</td>\n",
       "      <td>0.000170</td>\n",
       "    </tr>\n",
       "    <tr>\n",
       "      <th>3</th>\n",
       "      <td>[3.0, 4.0, 5.0, 6.0]</td>\n",
       "      <td>4365</td>\n",
       "      <td>0.153508</td>\n",
       "      <td>1687</td>\n",
       "      <td>2678</td>\n",
       "      <td>0.613517</td>\n",
       "      <td>-1.745229</td>\n",
       "      <td>0.625128</td>\n",
       "      <td>0.069525</td>\n",
       "    </tr>\n",
       "    <tr>\n",
       "      <th>4</th>\n",
       "      <td>Special</td>\n",
       "      <td>0</td>\n",
       "      <td>0.000000</td>\n",
       "      <td>0</td>\n",
       "      <td>0</td>\n",
       "      <td>0.000000</td>\n",
       "      <td>0.0</td>\n",
       "      <td>0.000000</td>\n",
       "      <td>0.000000</td>\n",
       "    </tr>\n",
       "    <tr>\n",
       "      <th>5</th>\n",
       "      <td>Missing</td>\n",
       "      <td>0</td>\n",
       "      <td>0.000000</td>\n",
       "      <td>0</td>\n",
       "      <td>0</td>\n",
       "      <td>0.000000</td>\n",
       "      <td>0.0</td>\n",
       "      <td>0.000000</td>\n",
       "      <td>0.000000</td>\n",
       "    </tr>\n",
       "    <tr>\n",
       "      <th>Totals</th>\n",
       "      <td></td>\n",
       "      <td>28435</td>\n",
       "      <td>1.000000</td>\n",
       "      <td>22264</td>\n",
       "      <td>6171</td>\n",
       "      <td>0.217021</td>\n",
       "      <td></td>\n",
       "      <td>0.891208</td>\n",
       "      <td>0.101735</td>\n",
       "    </tr>\n",
       "  </tbody>\n",
       "</table>\n",
       "</div>"
      ],
      "text/plain": [
       "                         Bin  Count  Count (%)  Non-event  Event  Event rate  \\\n",
       "0                      [0.0]   9326   0.327976       8429    897    0.096183   \n",
       "1                      [1.0]   9073   0.319079       7629   1444    0.159154   \n",
       "2                      [2.0]   5671   0.199437       4519   1152    0.203139   \n",
       "3       [3.0, 4.0, 5.0, 6.0]   4365   0.153508       1687   2678    0.613517   \n",
       "4                    Special      0   0.000000          0      0    0.000000   \n",
       "5                    Missing      0   0.000000          0      0    0.000000   \n",
       "Totals                        28435   1.000000      22264   6171    0.217021   \n",
       "\n",
       "             WoE        IV        JS  \n",
       "0       0.957267  0.223269  0.026890  \n",
       "1        0.38143  0.041447  0.005150  \n",
       "2       0.083681  0.001363  0.000170  \n",
       "3      -1.745229  0.625128  0.069525  \n",
       "4            0.0  0.000000  0.000000  \n",
       "5            0.0  0.000000  0.000000  \n",
       "Totals            0.891208  0.101735  "
      ]
     },
     "metadata": {},
     "output_type": "display_data"
    },
    {
     "data": {
      "image/png": "[encoded data removed]",
      "text/plain": [
       "<Figure size 432x288 with 2 Axes>"
      ]
     },
     "metadata": {},
     "output_type": "display_data"
    },
    {
     "name": "stdout",
     "output_type": "stream",
     "text": [
      "----------------------------------------------------------------------------------------------------\n",
      "Variable: loan_int_rate\n"
     ]
    },
    {
     "data": {
      "text/html": [
       "<div>\n",
       "<style scoped>\n",
       "    .dataframe tbody tr th:only-of-type {\n",
       "        vertical-align: middle;\n",
       "    }\n",
       "\n",
       "    .dataframe tbody tr th {\n",
       "        vertical-align: top;\n",
       "    }\n",
       "\n",
       "    .dataframe thead th {\n",
       "        text-align: right;\n",
       "    }\n",
       "</style>\n",
       "<table border=\"1\" class=\"dataframe\">\n",
       "  <thead>\n",
       "    <tr style=\"text-align: right;\">\n",
       "      <th></th>\n",
       "      <th>Bin</th>\n",
       "      <th>Count</th>\n",
       "      <th>Count (%)</th>\n",
       "      <th>Non-event</th>\n",
       "      <th>Event</th>\n",
       "      <th>Event rate</th>\n",
       "      <th>WoE</th>\n",
       "      <th>IV</th>\n",
       "      <th>JS</th>\n",
       "    </tr>\n",
       "  </thead>\n",
       "  <tbody>\n",
       "    <tr>\n",
       "      <th>0</th>\n",
       "      <td>(-inf, 6.46)</td>\n",
       "      <td>1927</td>\n",
       "      <td>0.067769</td>\n",
       "      <td>1821</td>\n",
       "      <td>106</td>\n",
       "      <td>0.055008</td>\n",
       "      <td>1.560592</td>\n",
       "      <td>0.100836</td>\n",
       "      <td>0.011463</td>\n",
       "    </tr>\n",
       "    <tr>\n",
       "      <th>1</th>\n",
       "      <td>[6.46, 7.46)</td>\n",
       "      <td>2411</td>\n",
       "      <td>0.084790</td>\n",
       "      <td>2193</td>\n",
       "      <td>218</td>\n",
       "      <td>0.090419</td>\n",
       "      <td>1.025421</td>\n",
       "      <td>0.064779</td>\n",
       "      <td>0.007760</td>\n",
       "    </tr>\n",
       "    <tr>\n",
       "      <th>2</th>\n",
       "      <td>[7.46, 7.89)</td>\n",
       "      <td>2466</td>\n",
       "      <td>0.086724</td>\n",
       "      <td>2218</td>\n",
       "      <td>248</td>\n",
       "      <td>0.100568</td>\n",
       "      <td>0.907822</td>\n",
       "      <td>0.053956</td>\n",
       "      <td>0.006522</td>\n",
       "    </tr>\n",
       "    <tr>\n",
       "      <th>3</th>\n",
       "      <td>[7.89, 9.64)</td>\n",
       "      <td>3092</td>\n",
       "      <td>0.108739</td>\n",
       "      <td>2699</td>\n",
       "      <td>393</td>\n",
       "      <td>0.127102</td>\n",
       "      <td>0.643717</td>\n",
       "      <td>0.037041</td>\n",
       "      <td>0.004552</td>\n",
       "    </tr>\n",
       "    <tr>\n",
       "      <th>4</th>\n",
       "      <td>[9.64, 10.74)</td>\n",
       "      <td>3316</td>\n",
       "      <td>0.116617</td>\n",
       "      <td>2787</td>\n",
       "      <td>529</td>\n",
       "      <td>0.159530</td>\n",
       "      <td>0.378622</td>\n",
       "      <td>0.014939</td>\n",
       "      <td>0.001856</td>\n",
       "    </tr>\n",
       "    <tr>\n",
       "      <th>5</th>\n",
       "      <td>[10.74, 11.51)</td>\n",
       "      <td>2768</td>\n",
       "      <td>0.097345</td>\n",
       "      <td>2316</td>\n",
       "      <td>452</td>\n",
       "      <td>0.163295</td>\n",
       "      <td>0.350805</td>\n",
       "      <td>0.010797</td>\n",
       "      <td>0.001343</td>\n",
       "    </tr>\n",
       "    <tr>\n",
       "      <th>6</th>\n",
       "      <td>[11.51, 12.07)</td>\n",
       "      <td>1600</td>\n",
       "      <td>0.056269</td>\n",
       "      <td>1319</td>\n",
       "      <td>281</td>\n",
       "      <td>0.175625</td>\n",
       "      <td>0.263164</td>\n",
       "      <td>0.003607</td>\n",
       "      <td>0.000450</td>\n",
       "    </tr>\n",
       "    <tr>\n",
       "      <th>7</th>\n",
       "      <td>[12.07, 12.76)</td>\n",
       "      <td>1963</td>\n",
       "      <td>0.069035</td>\n",
       "      <td>1593</td>\n",
       "      <td>370</td>\n",
       "      <td>0.188487</td>\n",
       "      <td>0.176761</td>\n",
       "      <td>0.002049</td>\n",
       "      <td>0.000256</td>\n",
       "    </tr>\n",
       "    <tr>\n",
       "      <th>8</th>\n",
       "      <td>[12.76, 13.61)</td>\n",
       "      <td>2657</td>\n",
       "      <td>0.093441</td>\n",
       "      <td>2086</td>\n",
       "      <td>571</td>\n",
       "      <td>0.214904</td>\n",
       "      <td>0.012504</td>\n",
       "      <td>0.000015</td>\n",
       "      <td>0.000002</td>\n",
       "    </tr>\n",
       "    <tr>\n",
       "      <th>9</th>\n",
       "      <td>[13.61, 14.37)</td>\n",
       "      <td>1623</td>\n",
       "      <td>0.057078</td>\n",
       "      <td>1174</td>\n",
       "      <td>449</td>\n",
       "      <td>0.276648</td>\n",
       "      <td>-0.321961</td>\n",
       "      <td>0.006448</td>\n",
       "      <td>0.000803</td>\n",
       "    </tr>\n",
       "    <tr>\n",
       "      <th>10</th>\n",
       "      <td>[14.37, 15.28)</td>\n",
       "      <td>1692</td>\n",
       "      <td>0.059504</td>\n",
       "      <td>909</td>\n",
       "      <td>783</td>\n",
       "      <td>0.462766</td>\n",
       "      <td>-1.133898</td>\n",
       "      <td>0.097578</td>\n",
       "      <td>0.011583</td>\n",
       "    </tr>\n",
       "    <tr>\n",
       "      <th>11</th>\n",
       "      <td>[15.28, 16.31)</td>\n",
       "      <td>1445</td>\n",
       "      <td>0.050818</td>\n",
       "      <td>618</td>\n",
       "      <td>827</td>\n",
       "      <td>0.572318</td>\n",
       "      <td>-1.574426</td>\n",
       "      <td>0.167292</td>\n",
       "      <td>0.018988</td>\n",
       "    </tr>\n",
       "    <tr>\n",
       "      <th>12</th>\n",
       "      <td>[16.31, inf)</td>\n",
       "      <td>1475</td>\n",
       "      <td>0.051873</td>\n",
       "      <td>531</td>\n",
       "      <td>944</td>\n",
       "      <td>0.640000</td>\n",
       "      <td>-1.858474</td>\n",
       "      <td>0.239973</td>\n",
       "      <td>0.026310</td>\n",
       "    </tr>\n",
       "    <tr>\n",
       "      <th>13</th>\n",
       "      <td>Special</td>\n",
       "      <td>0</td>\n",
       "      <td>0.000000</td>\n",
       "      <td>0</td>\n",
       "      <td>0</td>\n",
       "      <td>0.000000</td>\n",
       "      <td>0.0</td>\n",
       "      <td>0.000000</td>\n",
       "      <td>0.000000</td>\n",
       "    </tr>\n",
       "    <tr>\n",
       "      <th>14</th>\n",
       "      <td>Missing</td>\n",
       "      <td>0</td>\n",
       "      <td>0.000000</td>\n",
       "      <td>0</td>\n",
       "      <td>0</td>\n",
       "      <td>0.000000</td>\n",
       "      <td>0.0</td>\n",
       "      <td>0.000000</td>\n",
       "      <td>0.000000</td>\n",
       "    </tr>\n",
       "    <tr>\n",
       "      <th>Totals</th>\n",
       "      <td></td>\n",
       "      <td>28435</td>\n",
       "      <td>1.000000</td>\n",
       "      <td>22264</td>\n",
       "      <td>6171</td>\n",
       "      <td>0.217021</td>\n",
       "      <td></td>\n",
       "      <td>0.799312</td>\n",
       "      <td>0.091888</td>\n",
       "    </tr>\n",
       "  </tbody>\n",
       "</table>\n",
       "</div>"
      ],
      "text/plain": [
       "                   Bin  Count  Count (%)  Non-event  Event  Event rate  \\\n",
       "0         (-inf, 6.46)   1927   0.067769       1821    106    0.055008   \n",
       "1         [6.46, 7.46)   2411   0.084790       2193    218    0.090419   \n",
       "2         [7.46, 7.89)   2466   0.086724       2218    248    0.100568   \n",
       "3         [7.89, 9.64)   3092   0.108739       2699    393    0.127102   \n",
       "4        [9.64, 10.74)   3316   0.116617       2787    529    0.159530   \n",
       "5       [10.74, 11.51)   2768   0.097345       2316    452    0.163295   \n",
       "6       [11.51, 12.07)   1600   0.056269       1319    281    0.175625   \n",
       "7       [12.07, 12.76)   1963   0.069035       1593    370    0.188487   \n",
       "8       [12.76, 13.61)   2657   0.093441       2086    571    0.214904   \n",
       "9       [13.61, 14.37)   1623   0.057078       1174    449    0.276648   \n",
       "10      [14.37, 15.28)   1692   0.059504        909    783    0.462766   \n",
       "11      [15.28, 16.31)   1445   0.050818        618    827    0.572318   \n",
       "12        [16.31, inf)   1475   0.051873        531    944    0.640000   \n",
       "13             Special      0   0.000000          0      0    0.000000   \n",
       "14             Missing      0   0.000000          0      0    0.000000   \n",
       "Totals                  28435   1.000000      22264   6171    0.217021   \n",
       "\n",
       "             WoE        IV        JS  \n",
       "0       1.560592  0.100836  0.011463  \n",
       "1       1.025421  0.064779  0.007760  \n",
       "2       0.907822  0.053956  0.006522  \n",
       "3       0.643717  0.037041  0.004552  \n",
       "4       0.378622  0.014939  0.001856  \n",
       "5       0.350805  0.010797  0.001343  \n",
       "6       0.263164  0.003607  0.000450  \n",
       "7       0.176761  0.002049  0.000256  \n",
       "8       0.012504  0.000015  0.000002  \n",
       "9      -0.321961  0.006448  0.000803  \n",
       "10     -1.133898  0.097578  0.011583  \n",
       "11     -1.574426  0.167292  0.018988  \n",
       "12     -1.858474  0.239973  0.026310  \n",
       "13           0.0  0.000000  0.000000  \n",
       "14           0.0  0.000000  0.000000  \n",
       "Totals            0.799312  0.091888  "
      ]
     },
     "metadata": {},
     "output_type": "display_data"
    },
    {
     "data": {
      "image/png": "[encoded data removed]",
      "text/plain": [
       "<Figure size 432x288 with 2 Axes>"
      ]
     },
     "metadata": {},
     "output_type": "display_data"
    },
    {
     "name": "stdout",
     "output_type": "stream",
     "text": [
      "----------------------------------------------------------------------------------------------------\n",
      "Variable: person_income\n"
     ]
    },
    {
     "data": {
      "text/html": [
       "<div>\n",
       "<style scoped>\n",
       "    .dataframe tbody tr th:only-of-type {\n",
       "        vertical-align: middle;\n",
       "    }\n",
       "\n",
       "    .dataframe tbody tr th {\n",
       "        vertical-align: top;\n",
       "    }\n",
       "\n",
       "    .dataframe thead th {\n",
       "        text-align: right;\n",
       "    }\n",
       "</style>\n",
       "<table border=\"1\" class=\"dataframe\">\n",
       "  <thead>\n",
       "    <tr style=\"text-align: right;\">\n",
       "      <th></th>\n",
       "      <th>Bin</th>\n",
       "      <th>Count</th>\n",
       "      <th>Count (%)</th>\n",
       "      <th>Non-event</th>\n",
       "      <th>Event</th>\n",
       "      <th>Event rate</th>\n",
       "      <th>WoE</th>\n",
       "      <th>IV</th>\n",
       "      <th>JS</th>\n",
       "    </tr>\n",
       "  </thead>\n",
       "  <tbody>\n",
       "    <tr>\n",
       "      <th>0</th>\n",
       "      <td>(-inf, 24228.00)</td>\n",
       "      <td>1681</td>\n",
       "      <td>0.059117</td>\n",
       "      <td>757</td>\n",
       "      <td>924</td>\n",
       "      <td>0.549673</td>\n",
       "      <td>-1.482459</td>\n",
       "      <td>0.171567</td>\n",
       "      <td>0.019675</td>\n",
       "    </tr>\n",
       "    <tr>\n",
       "      <th>1</th>\n",
       "      <td>[24228.00, 34999.50)</td>\n",
       "      <td>3531</td>\n",
       "      <td>0.124178</td>\n",
       "      <td>2114</td>\n",
       "      <td>1417</td>\n",
       "      <td>0.401303</td>\n",
       "      <td>-0.88307</td>\n",
       "      <td>0.118924</td>\n",
       "      <td>0.014401</td>\n",
       "    </tr>\n",
       "    <tr>\n",
       "      <th>2</th>\n",
       "      <td>[34999.50, 39937.50)</td>\n",
       "      <td>1991</td>\n",
       "      <td>0.070019</td>\n",
       "      <td>1452</td>\n",
       "      <td>539</td>\n",
       "      <td>0.270718</td>\n",
       "      <td>-0.292129</td>\n",
       "      <td>0.006464</td>\n",
       "      <td>0.000805</td>\n",
       "    </tr>\n",
       "    <tr>\n",
       "      <th>3</th>\n",
       "      <td>[39937.50, 49994.00)</td>\n",
       "      <td>4205</td>\n",
       "      <td>0.147881</td>\n",
       "      <td>3300</td>\n",
       "      <td>905</td>\n",
       "      <td>0.215220</td>\n",
       "      <td>0.010633</td>\n",
       "      <td>0.000017</td>\n",
       "      <td>0.000002</td>\n",
       "    </tr>\n",
       "    <tr>\n",
       "      <th>4</th>\n",
       "      <td>[49994.00, 59982.00)</td>\n",
       "      <td>3840</td>\n",
       "      <td>0.135045</td>\n",
       "      <td>3047</td>\n",
       "      <td>793</td>\n",
       "      <td>0.206510</td>\n",
       "      <td>0.062979</td>\n",
       "      <td>0.000526</td>\n",
       "      <td>0.000066</td>\n",
       "    </tr>\n",
       "    <tr>\n",
       "      <th>5</th>\n",
       "      <td>[59982.00, 79942.50)</td>\n",
       "      <td>6008</td>\n",
       "      <td>0.211289</td>\n",
       "      <td>5080</td>\n",
       "      <td>928</td>\n",
       "      <td>0.154461</td>\n",
       "      <td>0.416925</td>\n",
       "      <td>0.032433</td>\n",
       "      <td>0.004025</td>\n",
       "    </tr>\n",
       "    <tr>\n",
       "      <th>6</th>\n",
       "      <td>[79942.50, 89325.00)</td>\n",
       "      <td>1737</td>\n",
       "      <td>0.061087</td>\n",
       "      <td>1554</td>\n",
       "      <td>183</td>\n",
       "      <td>0.105354</td>\n",
       "      <td>0.855991</td>\n",
       "      <td>0.034363</td>\n",
       "      <td>0.004169</td>\n",
       "    </tr>\n",
       "    <tr>\n",
       "      <th>7</th>\n",
       "      <td>[89325.00, inf)</td>\n",
       "      <td>5442</td>\n",
       "      <td>0.191384</td>\n",
       "      <td>4960</td>\n",
       "      <td>482</td>\n",
       "      <td>0.088570</td>\n",
       "      <td>1.048107</td>\n",
       "      <td>0.151634</td>\n",
       "      <td>0.018132</td>\n",
       "    </tr>\n",
       "    <tr>\n",
       "      <th>8</th>\n",
       "      <td>Special</td>\n",
       "      <td>0</td>\n",
       "      <td>0.000000</td>\n",
       "      <td>0</td>\n",
       "      <td>0</td>\n",
       "      <td>0.000000</td>\n",
       "      <td>0.0</td>\n",
       "      <td>0.000000</td>\n",
       "      <td>0.000000</td>\n",
       "    </tr>\n",
       "    <tr>\n",
       "      <th>9</th>\n",
       "      <td>Missing</td>\n",
       "      <td>0</td>\n",
       "      <td>0.000000</td>\n",
       "      <td>0</td>\n",
       "      <td>0</td>\n",
       "      <td>0.000000</td>\n",
       "      <td>0.0</td>\n",
       "      <td>0.000000</td>\n",
       "      <td>0.000000</td>\n",
       "    </tr>\n",
       "    <tr>\n",
       "      <th>Totals</th>\n",
       "      <td></td>\n",
       "      <td>28435</td>\n",
       "      <td>1.000000</td>\n",
       "      <td>22264</td>\n",
       "      <td>6171</td>\n",
       "      <td>0.217021</td>\n",
       "      <td></td>\n",
       "      <td>0.515927</td>\n",
       "      <td>0.061274</td>\n",
       "    </tr>\n",
       "  </tbody>\n",
       "</table>\n",
       "</div>"
      ],
      "text/plain": [
       "                         Bin  Count  Count (%)  Non-event  Event  Event rate  \\\n",
       "0           (-inf, 24228.00)   1681   0.059117        757    924    0.549673   \n",
       "1       [24228.00, 34999.50)   3531   0.124178       2114   1417    0.401303   \n",
       "2       [34999.50, 39937.50)   1991   0.070019       1452    539    0.270718   \n",
       "3       [39937.50, 49994.00)   4205   0.147881       3300    905    0.215220   \n",
       "4       [49994.00, 59982.00)   3840   0.135045       3047    793    0.206510   \n",
       "5       [59982.00, 79942.50)   6008   0.211289       5080    928    0.154461   \n",
       "6       [79942.50, 89325.00)   1737   0.061087       1554    183    0.105354   \n",
       "7            [89325.00, inf)   5442   0.191384       4960    482    0.088570   \n",
       "8                    Special      0   0.000000          0      0    0.000000   \n",
       "9                    Missing      0   0.000000          0      0    0.000000   \n",
       "Totals                        28435   1.000000      22264   6171    0.217021   \n",
       "\n",
       "             WoE        IV        JS  \n",
       "0      -1.482459  0.171567  0.019675  \n",
       "1       -0.88307  0.118924  0.014401  \n",
       "2      -0.292129  0.006464  0.000805  \n",
       "3       0.010633  0.000017  0.000002  \n",
       "4       0.062979  0.000526  0.000066  \n",
       "5       0.416925  0.032433  0.004025  \n",
       "6       0.855991  0.034363  0.004169  \n",
       "7       1.048107  0.151634  0.018132  \n",
       "8            0.0  0.000000  0.000000  \n",
       "9            0.0  0.000000  0.000000  \n",
       "Totals            0.515927  0.061274  "
      ]
     },
     "metadata": {},
     "output_type": "display_data"
    },
    {
     "data": {
      "image/png": "[encoded data removed]",
      "text/plain": [
       "<Figure size 432x288 with 2 Axes>"
      ]
     },
     "metadata": {},
     "output_type": "display_data"
    },
    {
     "name": "stdout",
     "output_type": "stream",
     "text": [
      "----------------------------------------------------------------------------------------------------\n",
      "Variable: income_group\n"
     ]
    },
    {
     "data": {
      "text/html": [
       "<div>\n",
       "<style scoped>\n",
       "    .dataframe tbody tr th:only-of-type {\n",
       "        vertical-align: middle;\n",
       "    }\n",
       "\n",
       "    .dataframe tbody tr th {\n",
       "        vertical-align: top;\n",
       "    }\n",
       "\n",
       "    .dataframe thead th {\n",
       "        text-align: right;\n",
       "    }\n",
       "</style>\n",
       "<table border=\"1\" class=\"dataframe\">\n",
       "  <thead>\n",
       "    <tr style=\"text-align: right;\">\n",
       "      <th></th>\n",
       "      <th>Bin</th>\n",
       "      <th>Count</th>\n",
       "      <th>Count (%)</th>\n",
       "      <th>Non-event</th>\n",
       "      <th>Event</th>\n",
       "      <th>Event rate</th>\n",
       "      <th>WoE</th>\n",
       "      <th>IV</th>\n",
       "      <th>JS</th>\n",
       "    </tr>\n",
       "  </thead>\n",
       "  <tbody>\n",
       "    <tr>\n",
       "      <th>0</th>\n",
       "      <td>[0.0]</td>\n",
       "      <td>3703</td>\n",
       "      <td>0.130227</td>\n",
       "      <td>3340</td>\n",
       "      <td>363</td>\n",
       "      <td>0.098029</td>\n",
       "      <td>0.936213</td>\n",
       "      <td>0.085377</td>\n",
       "      <td>0.010299</td>\n",
       "    </tr>\n",
       "    <tr>\n",
       "      <th>1</th>\n",
       "      <td>[4.0]</td>\n",
       "      <td>5608</td>\n",
       "      <td>0.197222</td>\n",
       "      <td>4914</td>\n",
       "      <td>694</td>\n",
       "      <td>0.123752</td>\n",
       "      <td>0.674261</td>\n",
       "      <td>0.072991</td>\n",
       "      <td>0.008955</td>\n",
       "    </tr>\n",
       "    <tr>\n",
       "      <th>2</th>\n",
       "      <td>[3.0]</td>\n",
       "      <td>7043</td>\n",
       "      <td>0.247688</td>\n",
       "      <td>5773</td>\n",
       "      <td>1270</td>\n",
       "      <td>0.180321</td>\n",
       "      <td>0.231065</td>\n",
       "      <td>0.012361</td>\n",
       "      <td>0.001542</td>\n",
       "    </tr>\n",
       "    <tr>\n",
       "      <th>3</th>\n",
       "      <td>[2.0]</td>\n",
       "      <td>8360</td>\n",
       "      <td>0.294004</td>\n",
       "      <td>6202</td>\n",
       "      <td>2158</td>\n",
       "      <td>0.258134</td>\n",
       "      <td>-0.22742</td>\n",
       "      <td>0.016177</td>\n",
       "      <td>0.002018</td>\n",
       "    </tr>\n",
       "    <tr>\n",
       "      <th>4</th>\n",
       "      <td>[1.0]</td>\n",
       "      <td>3721</td>\n",
       "      <td>0.130860</td>\n",
       "      <td>2035</td>\n",
       "      <td>1686</td>\n",
       "      <td>0.453104</td>\n",
       "      <td>-1.094973</td>\n",
       "      <td>0.199077</td>\n",
       "      <td>0.023712</td>\n",
       "    </tr>\n",
       "    <tr>\n",
       "      <th>5</th>\n",
       "      <td>Special</td>\n",
       "      <td>0</td>\n",
       "      <td>0.000000</td>\n",
       "      <td>0</td>\n",
       "      <td>0</td>\n",
       "      <td>0.000000</td>\n",
       "      <td>0.0</td>\n",
       "      <td>0.000000</td>\n",
       "      <td>0.000000</td>\n",
       "    </tr>\n",
       "    <tr>\n",
       "      <th>6</th>\n",
       "      <td>Missing</td>\n",
       "      <td>0</td>\n",
       "      <td>0.000000</td>\n",
       "      <td>0</td>\n",
       "      <td>0</td>\n",
       "      <td>0.000000</td>\n",
       "      <td>0.0</td>\n",
       "      <td>0.000000</td>\n",
       "      <td>0.000000</td>\n",
       "    </tr>\n",
       "    <tr>\n",
       "      <th>Totals</th>\n",
       "      <td></td>\n",
       "      <td>28435</td>\n",
       "      <td>1.000000</td>\n",
       "      <td>22264</td>\n",
       "      <td>6171</td>\n",
       "      <td>0.217021</td>\n",
       "      <td></td>\n",
       "      <td>0.385984</td>\n",
       "      <td>0.046525</td>\n",
       "    </tr>\n",
       "  </tbody>\n",
       "</table>\n",
       "</div>"
      ],
      "text/plain": [
       "            Bin  Count  Count (%)  Non-event  Event  Event rate       WoE  \\\n",
       "0         [0.0]   3703   0.130227       3340    363    0.098029  0.936213   \n",
       "1         [4.0]   5608   0.197222       4914    694    0.123752  0.674261   \n",
       "2         [3.0]   7043   0.247688       5773   1270    0.180321  0.231065   \n",
       "3         [2.0]   8360   0.294004       6202   2158    0.258134  -0.22742   \n",
       "4         [1.0]   3721   0.130860       2035   1686    0.453104 -1.094973   \n",
       "5       Special      0   0.000000          0      0    0.000000       0.0   \n",
       "6       Missing      0   0.000000          0      0    0.000000       0.0   \n",
       "Totals           28435   1.000000      22264   6171    0.217021             \n",
       "\n",
       "              IV        JS  \n",
       "0       0.085377  0.010299  \n",
       "1       0.072991  0.008955  \n",
       "2       0.012361  0.001542  \n",
       "3       0.016177  0.002018  \n",
       "4       0.199077  0.023712  \n",
       "5       0.000000  0.000000  \n",
       "6       0.000000  0.000000  \n",
       "Totals  0.385984  0.046525  "
      ]
     },
     "metadata": {},
     "output_type": "display_data"
    },
    {
     "data": {
      "image/png": "[encoded data removed]",
      "text/plain": [
       "<Figure size 432x288 with 2 Axes>"
      ]
     },
     "metadata": {},
     "output_type": "display_data"
    },
    {
     "name": "stdout",
     "output_type": "stream",
     "text": [
      "----------------------------------------------------------------------------------------------------\n",
      "Variable: person_home_ownership\n"
     ]
    },
    {
     "data": {
      "text/html": [
       "<div>\n",
       "<style scoped>\n",
       "    .dataframe tbody tr th:only-of-type {\n",
       "        vertical-align: middle;\n",
       "    }\n",
       "\n",
       "    .dataframe tbody tr th {\n",
       "        vertical-align: top;\n",
       "    }\n",
       "\n",
       "    .dataframe thead th {\n",
       "        text-align: right;\n",
       "    }\n",
       "</style>\n",
       "<table border=\"1\" class=\"dataframe\">\n",
       "  <thead>\n",
       "    <tr style=\"text-align: right;\">\n",
       "      <th></th>\n",
       "      <th>Bin</th>\n",
       "      <th>Count</th>\n",
       "      <th>Count (%)</th>\n",
       "      <th>Non-event</th>\n",
       "      <th>Event</th>\n",
       "      <th>Event rate</th>\n",
       "      <th>WoE</th>\n",
       "      <th>IV</th>\n",
       "      <th>JS</th>\n",
       "    </tr>\n",
       "  </thead>\n",
       "  <tbody>\n",
       "    <tr>\n",
       "      <th>0</th>\n",
       "      <td>[2.0]</td>\n",
       "      <td>2173</td>\n",
       "      <td>0.076420</td>\n",
       "      <td>2028</td>\n",
       "      <td>145</td>\n",
       "      <td>0.066728</td>\n",
       "      <td>1.354961</td>\n",
       "      <td>0.091584</td>\n",
       "      <td>0.010646</td>\n",
       "    </tr>\n",
       "    <tr>\n",
       "      <th>1</th>\n",
       "      <td>[0.0]</td>\n",
       "      <td>11708</td>\n",
       "      <td>0.411746</td>\n",
       "      <td>10229</td>\n",
       "      <td>1479</td>\n",
       "      <td>0.126324</td>\n",
       "      <td>0.650751</td>\n",
       "      <td>0.143017</td>\n",
       "      <td>0.017568</td>\n",
       "    </tr>\n",
       "    <tr>\n",
       "      <th>2</th>\n",
       "      <td>[1.0, 3.0]</td>\n",
       "      <td>14554</td>\n",
       "      <td>0.511834</td>\n",
       "      <td>10007</td>\n",
       "      <td>4547</td>\n",
       "      <td>0.312423</td>\n",
       "      <td>-0.494293</td>\n",
       "      <td>0.142042</td>\n",
       "      <td>0.017577</td>\n",
       "    </tr>\n",
       "    <tr>\n",
       "      <th>3</th>\n",
       "      <td>Special</td>\n",
       "      <td>0</td>\n",
       "      <td>0.000000</td>\n",
       "      <td>0</td>\n",
       "      <td>0</td>\n",
       "      <td>0.000000</td>\n",
       "      <td>0.0</td>\n",
       "      <td>0.000000</td>\n",
       "      <td>0.000000</td>\n",
       "    </tr>\n",
       "    <tr>\n",
       "      <th>4</th>\n",
       "      <td>Missing</td>\n",
       "      <td>0</td>\n",
       "      <td>0.000000</td>\n",
       "      <td>0</td>\n",
       "      <td>0</td>\n",
       "      <td>0.000000</td>\n",
       "      <td>0.0</td>\n",
       "      <td>0.000000</td>\n",
       "      <td>0.000000</td>\n",
       "    </tr>\n",
       "    <tr>\n",
       "      <th>Totals</th>\n",
       "      <td></td>\n",
       "      <td>28435</td>\n",
       "      <td>1.000000</td>\n",
       "      <td>22264</td>\n",
       "      <td>6171</td>\n",
       "      <td>0.217021</td>\n",
       "      <td></td>\n",
       "      <td>0.376643</td>\n",
       "      <td>0.045790</td>\n",
       "    </tr>\n",
       "  </tbody>\n",
       "</table>\n",
       "</div>"
      ],
      "text/plain": [
       "               Bin  Count  Count (%)  Non-event  Event  Event rate       WoE  \\\n",
       "0            [2.0]   2173   0.076420       2028    145    0.066728  1.354961   \n",
       "1            [0.0]  11708   0.411746      10229   1479    0.126324  0.650751   \n",
       "2       [1.0, 3.0]  14554   0.511834      10007   4547    0.312423 -0.494293   \n",
       "3          Special      0   0.000000          0      0    0.000000       0.0   \n",
       "4          Missing      0   0.000000          0      0    0.000000       0.0   \n",
       "Totals              28435   1.000000      22264   6171    0.217021             \n",
       "\n",
       "              IV        JS  \n",
       "0       0.091584  0.010646  \n",
       "1       0.143017  0.017568  \n",
       "2       0.142042  0.017577  \n",
       "3       0.000000  0.000000  \n",
       "4       0.000000  0.000000  \n",
       "Totals  0.376643  0.045790  "
      ]
     },
     "metadata": {},
     "output_type": "display_data"
    },
    {
     "data": {
      "image/png": "[encoded data removed]",
      "text/plain": [
       "<Figure size 432x288 with 2 Axes>"
      ]
     },
     "metadata": {},
     "output_type": "display_data"
    },
    {
     "name": "stdout",
     "output_type": "stream",
     "text": [
      "----------------------------------------------------------------------------------------------------\n",
      "Variable: cb_person_default_on_file\n"
     ]
    },
    {
     "data": {
      "text/html": [
       "<div>\n",
       "<style scoped>\n",
       "    .dataframe tbody tr th:only-of-type {\n",
       "        vertical-align: middle;\n",
       "    }\n",
       "\n",
       "    .dataframe tbody tr th {\n",
       "        vertical-align: top;\n",
       "    }\n",
       "\n",
       "    .dataframe thead th {\n",
       "        text-align: right;\n",
       "    }\n",
       "</style>\n",
       "<table border=\"1\" class=\"dataframe\">\n",
       "  <thead>\n",
       "    <tr style=\"text-align: right;\">\n",
       "      <th></th>\n",
       "      <th>Bin</th>\n",
       "      <th>Count</th>\n",
       "      <th>Count (%)</th>\n",
       "      <th>Non-event</th>\n",
       "      <th>Event</th>\n",
       "      <th>Event rate</th>\n",
       "      <th>WoE</th>\n",
       "      <th>IV</th>\n",
       "      <th>JS</th>\n",
       "    </tr>\n",
       "  </thead>\n",
       "  <tbody>\n",
       "    <tr>\n",
       "      <th>0</th>\n",
       "      <td>[0.0]</td>\n",
       "      <td>23359</td>\n",
       "      <td>0.821488</td>\n",
       "      <td>19105</td>\n",
       "      <td>4254</td>\n",
       "      <td>0.182114</td>\n",
       "      <td>0.21898</td>\n",
       "      <td>0.036955</td>\n",
       "      <td>0.00461</td>\n",
       "    </tr>\n",
       "    <tr>\n",
       "      <th>1</th>\n",
       "      <td>[1.0]</td>\n",
       "      <td>5076</td>\n",
       "      <td>0.178512</td>\n",
       "      <td>3159</td>\n",
       "      <td>1917</td>\n",
       "      <td>0.377660</td>\n",
       "      <td>-0.783616</td>\n",
       "      <td>0.132242</td>\n",
       "      <td>0.01612</td>\n",
       "    </tr>\n",
       "    <tr>\n",
       "      <th>2</th>\n",
       "      <td>Special</td>\n",
       "      <td>0</td>\n",
       "      <td>0.000000</td>\n",
       "      <td>0</td>\n",
       "      <td>0</td>\n",
       "      <td>0.000000</td>\n",
       "      <td>0.0</td>\n",
       "      <td>0.000000</td>\n",
       "      <td>0.00000</td>\n",
       "    </tr>\n",
       "    <tr>\n",
       "      <th>3</th>\n",
       "      <td>Missing</td>\n",
       "      <td>0</td>\n",
       "      <td>0.000000</td>\n",
       "      <td>0</td>\n",
       "      <td>0</td>\n",
       "      <td>0.000000</td>\n",
       "      <td>0.0</td>\n",
       "      <td>0.000000</td>\n",
       "      <td>0.00000</td>\n",
       "    </tr>\n",
       "    <tr>\n",
       "      <th>Totals</th>\n",
       "      <td></td>\n",
       "      <td>28435</td>\n",
       "      <td>1.000000</td>\n",
       "      <td>22264</td>\n",
       "      <td>6171</td>\n",
       "      <td>0.217021</td>\n",
       "      <td></td>\n",
       "      <td>0.169196</td>\n",
       "      <td>0.02073</td>\n",
       "    </tr>\n",
       "  </tbody>\n",
       "</table>\n",
       "</div>"
      ],
      "text/plain": [
       "            Bin  Count  Count (%)  Non-event  Event  Event rate       WoE  \\\n",
       "0         [0.0]  23359   0.821488      19105   4254    0.182114   0.21898   \n",
       "1         [1.0]   5076   0.178512       3159   1917    0.377660 -0.783616   \n",
       "2       Special      0   0.000000          0      0    0.000000       0.0   \n",
       "3       Missing      0   0.000000          0      0    0.000000       0.0   \n",
       "Totals           28435   1.000000      22264   6171    0.217021             \n",
       "\n",
       "              IV       JS  \n",
       "0       0.036955  0.00461  \n",
       "1       0.132242  0.01612  \n",
       "2       0.000000  0.00000  \n",
       "3       0.000000  0.00000  \n",
       "Totals  0.169196  0.02073  "
      ]
     },
     "metadata": {},
     "output_type": "display_data"
    },
    {
     "data": {
      "image/png": "[encoded data removed]",
      "text/plain": [
       "<Figure size 432x288 with 2 Axes>"
      ]
     },
     "metadata": {},
     "output_type": "display_data"
    },
    {
     "name": "stdout",
     "output_type": "stream",
     "text": [
      "----------------------------------------------------------------------------------------------------\n",
      "Variable: loan_amnt\n"
     ]
    },
    {
     "data": {
      "text/html": [
       "<div>\n",
       "<style scoped>\n",
       "    .dataframe tbody tr th:only-of-type {\n",
       "        vertical-align: middle;\n",
       "    }\n",
       "\n",
       "    .dataframe tbody tr th {\n",
       "        vertical-align: top;\n",
       "    }\n",
       "\n",
       "    .dataframe thead th {\n",
       "        text-align: right;\n",
       "    }\n",
       "</style>\n",
       "<table border=\"1\" class=\"dataframe\">\n",
       "  <thead>\n",
       "    <tr style=\"text-align: right;\">\n",
       "      <th></th>\n",
       "      <th>Bin</th>\n",
       "      <th>Count</th>\n",
       "      <th>Count (%)</th>\n",
       "      <th>Non-event</th>\n",
       "      <th>Event</th>\n",
       "      <th>Event rate</th>\n",
       "      <th>WoE</th>\n",
       "      <th>IV</th>\n",
       "      <th>JS</th>\n",
       "    </tr>\n",
       "  </thead>\n",
       "  <tbody>\n",
       "    <tr>\n",
       "      <th>0</th>\n",
       "      <td>(-inf, 3262.50)</td>\n",
       "      <td>3627</td>\n",
       "      <td>0.127554</td>\n",
       "      <td>2876</td>\n",
       "      <td>751</td>\n",
       "      <td>0.207058</td>\n",
       "      <td>0.05964</td>\n",
       "      <td>0.000446</td>\n",
       "      <td>0.000056</td>\n",
       "    </tr>\n",
       "    <tr>\n",
       "      <th>1</th>\n",
       "      <td>[3262.50, 5437.50)</td>\n",
       "      <td>4763</td>\n",
       "      <td>0.167505</td>\n",
       "      <td>3855</td>\n",
       "      <td>908</td>\n",
       "      <td>0.190636</td>\n",
       "      <td>0.162772</td>\n",
       "      <td>0.004234</td>\n",
       "      <td>0.000529</td>\n",
       "    </tr>\n",
       "    <tr>\n",
       "      <th>2</th>\n",
       "      <td>[5437.50, 6087.50)</td>\n",
       "      <td>2141</td>\n",
       "      <td>0.075295</td>\n",
       "      <td>1821</td>\n",
       "      <td>320</td>\n",
       "      <td>0.149463</td>\n",
       "      <td>0.45571</td>\n",
       "      <td>0.013642</td>\n",
       "      <td>0.001691</td>\n",
       "    </tr>\n",
       "    <tr>\n",
       "      <th>3</th>\n",
       "      <td>[6087.50, 7487.50)</td>\n",
       "      <td>2077</td>\n",
       "      <td>0.073044</td>\n",
       "      <td>1741</td>\n",
       "      <td>336</td>\n",
       "      <td>0.161772</td>\n",
       "      <td>0.361994</td>\n",
       "      <td>0.008597</td>\n",
       "      <td>0.001069</td>\n",
       "    </tr>\n",
       "    <tr>\n",
       "      <th>4</th>\n",
       "      <td>[7487.50, 8462.50)</td>\n",
       "      <td>2188</td>\n",
       "      <td>0.076947</td>\n",
       "      <td>1777</td>\n",
       "      <td>411</td>\n",
       "      <td>0.187843</td>\n",
       "      <td>0.180978</td>\n",
       "      <td>0.002391</td>\n",
       "      <td>0.000299</td>\n",
       "    </tr>\n",
       "    <tr>\n",
       "      <th>5</th>\n",
       "      <td>[8462.50, 10587.50)</td>\n",
       "      <td>4070</td>\n",
       "      <td>0.143133</td>\n",
       "      <td>3272</td>\n",
       "      <td>798</td>\n",
       "      <td>0.196069</td>\n",
       "      <td>0.127938</td>\n",
       "      <td>0.002258</td>\n",
       "      <td>0.000282</td>\n",
       "    </tr>\n",
       "    <tr>\n",
       "      <th>6</th>\n",
       "      <td>[10587.50, 12987.50)</td>\n",
       "      <td>2641</td>\n",
       "      <td>0.092878</td>\n",
       "      <td>2089</td>\n",
       "      <td>552</td>\n",
       "      <td>0.209012</td>\n",
       "      <td>0.047783</td>\n",
       "      <td>0.000209</td>\n",
       "      <td>0.000026</td>\n",
       "    </tr>\n",
       "    <tr>\n",
       "      <th>7</th>\n",
       "      <td>[12987.50, 18087.50)</td>\n",
       "      <td>3901</td>\n",
       "      <td>0.137190</td>\n",
       "      <td>2864</td>\n",
       "      <td>1037</td>\n",
       "      <td>0.265829</td>\n",
       "      <td>-0.267223</td>\n",
       "      <td>0.010530</td>\n",
       "      <td>0.001312</td>\n",
       "    </tr>\n",
       "    <tr>\n",
       "      <th>8</th>\n",
       "      <td>[18087.50, 22150.00)</td>\n",
       "      <td>1462</td>\n",
       "      <td>0.051416</td>\n",
       "      <td>981</td>\n",
       "      <td>481</td>\n",
       "      <td>0.329001</td>\n",
       "      <td>-0.570405</td>\n",
       "      <td>0.019327</td>\n",
       "      <td>0.002384</td>\n",
       "    </tr>\n",
       "    <tr>\n",
       "      <th>9</th>\n",
       "      <td>[22150.00, inf)</td>\n",
       "      <td>1565</td>\n",
       "      <td>0.055038</td>\n",
       "      <td>988</td>\n",
       "      <td>577</td>\n",
       "      <td>0.368690</td>\n",
       "      <td>-0.74527</td>\n",
       "      <td>0.036612</td>\n",
       "      <td>0.004473</td>\n",
       "    </tr>\n",
       "    <tr>\n",
       "      <th>10</th>\n",
       "      <td>Special</td>\n",
       "      <td>0</td>\n",
       "      <td>0.000000</td>\n",
       "      <td>0</td>\n",
       "      <td>0</td>\n",
       "      <td>0.000000</td>\n",
       "      <td>0.0</td>\n",
       "      <td>0.000000</td>\n",
       "      <td>0.000000</td>\n",
       "    </tr>\n",
       "    <tr>\n",
       "      <th>11</th>\n",
       "      <td>Missing</td>\n",
       "      <td>0</td>\n",
       "      <td>0.000000</td>\n",
       "      <td>0</td>\n",
       "      <td>0</td>\n",
       "      <td>0.000000</td>\n",
       "      <td>0.0</td>\n",
       "      <td>0.000000</td>\n",
       "      <td>0.000000</td>\n",
       "    </tr>\n",
       "    <tr>\n",
       "      <th>Totals</th>\n",
       "      <td></td>\n",
       "      <td>28435</td>\n",
       "      <td>1.000000</td>\n",
       "      <td>22264</td>\n",
       "      <td>6171</td>\n",
       "      <td>0.217021</td>\n",
       "      <td></td>\n",
       "      <td>0.098246</td>\n",
       "      <td>0.012120</td>\n",
       "    </tr>\n",
       "  </tbody>\n",
       "</table>\n",
       "</div>"
      ],
      "text/plain": [
       "                         Bin  Count  Count (%)  Non-event  Event  Event rate  \\\n",
       "0            (-inf, 3262.50)   3627   0.127554       2876    751    0.207058   \n",
       "1         [3262.50, 5437.50)   4763   0.167505       3855    908    0.190636   \n",
       "2         [5437.50, 6087.50)   2141   0.075295       1821    320    0.149463   \n",
       "3         [6087.50, 7487.50)   2077   0.073044       1741    336    0.161772   \n",
       "4         [7487.50, 8462.50)   2188   0.076947       1777    411    0.187843   \n",
       "5        [8462.50, 10587.50)   4070   0.143133       3272    798    0.196069   \n",
       "6       [10587.50, 12987.50)   2641   0.092878       2089    552    0.209012   \n",
       "7       [12987.50, 18087.50)   3901   0.137190       2864   1037    0.265829   \n",
       "8       [18087.50, 22150.00)   1462   0.051416        981    481    0.329001   \n",
       "9            [22150.00, inf)   1565   0.055038        988    577    0.368690   \n",
       "10                   Special      0   0.000000          0      0    0.000000   \n",
       "11                   Missing      0   0.000000          0      0    0.000000   \n",
       "Totals                        28435   1.000000      22264   6171    0.217021   \n",
       "\n",
       "             WoE        IV        JS  \n",
       "0        0.05964  0.000446  0.000056  \n",
       "1       0.162772  0.004234  0.000529  \n",
       "2        0.45571  0.013642  0.001691  \n",
       "3       0.361994  0.008597  0.001069  \n",
       "4       0.180978  0.002391  0.000299  \n",
       "5       0.127938  0.002258  0.000282  \n",
       "6       0.047783  0.000209  0.000026  \n",
       "7      -0.267223  0.010530  0.001312  \n",
       "8      -0.570405  0.019327  0.002384  \n",
       "9       -0.74527  0.036612  0.004473  \n",
       "10           0.0  0.000000  0.000000  \n",
       "11           0.0  0.000000  0.000000  \n",
       "Totals            0.098246  0.012120  "
      ]
     },
     "metadata": {},
     "output_type": "display_data"
    },
    {
     "data": {
      "image/png": "[encoded data removed]",
      "text/plain": [
       "<Figure size 432x288 with 2 Axes>"
      ]
     },
     "metadata": {},
     "output_type": "display_data"
    },
    {
     "name": "stdout",
     "output_type": "stream",
     "text": [
      "----------------------------------------------------------------------------------------------------\n",
      "Variable: loan_intent\n"
     ]
    },
    {
     "data": {
      "text/html": [
       "<div>\n",
       "<style scoped>\n",
       "    .dataframe tbody tr th:only-of-type {\n",
       "        vertical-align: middle;\n",
       "    }\n",
       "\n",
       "    .dataframe tbody tr th {\n",
       "        vertical-align: top;\n",
       "    }\n",
       "\n",
       "    .dataframe thead th {\n",
       "        text-align: right;\n",
       "    }\n",
       "</style>\n",
       "<table border=\"1\" class=\"dataframe\">\n",
       "  <thead>\n",
       "    <tr style=\"text-align: right;\">\n",
       "      <th></th>\n",
       "      <th>Bin</th>\n",
       "      <th>Count</th>\n",
       "      <th>Count (%)</th>\n",
       "      <th>Non-event</th>\n",
       "      <th>Event</th>\n",
       "      <th>Event rate</th>\n",
       "      <th>WoE</th>\n",
       "      <th>IV</th>\n",
       "      <th>JS</th>\n",
       "    </tr>\n",
       "  </thead>\n",
       "  <tbody>\n",
       "    <tr>\n",
       "      <th>0</th>\n",
       "      <td>[5.0]</td>\n",
       "      <td>4963</td>\n",
       "      <td>0.174538</td>\n",
       "      <td>4235</td>\n",
       "      <td>728</td>\n",
       "      <td>0.146685</td>\n",
       "      <td>0.477727</td>\n",
       "      <td>0.034514</td>\n",
       "      <td>0.004274</td>\n",
       "    </tr>\n",
       "    <tr>\n",
       "      <th>1</th>\n",
       "      <td>[1.0]</td>\n",
       "      <td>5664</td>\n",
       "      <td>0.199191</td>\n",
       "      <td>4700</td>\n",
       "      <td>964</td>\n",
       "      <td>0.170198</td>\n",
       "      <td>0.301116</td>\n",
       "      <td>0.016528</td>\n",
       "      <td>0.002058</td>\n",
       "    </tr>\n",
       "    <tr>\n",
       "      <th>2</th>\n",
       "      <td>[4.0]</td>\n",
       "      <td>4835</td>\n",
       "      <td>0.170037</td>\n",
       "      <td>3877</td>\n",
       "      <td>958</td>\n",
       "      <td>0.198139</td>\n",
       "      <td>0.114859</td>\n",
       "      <td>0.002170</td>\n",
       "      <td>0.000271</td>\n",
       "    </tr>\n",
       "    <tr>\n",
       "      <th>3</th>\n",
       "      <td>[2.0]</td>\n",
       "      <td>3184</td>\n",
       "      <td>0.111975</td>\n",
       "      <td>2365</td>\n",
       "      <td>819</td>\n",
       "      <td>0.257224</td>\n",
       "      <td>-0.222661</td>\n",
       "      <td>0.005899</td>\n",
       "      <td>0.000736</td>\n",
       "    </tr>\n",
       "    <tr>\n",
       "      <th>4</th>\n",
       "      <td>[3.0]</td>\n",
       "      <td>5247</td>\n",
       "      <td>0.184526</td>\n",
       "      <td>3834</td>\n",
       "      <td>1413</td>\n",
       "      <td>0.269297</td>\n",
       "      <td>-0.284917</td>\n",
       "      <td>0.016174</td>\n",
       "      <td>0.002015</td>\n",
       "    </tr>\n",
       "    <tr>\n",
       "      <th>5</th>\n",
       "      <td>[0.0]</td>\n",
       "      <td>4542</td>\n",
       "      <td>0.159733</td>\n",
       "      <td>3253</td>\n",
       "      <td>1289</td>\n",
       "      <td>0.283796</td>\n",
       "      <td>-0.357399</td>\n",
       "      <td>0.022434</td>\n",
       "      <td>0.002789</td>\n",
       "    </tr>\n",
       "    <tr>\n",
       "      <th>6</th>\n",
       "      <td>Special</td>\n",
       "      <td>0</td>\n",
       "      <td>0.000000</td>\n",
       "      <td>0</td>\n",
       "      <td>0</td>\n",
       "      <td>0.000000</td>\n",
       "      <td>0.0</td>\n",
       "      <td>0.000000</td>\n",
       "      <td>0.000000</td>\n",
       "    </tr>\n",
       "    <tr>\n",
       "      <th>7</th>\n",
       "      <td>Missing</td>\n",
       "      <td>0</td>\n",
       "      <td>0.000000</td>\n",
       "      <td>0</td>\n",
       "      <td>0</td>\n",
       "      <td>0.000000</td>\n",
       "      <td>0.0</td>\n",
       "      <td>0.000000</td>\n",
       "      <td>0.000000</td>\n",
       "    </tr>\n",
       "    <tr>\n",
       "      <th>Totals</th>\n",
       "      <td></td>\n",
       "      <td>28435</td>\n",
       "      <td>1.000000</td>\n",
       "      <td>22264</td>\n",
       "      <td>6171</td>\n",
       "      <td>0.217021</td>\n",
       "      <td></td>\n",
       "      <td>0.097719</td>\n",
       "      <td>0.012143</td>\n",
       "    </tr>\n",
       "  </tbody>\n",
       "</table>\n",
       "</div>"
      ],
      "text/plain": [
       "            Bin  Count  Count (%)  Non-event  Event  Event rate       WoE  \\\n",
       "0         [5.0]   4963   0.174538       4235    728    0.146685  0.477727   \n",
       "1         [1.0]   5664   0.199191       4700    964    0.170198  0.301116   \n",
       "2         [4.0]   4835   0.170037       3877    958    0.198139  0.114859   \n",
       "3         [2.0]   3184   0.111975       2365    819    0.257224 -0.222661   \n",
       "4         [3.0]   5247   0.184526       3834   1413    0.269297 -0.284917   \n",
       "5         [0.0]   4542   0.159733       3253   1289    0.283796 -0.357399   \n",
       "6       Special      0   0.000000          0      0    0.000000       0.0   \n",
       "7       Missing      0   0.000000          0      0    0.000000       0.0   \n",
       "Totals           28435   1.000000      22264   6171    0.217021             \n",
       "\n",
       "              IV        JS  \n",
       "0       0.034514  0.004274  \n",
       "1       0.016528  0.002058  \n",
       "2       0.002170  0.000271  \n",
       "3       0.005899  0.000736  \n",
       "4       0.016174  0.002015  \n",
       "5       0.022434  0.002789  \n",
       "6       0.000000  0.000000  \n",
       "7       0.000000  0.000000  \n",
       "Totals  0.097719  0.012143  "
      ]
     },
     "metadata": {},
     "output_type": "display_data"
    },
    {
     "data": {
      "image/png": "[encoded data removed]",
      "text/plain": [
       "<Figure size 432x288 with 2 Axes>"
      ]
     },
     "metadata": {},
     "output_type": "display_data"
    },
    {
     "name": "stdout",
     "output_type": "stream",
     "text": [
      "----------------------------------------------------------------------------------------------------\n",
      "Variable: loan_group\n"
     ]
    },
    {
     "data": {
      "text/html": [
       "<div>\n",
       "<style scoped>\n",
       "    .dataframe tbody tr th:only-of-type {\n",
       "        vertical-align: middle;\n",
       "    }\n",
       "\n",
       "    .dataframe tbody tr th {\n",
       "        vertical-align: top;\n",
       "    }\n",
       "\n",
       "    .dataframe thead th {\n",
       "        text-align: right;\n",
       "    }\n",
       "</style>\n",
       "<table border=\"1\" class=\"dataframe\">\n",
       "  <thead>\n",
       "    <tr style=\"text-align: right;\">\n",
       "      <th></th>\n",
       "      <th>Bin</th>\n",
       "      <th>Count</th>\n",
       "      <th>Count (%)</th>\n",
       "      <th>Non-event</th>\n",
       "      <th>Event</th>\n",
       "      <th>Event rate</th>\n",
       "      <th>WoE</th>\n",
       "      <th>IV</th>\n",
       "      <th>JS</th>\n",
       "    </tr>\n",
       "  </thead>\n",
       "  <tbody>\n",
       "    <tr>\n",
       "      <th>0</th>\n",
       "      <td>[1.0]</td>\n",
       "      <td>10544</td>\n",
       "      <td>0.370811</td>\n",
       "      <td>8660</td>\n",
       "      <td>1884</td>\n",
       "      <td>0.178680</td>\n",
       "      <td>0.242207</td>\n",
       "      <td>0.020265</td>\n",
       "      <td>0.002527</td>\n",
       "    </tr>\n",
       "    <tr>\n",
       "      <th>1</th>\n",
       "      <td>[2.0]</td>\n",
       "      <td>8125</td>\n",
       "      <td>0.285739</td>\n",
       "      <td>6514</td>\n",
       "      <td>1611</td>\n",
       "      <td>0.198277</td>\n",
       "      <td>0.113988</td>\n",
       "      <td>0.003593</td>\n",
       "      <td>0.000449</td>\n",
       "    </tr>\n",
       "    <tr>\n",
       "      <th>2</th>\n",
       "      <td>[0.0]</td>\n",
       "      <td>5390</td>\n",
       "      <td>0.189555</td>\n",
       "      <td>4143</td>\n",
       "      <td>1247</td>\n",
       "      <td>0.231354</td>\n",
       "      <td>-0.082431</td>\n",
       "      <td>0.001318</td>\n",
       "      <td>0.000165</td>\n",
       "    </tr>\n",
       "    <tr>\n",
       "      <th>3</th>\n",
       "      <td>[3.0]</td>\n",
       "      <td>4376</td>\n",
       "      <td>0.153895</td>\n",
       "      <td>2947</td>\n",
       "      <td>1429</td>\n",
       "      <td>0.326554</td>\n",
       "      <td>-0.559297</td>\n",
       "      <td>0.055483</td>\n",
       "      <td>0.006846</td>\n",
       "    </tr>\n",
       "    <tr>\n",
       "      <th>4</th>\n",
       "      <td>Special</td>\n",
       "      <td>0</td>\n",
       "      <td>0.000000</td>\n",
       "      <td>0</td>\n",
       "      <td>0</td>\n",
       "      <td>0.000000</td>\n",
       "      <td>0.0</td>\n",
       "      <td>0.000000</td>\n",
       "      <td>0.000000</td>\n",
       "    </tr>\n",
       "    <tr>\n",
       "      <th>5</th>\n",
       "      <td>Missing</td>\n",
       "      <td>0</td>\n",
       "      <td>0.000000</td>\n",
       "      <td>0</td>\n",
       "      <td>0</td>\n",
       "      <td>0.000000</td>\n",
       "      <td>0.0</td>\n",
       "      <td>0.000000</td>\n",
       "      <td>0.000000</td>\n",
       "    </tr>\n",
       "    <tr>\n",
       "      <th>Totals</th>\n",
       "      <td></td>\n",
       "      <td>28435</td>\n",
       "      <td>1.000000</td>\n",
       "      <td>22264</td>\n",
       "      <td>6171</td>\n",
       "      <td>0.217021</td>\n",
       "      <td></td>\n",
       "      <td>0.080659</td>\n",
       "      <td>0.009987</td>\n",
       "    </tr>\n",
       "  </tbody>\n",
       "</table>\n",
       "</div>"
      ],
      "text/plain": [
       "            Bin  Count  Count (%)  Non-event  Event  Event rate       WoE  \\\n",
       "0         [1.0]  10544   0.370811       8660   1884    0.178680  0.242207   \n",
       "1         [2.0]   8125   0.285739       6514   1611    0.198277  0.113988   \n",
       "2         [0.0]   5390   0.189555       4143   1247    0.231354 -0.082431   \n",
       "3         [3.0]   4376   0.153895       2947   1429    0.326554 -0.559297   \n",
       "4       Special      0   0.000000          0      0    0.000000       0.0   \n",
       "5       Missing      0   0.000000          0      0    0.000000       0.0   \n",
       "Totals           28435   1.000000      22264   6171    0.217021             \n",
       "\n",
       "              IV        JS  \n",
       "0       0.020265  0.002527  \n",
       "1       0.003593  0.000449  \n",
       "2       0.001318  0.000165  \n",
       "3       0.055483  0.006846  \n",
       "4       0.000000  0.000000  \n",
       "5       0.000000  0.000000  \n",
       "Totals  0.080659  0.009987  "
      ]
     },
     "metadata": {},
     "output_type": "display_data"
    },
    {
     "data": {
      "image/png": "[encoded data removed]",
      "text/plain": [
       "<Figure size 432x288 with 2 Axes>"
      ]
     },
     "metadata": {},
     "output_type": "display_data"
    },
    {
     "name": "stdout",
     "output_type": "stream",
     "text": [
      "----------------------------------------------------------------------------------------------------\n",
      "Variable: person_emp_length\n"
     ]
    },
    {
     "data": {
      "text/html": [
       "<div>\n",
       "<style scoped>\n",
       "    .dataframe tbody tr th:only-of-type {\n",
       "        vertical-align: middle;\n",
       "    }\n",
       "\n",
       "    .dataframe tbody tr th {\n",
       "        vertical-align: top;\n",
       "    }\n",
       "\n",
       "    .dataframe thead th {\n",
       "        text-align: right;\n",
       "    }\n",
       "</style>\n",
       "<table border=\"1\" class=\"dataframe\">\n",
       "  <thead>\n",
       "    <tr style=\"text-align: right;\">\n",
       "      <th></th>\n",
       "      <th>Bin</th>\n",
       "      <th>Count</th>\n",
       "      <th>Count (%)</th>\n",
       "      <th>Non-event</th>\n",
       "      <th>Event</th>\n",
       "      <th>Event rate</th>\n",
       "      <th>WoE</th>\n",
       "      <th>IV</th>\n",
       "      <th>JS</th>\n",
       "    </tr>\n",
       "  </thead>\n",
       "  <tbody>\n",
       "    <tr>\n",
       "      <th>0</th>\n",
       "      <td>(-inf, 0.50)</td>\n",
       "      <td>3681</td>\n",
       "      <td>0.129453</td>\n",
       "      <td>2643</td>\n",
       "      <td>1038</td>\n",
       "      <td>0.281989</td>\n",
       "      <td>-0.348491</td>\n",
       "      <td>0.017248</td>\n",
       "      <td>0.002145</td>\n",
       "    </tr>\n",
       "    <tr>\n",
       "      <th>1</th>\n",
       "      <td>[0.50, 1.50)</td>\n",
       "      <td>2624</td>\n",
       "      <td>0.092281</td>\n",
       "      <td>1890</td>\n",
       "      <td>734</td>\n",
       "      <td>0.279726</td>\n",
       "      <td>-0.337287</td>\n",
       "      <td>0.011486</td>\n",
       "      <td>0.001429</td>\n",
       "    </tr>\n",
       "    <tr>\n",
       "      <th>2</th>\n",
       "      <td>[1.50, 2.50)</td>\n",
       "      <td>3444</td>\n",
       "      <td>0.121118</td>\n",
       "      <td>2557</td>\n",
       "      <td>887</td>\n",
       "      <td>0.257549</td>\n",
       "      <td>-0.224365</td>\n",
       "      <td>0.006481</td>\n",
       "      <td>0.000808</td>\n",
       "    </tr>\n",
       "    <tr>\n",
       "      <th>3</th>\n",
       "      <td>[2.50, 4.50)</td>\n",
       "      <td>5668</td>\n",
       "      <td>0.199332</td>\n",
       "      <td>4494</td>\n",
       "      <td>1174</td>\n",
       "      <td>0.207128</td>\n",
       "      <td>0.059216</td>\n",
       "      <td>0.000687</td>\n",
       "      <td>0.000086</td>\n",
       "    </tr>\n",
       "    <tr>\n",
       "      <th>4</th>\n",
       "      <td>[4.50, 6.50)</td>\n",
       "      <td>5075</td>\n",
       "      <td>0.178477</td>\n",
       "      <td>4114</td>\n",
       "      <td>961</td>\n",
       "      <td>0.189360</td>\n",
       "      <td>0.171067</td>\n",
       "      <td>0.004970</td>\n",
       "      <td>0.000621</td>\n",
       "    </tr>\n",
       "    <tr>\n",
       "      <th>5</th>\n",
       "      <td>[6.50, 7.50)</td>\n",
       "      <td>1961</td>\n",
       "      <td>0.068964</td>\n",
       "      <td>1593</td>\n",
       "      <td>368</td>\n",
       "      <td>0.187659</td>\n",
       "      <td>0.182181</td>\n",
       "      <td>0.002171</td>\n",
       "      <td>0.000271</td>\n",
       "    </tr>\n",
       "    <tr>\n",
       "      <th>6</th>\n",
       "      <td>[7.50, 11.50)</td>\n",
       "      <td>4031</td>\n",
       "      <td>0.141762</td>\n",
       "      <td>3323</td>\n",
       "      <td>708</td>\n",
       "      <td>0.175639</td>\n",
       "      <td>0.263069</td>\n",
       "      <td>0.009082</td>\n",
       "      <td>0.001132</td>\n",
       "    </tr>\n",
       "    <tr>\n",
       "      <th>7</th>\n",
       "      <td>[11.50, inf)</td>\n",
       "      <td>1951</td>\n",
       "      <td>0.068613</td>\n",
       "      <td>1650</td>\n",
       "      <td>301</td>\n",
       "      <td>0.154280</td>\n",
       "      <td>0.41831</td>\n",
       "      <td>0.010598</td>\n",
       "      <td>0.001315</td>\n",
       "    </tr>\n",
       "    <tr>\n",
       "      <th>8</th>\n",
       "      <td>Special</td>\n",
       "      <td>0</td>\n",
       "      <td>0.000000</td>\n",
       "      <td>0</td>\n",
       "      <td>0</td>\n",
       "      <td>0.000000</td>\n",
       "      <td>0.0</td>\n",
       "      <td>0.000000</td>\n",
       "      <td>0.000000</td>\n",
       "    </tr>\n",
       "    <tr>\n",
       "      <th>9</th>\n",
       "      <td>Missing</td>\n",
       "      <td>0</td>\n",
       "      <td>0.000000</td>\n",
       "      <td>0</td>\n",
       "      <td>0</td>\n",
       "      <td>0.000000</td>\n",
       "      <td>0.0</td>\n",
       "      <td>0.000000</td>\n",
       "      <td>0.000000</td>\n",
       "    </tr>\n",
       "    <tr>\n",
       "      <th>Totals</th>\n",
       "      <td></td>\n",
       "      <td>28435</td>\n",
       "      <td>1.000000</td>\n",
       "      <td>22264</td>\n",
       "      <td>6171</td>\n",
       "      <td>0.217021</td>\n",
       "      <td></td>\n",
       "      <td>0.062724</td>\n",
       "      <td>0.007807</td>\n",
       "    </tr>\n",
       "  </tbody>\n",
       "</table>\n",
       "</div>"
      ],
      "text/plain": [
       "                  Bin  Count  Count (%)  Non-event  Event  Event rate  \\\n",
       "0        (-inf, 0.50)   3681   0.129453       2643   1038    0.281989   \n",
       "1        [0.50, 1.50)   2624   0.092281       1890    734    0.279726   \n",
       "2        [1.50, 2.50)   3444   0.121118       2557    887    0.257549   \n",
       "3        [2.50, 4.50)   5668   0.199332       4494   1174    0.207128   \n",
       "4        [4.50, 6.50)   5075   0.178477       4114    961    0.189360   \n",
       "5        [6.50, 7.50)   1961   0.068964       1593    368    0.187659   \n",
       "6       [7.50, 11.50)   4031   0.141762       3323    708    0.175639   \n",
       "7        [11.50, inf)   1951   0.068613       1650    301    0.154280   \n",
       "8             Special      0   0.000000          0      0    0.000000   \n",
       "9             Missing      0   0.000000          0      0    0.000000   \n",
       "Totals                 28435   1.000000      22264   6171    0.217021   \n",
       "\n",
       "             WoE        IV        JS  \n",
       "0      -0.348491  0.017248  0.002145  \n",
       "1      -0.337287  0.011486  0.001429  \n",
       "2      -0.224365  0.006481  0.000808  \n",
       "3       0.059216  0.000687  0.000086  \n",
       "4       0.171067  0.004970  0.000621  \n",
       "5       0.182181  0.002171  0.000271  \n",
       "6       0.263069  0.009082  0.001132  \n",
       "7        0.41831  0.010598  0.001315  \n",
       "8            0.0  0.000000  0.000000  \n",
       "9            0.0  0.000000  0.000000  \n",
       "Totals            0.062724  0.007807  "
      ]
     },
     "metadata": {},
     "output_type": "display_data"
    },
    {
     "data": {
      "image/png": "[encoded data removed]",
      "text/plain": [
       "<Figure size 432x288 with 2 Axes>"
      ]
     },
     "metadata": {},
     "output_type": "display_data"
    }
   ],
   "source": [
    "#Tabla de WOE e IV y grafico para cada BIN de cada variable seleccionada\n",
    "for col in top_features:\n",
    "    print(\"-\"*100)\n",
    "    print(f\"Variable: {col}\")\n",
    "    if col in cat_cols:\n",
    "        optb = optbinning.OptimalBinning(dtype='categorical')\n",
    "        optb.fit(df_woe[col], df_woe['loan_status'])\n",
    "    else:\n",
    "        optb = optbinning.OptimalBinning(dtype='numerical')\n",
    "        optb.fit(df_woe[col], df_woe['loan_status'])\n",
    "\n",
    "    binning_table = optb.binning_table\n",
    "    display(binning_table.build())\n",
    "    binning_table.plot(metric=\"woe\")"
   ]
  },
  {
   "cell_type": "code",
   "execution_count": 132,
   "metadata": {},
   "outputs": [],
   "source": [
    "# Seleccion de variables con IV mayor a 0.02 y filtrar categoricas y de entrenamiento\n",
    "selected_features = iv_score_df[iv_score_df > 0.02].index.values\n",
    "cat_cols = [col for col in var_cat if col in selected_features]\n",
    "train_cols = [col for col in df_woe.columns if col in selected_features]"
   ]
  },
  {
   "cell_type": "markdown",
   "metadata": {},
   "source": [
    "### Eliminamos variables con posible alta correlación con la variable target"
   ]
  },
  {
   "cell_type": "code",
   "execution_count": 133,
   "metadata": {},
   "outputs": [],
   "source": [
    "#Funcion auxiliar para eliminar las variables con alta correlacion \n",
    "def drop_feature_selection(row, col, corr, row_iv, col_iv):\n",
    "    if row_iv >= col_iv:\n",
    "        return col\n",
    "    else:\n",
    "        return row"
   ]
  },
  {
   "cell_type": "code",
   "execution_count": 134,
   "metadata": {},
   "outputs": [],
   "source": [
    "#Comprobar la correlacion entre las variables difrentes de la variable objetivo\n",
    "cor_matrix = df2[train_cols].corr(numeric_only=True).abs()\n",
    "upper_tri = cor_matrix.where(np.triu(np.ones(cor_matrix.shape),k=1).astype(np.bool_))\n",
    "corr_df = upper_tri.stack().reset_index()\n",
    "corr_df.columns = ['row', 'col', 'corr']\n",
    "corr_df = corr_df.drop_duplicates()\n",
    "corr_df = corr_df.sort_values('corr', ascending=False)\n",
    "corr_df = corr_df.query(\"corr >= 0.7\")\n",
    "corr_df['row_iv'] = corr_df['row'].map(iv_score_dict)\n",
    "corr_df['col_iv'] = corr_df['col'].map(iv_score_dict)\n",
    "\n",
    "corr_df['drop_feature'] = corr_df.apply(lambda x: drop_feature_selection(x['row'], x['col'], x['corr'], x['row_iv'], x['col_iv']), axis=1)"
   ]
  },
  {
   "cell_type": "code",
   "execution_count": 135,
   "metadata": {},
   "outputs": [
    {
     "data": {
      "text/html": [
       "<div>\n",
       "<style scoped>\n",
       "    .dataframe tbody tr th:only-of-type {\n",
       "        vertical-align: middle;\n",
       "    }\n",
       "\n",
       "    .dataframe tbody tr th {\n",
       "        vertical-align: top;\n",
       "    }\n",
       "\n",
       "    .dataframe thead th {\n",
       "        text-align: right;\n",
       "    }\n",
       "</style>\n",
       "<table border=\"1\" class=\"dataframe\">\n",
       "  <thead>\n",
       "    <tr style=\"text-align: right;\">\n",
       "      <th></th>\n",
       "      <th>row</th>\n",
       "      <th>col</th>\n",
       "      <th>corr</th>\n",
       "      <th>row_iv</th>\n",
       "      <th>col_iv</th>\n",
       "      <th>drop_feature</th>\n",
       "    </tr>\n",
       "  </thead>\n",
       "  <tbody>\n",
       "    <tr>\n",
       "      <th>35</th>\n",
       "      <td>loan_grade</td>\n",
       "      <td>loan_int_rate</td>\n",
       "      <td>0.933531</td>\n",
       "      <td>0.891208</td>\n",
       "      <td>0.799312</td>\n",
       "      <td>loan_int_rate</td>\n",
       "    </tr>\n",
       "  </tbody>\n",
       "</table>\n",
       "</div>"
      ],
      "text/plain": [
       "           row            col      corr    row_iv    col_iv   drop_feature\n",
       "35  loan_grade  loan_int_rate  0.933531  0.891208  0.799312  loan_int_rate"
      ]
     },
     "execution_count": 135,
     "metadata": {},
     "output_type": "execute_result"
    }
   ],
   "source": [
    "#Verificar las variables que se van a eliminar  \n",
    "corr_df"
   ]
  },
  {
   "cell_type": "markdown",
   "metadata": {},
   "source": [
    "### Terminamos eliminando la variable loan_int_rate por su correlación a target"
   ]
  },
  {
   "cell_type": "code",
   "execution_count": 136,
   "metadata": {},
   "outputs": [],
   "source": [
    "#Extraer variables a eliminar \n",
    "corr_drop_features = corr_df['drop_feature'].tolist()"
   ]
  },
  {
   "cell_type": "code",
   "execution_count": 137,
   "metadata": {},
   "outputs": [],
   "source": [
    "#Variables de entrenamiento finales\n",
    "train_cols = [col for col in train_cols if col not in corr_drop_features]"
   ]
  },
  {
   "cell_type": "markdown",
   "metadata": {},
   "source": [
    "### Empezamos el entrenamiento del modelo con las variables apropiadas separando los datos en train y valid"
   ]
  },
  {
   "cell_type": "code",
   "execution_count": 138,
   "metadata": {},
   "outputs": [
    {
     "data": {
      "text/plain": [
       "((19904, 15), (8531, 15))"
      ]
     },
     "execution_count": 138,
     "metadata": {},
     "output_type": "execute_result"
    }
   ],
   "source": [
    "#Split de datos en train y validacion\n",
    "train_data, valid_data = model_selection.train_test_split(dataset_scalado, test_size=0.3, random_state=42, shuffle=True, stratify=df2['loan_status'])\n",
    "train_data.shape, valid_data.shape"
   ]
  },
  {
   "cell_type": "markdown",
   "metadata": {},
   "source": [
    "## Scorecard"
   ]
  },
  {
   "cell_type": "code",
   "execution_count": 139,
   "metadata": {},
   "outputs": [],
   "source": [
    "#Separacion de variables para entrenamiento y validacion\n",
    "X_train = train_data[train_cols].copy()\n",
    "y_train = train_data['loan_status'].copy()\n",
    "\n",
    "X_valid = valid_data[train_cols].copy()\n",
    "y_valid = valid_data['loan_status'].copy()"
   ]
  },
  {
   "cell_type": "markdown",
   "metadata": {},
   "source": [
    "### Creamos un optbinning que va a separar los datos en bins parecidos a clusters"
   ]
  },
  {
   "cell_type": "code",
   "execution_count": 140,
   "metadata": {},
   "outputs": [],
   "source": [
    "#Creacion del optbinning\n",
    "binning_process = optbinning.BinningProcess(                             \n",
    "    variable_names=train_cols,\n",
    "    categorical_variables=cat_cols\n",
    ")"
   ]
  },
  {
   "cell_type": "code",
   "execution_count": 141,
   "metadata": {},
   "outputs": [],
   "source": [
    "#Definicion del modelo a entrenar\n",
    "estimator = linear_model.LogisticRegression()"
   ]
  },
  {
   "cell_type": "code",
   "execution_count": 142,
   "metadata": {},
   "outputs": [],
   "source": [
    "#Creación del scorecard\n",
    "scorecard = optbinning.Scorecard(\n",
    "    binning_process=binning_process,\n",
    "    estimator=estimator, \n",
    "    scaling_method=\"min_max\",\n",
    "    scaling_method_params={\"min\": 0, \"max\": 1000},\n",
    ")"
   ]
  },
  {
   "cell_type": "code",
   "execution_count": 143,
   "metadata": {},
   "outputs": [
    {
     "name": "stderr",
     "output_type": "stream",
     "text": [
      "c:\\Users\\pixel\\anaconda3\\lib\\site-packages\\sklearn\\utils\\validation.py:623: FutureWarning: is_sparse is deprecated and will be removed in a future version. Check `isinstance(dtype, pd.SparseDtype)` instead.\n",
      "  if not hasattr(array, \"sparse\") and array.dtypes.apply(is_sparse).any():\n"
     ]
    },
    {
     "data": {
      "text/plain": [
       "Scorecard(binning_process=BinningProcess(categorical_variables=['person_home_ownership',\n",
       "                                                                'loan_intent',\n",
       "                                                                'loan_grade',\n",
       "                                                                'cb_person_default_on_file',\n",
       "                                                                'income_group',\n",
       "                                                                'person_emp_length',\n",
       "                                                                'loan_group'],\n",
       "                                         variable_names=['person_income',\n",
       "                                                         'person_home_ownership',\n",
       "                                                         'person_emp_length',\n",
       "                                                         'loan_intent',\n",
       "                                                         'loan_grade',\n",
       "                                                         'loan_amnt',\n",
       "                                                         'loan_percent_income',\n",
       "                                                         'cb_person_default_on_file',\n",
       "                                                         'income_group',\n",
       "                                                         'loan_group']),\n",
       "          estimator=LogisticRegression(), scaling_method='min_max',\n",
       "          scaling_method_params={'max': 1000, 'min': 0})"
      ]
     },
     "execution_count": 143,
     "metadata": {},
     "output_type": "execute_result"
    }
   ],
   "source": [
    "scorecard.fit(X_train, y_train)"
   ]
  },
  {
   "cell_type": "code",
   "execution_count": 144,
   "metadata": {},
   "outputs": [],
   "source": [
    "# scorecard table\n",
    "scorecard_df = scorecard.table(style=\"detailed\")"
   ]
  },
  {
   "cell_type": "markdown",
   "metadata": {},
   "source": [
    "### Creamos la scorecard que nos muestra una puntuación tentativa de la persona según sus datos y basados en el modelo de predicción"
   ]
  },
  {
   "cell_type": "code",
   "execution_count": 145,
   "metadata": {},
   "outputs": [
    {
     "data": {
      "text/html": [
       "<div>\n",
       "<style scoped>\n",
       "    .dataframe tbody tr th:only-of-type {\n",
       "        vertical-align: middle;\n",
       "    }\n",
       "\n",
       "    .dataframe tbody tr th {\n",
       "        vertical-align: top;\n",
       "    }\n",
       "\n",
       "    .dataframe thead th {\n",
       "        text-align: right;\n",
       "    }\n",
       "</style>\n",
       "<table border=\"1\" class=\"dataframe\">\n",
       "  <thead>\n",
       "    <tr style=\"text-align: right;\">\n",
       "      <th></th>\n",
       "      <th>Variable</th>\n",
       "      <th>Bin id</th>\n",
       "      <th>Bin</th>\n",
       "      <th>Count</th>\n",
       "      <th>Count (%)</th>\n",
       "      <th>Non-event</th>\n",
       "      <th>Event</th>\n",
       "      <th>Event rate</th>\n",
       "      <th>WoE</th>\n",
       "      <th>IV</th>\n",
       "      <th>JS</th>\n",
       "      <th>Coefficient</th>\n",
       "      <th>Points</th>\n",
       "    </tr>\n",
       "  </thead>\n",
       "  <tbody>\n",
       "    <tr>\n",
       "      <th>0</th>\n",
       "      <td>person_income</td>\n",
       "      <td>0</td>\n",
       "      <td>(-inf, 0.01)</td>\n",
       "      <td>1166</td>\n",
       "      <td>0.058581</td>\n",
       "      <td>540</td>\n",
       "      <td>626</td>\n",
       "      <td>0.536878</td>\n",
       "      <td>-1.430771</td>\n",
       "      <td>0.157752</td>\n",
       "      <td>1.819230e-02</td>\n",
       "      <td>-1.318203</td>\n",
       "      <td>-64.164130</td>\n",
       "    </tr>\n",
       "    <tr>\n",
       "      <th>1</th>\n",
       "      <td>person_income</td>\n",
       "      <td>1</td>\n",
       "      <td>[0.01, 0.02)</td>\n",
       "      <td>2480</td>\n",
       "      <td>0.124598</td>\n",
       "      <td>1468</td>\n",
       "      <td>1012</td>\n",
       "      <td>0.408065</td>\n",
       "      <td>-0.911017</td>\n",
       "      <td>0.127597</td>\n",
       "      <td>1.542000e-02</td>\n",
       "      <td>-1.318203</td>\n",
       "      <td>-20.478804</td>\n",
       "    </tr>\n",
       "    <tr>\n",
       "      <th>2</th>\n",
       "      <td>person_income</td>\n",
       "      <td>2</td>\n",
       "      <td>[0.02, 0.02)</td>\n",
       "      <td>1417</td>\n",
       "      <td>0.071192</td>\n",
       "      <td>1046</td>\n",
       "      <td>371</td>\n",
       "      <td>0.261821</td>\n",
       "      <td>-0.246463</td>\n",
       "      <td>0.004624</td>\n",
       "      <td>5.764816e-04</td>\n",
       "      <td>-1.318203</td>\n",
       "      <td>35.377026</td>\n",
       "    </tr>\n",
       "    <tr>\n",
       "      <th>3</th>\n",
       "      <td>person_income</td>\n",
       "      <td>3</td>\n",
       "      <td>[0.02, 0.02)</td>\n",
       "      <td>2921</td>\n",
       "      <td>0.146754</td>\n",
       "      <td>2290</td>\n",
       "      <td>631</td>\n",
       "      <td>0.216022</td>\n",
       "      <td>0.006012</td>\n",
       "      <td>0.000005</td>\n",
       "      <td>6.618858e-07</td>\n",
       "      <td>-1.318203</td>\n",
       "      <td>56.597538</td>\n",
       "    </tr>\n",
       "    <tr>\n",
       "      <th>4</th>\n",
       "      <td>person_income</td>\n",
       "      <td>4</td>\n",
       "      <td>[0.02, 0.03)</td>\n",
       "      <td>2715</td>\n",
       "      <td>0.136405</td>\n",
       "      <td>2146</td>\n",
       "      <td>569</td>\n",
       "      <td>0.209576</td>\n",
       "      <td>0.044491</td>\n",
       "      <td>0.000267</td>\n",
       "      <td>3.332321e-05</td>\n",
       "      <td>-1.318203</td>\n",
       "      <td>59.831722</td>\n",
       "    </tr>\n",
       "  </tbody>\n",
       "</table>\n",
       "</div>"
      ],
      "text/plain": [
       "        Variable  Bin id           Bin  Count  Count (%)  Non-event  Event  \\\n",
       "0  person_income       0  (-inf, 0.01)   1166   0.058581        540    626   \n",
       "1  person_income       1  [0.01, 0.02)   2480   0.124598       1468   1012   \n",
       "2  person_income       2  [0.02, 0.02)   1417   0.071192       1046    371   \n",
       "3  person_income       3  [0.02, 0.02)   2921   0.146754       2290    631   \n",
       "4  person_income       4  [0.02, 0.03)   2715   0.136405       2146    569   \n",
       "\n",
       "   Event rate       WoE        IV            JS  Coefficient     Points  \n",
       "0    0.536878 -1.430771  0.157752  1.819230e-02    -1.318203 -64.164130  \n",
       "1    0.408065 -0.911017  0.127597  1.542000e-02    -1.318203 -20.478804  \n",
       "2    0.261821 -0.246463  0.004624  5.764816e-04    -1.318203  35.377026  \n",
       "3    0.216022  0.006012  0.000005  6.618858e-07    -1.318203  56.597538  \n",
       "4    0.209576  0.044491  0.000267  3.332321e-05    -1.318203  59.831722  "
      ]
     },
     "execution_count": 145,
     "metadata": {},
     "output_type": "execute_result"
    }
   ],
   "source": [
    "scorecard_df.head()"
   ]
  },
  {
   "cell_type": "code",
   "execution_count": 146,
   "metadata": {},
   "outputs": [
    {
     "data": {
      "text/html": [
       "<div>\n",
       "<style scoped>\n",
       "    .dataframe tbody tr th:only-of-type {\n",
       "        vertical-align: middle;\n",
       "    }\n",
       "\n",
       "    .dataframe tbody tr th {\n",
       "        vertical-align: top;\n",
       "    }\n",
       "\n",
       "    .dataframe thead th {\n",
       "        text-align: right;\n",
       "    }\n",
       "</style>\n",
       "<table border=\"1\" class=\"dataframe\">\n",
       "  <thead>\n",
       "    <tr style=\"text-align: right;\">\n",
       "      <th></th>\n",
       "      <th>Variable</th>\n",
       "      <th>Bin id</th>\n",
       "      <th>Bin</th>\n",
       "      <th>Count</th>\n",
       "      <th>Count (%)</th>\n",
       "      <th>Non-event</th>\n",
       "      <th>Event</th>\n",
       "      <th>Event rate</th>\n",
       "      <th>WoE</th>\n",
       "      <th>IV</th>\n",
       "      <th>JS</th>\n",
       "      <th>Coefficient</th>\n",
       "      <th>Points</th>\n",
       "    </tr>\n",
       "  </thead>\n",
       "  <tbody>\n",
       "    <tr>\n",
       "      <th>4</th>\n",
       "      <td>income_group</td>\n",
       "      <td>4</td>\n",
       "      <td>[0.25]</td>\n",
       "      <td>2587</td>\n",
       "      <td>0.129974</td>\n",
       "      <td>1428</td>\n",
       "      <td>1159</td>\n",
       "      <td>0.448009</td>\n",
       "      <td>-1.074272</td>\n",
       "      <td>0.189775</td>\n",
       "      <td>0.022643</td>\n",
       "      <td>0.699163</td>\n",
       "      <td>103.982633</td>\n",
       "    </tr>\n",
       "    <tr>\n",
       "      <th>3</th>\n",
       "      <td>income_group</td>\n",
       "      <td>3</td>\n",
       "      <td>[0.5]</td>\n",
       "      <td>5855</td>\n",
       "      <td>0.294162</td>\n",
       "      <td>4334</td>\n",
       "      <td>1521</td>\n",
       "      <td>0.259778</td>\n",
       "      <td>-0.235866</td>\n",
       "      <td>0.017449</td>\n",
       "      <td>0.002176</td>\n",
       "      <td>0.699163</td>\n",
       "      <td>66.607021</td>\n",
       "    </tr>\n",
       "    <tr>\n",
       "      <th>5</th>\n",
       "      <td>income_group</td>\n",
       "      <td>5</td>\n",
       "      <td>Special</td>\n",
       "      <td>0</td>\n",
       "      <td>0.000000</td>\n",
       "      <td>0</td>\n",
       "      <td>0</td>\n",
       "      <td>0.000000</td>\n",
       "      <td>0.000000</td>\n",
       "      <td>0.000000</td>\n",
       "      <td>0.000000</td>\n",
       "      <td>0.699163</td>\n",
       "      <td>56.092238</td>\n",
       "    </tr>\n",
       "    <tr>\n",
       "      <th>6</th>\n",
       "      <td>income_group</td>\n",
       "      <td>6</td>\n",
       "      <td>Missing</td>\n",
       "      <td>0</td>\n",
       "      <td>0.000000</td>\n",
       "      <td>0</td>\n",
       "      <td>0</td>\n",
       "      <td>0.000000</td>\n",
       "      <td>0.000000</td>\n",
       "      <td>0.000000</td>\n",
       "      <td>0.000000</td>\n",
       "      <td>0.699163</td>\n",
       "      <td>56.092238</td>\n",
       "    </tr>\n",
       "    <tr>\n",
       "      <th>2</th>\n",
       "      <td>income_group</td>\n",
       "      <td>2</td>\n",
       "      <td>[0.75]</td>\n",
       "      <td>4936</td>\n",
       "      <td>0.247990</td>\n",
       "      <td>4041</td>\n",
       "      <td>895</td>\n",
       "      <td>0.181321</td>\n",
       "      <td>0.224434</td>\n",
       "      <td>0.011699</td>\n",
       "      <td>0.001459</td>\n",
       "      <td>0.699163</td>\n",
       "      <td>46.087089</td>\n",
       "    </tr>\n",
       "    <tr>\n",
       "      <th>1</th>\n",
       "      <td>income_group</td>\n",
       "      <td>1</td>\n",
       "      <td>[1.0]</td>\n",
       "      <td>3933</td>\n",
       "      <td>0.197598</td>\n",
       "      <td>3447</td>\n",
       "      <td>486</td>\n",
       "      <td>0.123570</td>\n",
       "      <td>0.676062</td>\n",
       "      <td>0.073480</td>\n",
       "      <td>0.009014</td>\n",
       "      <td>0.699163</td>\n",
       "      <td>25.953824</td>\n",
       "    </tr>\n",
       "    <tr>\n",
       "      <th>0</th>\n",
       "      <td>income_group</td>\n",
       "      <td>0</td>\n",
       "      <td>[0.0]</td>\n",
       "      <td>2593</td>\n",
       "      <td>0.130275</td>\n",
       "      <td>2334</td>\n",
       "      <td>259</td>\n",
       "      <td>0.099884</td>\n",
       "      <td>0.915521</td>\n",
       "      <td>0.082228</td>\n",
       "      <td>0.009934</td>\n",
       "      <td>0.699163</td>\n",
       "      <td>15.278851</td>\n",
       "    </tr>\n",
       "  </tbody>\n",
       "</table>\n",
       "</div>"
      ],
      "text/plain": [
       "       Variable  Bin id      Bin  Count  Count (%)  Non-event  Event  \\\n",
       "4  income_group       4   [0.25]   2587   0.129974       1428   1159   \n",
       "3  income_group       3    [0.5]   5855   0.294162       4334   1521   \n",
       "5  income_group       5  Special      0   0.000000          0      0   \n",
       "6  income_group       6  Missing      0   0.000000          0      0   \n",
       "2  income_group       2   [0.75]   4936   0.247990       4041    895   \n",
       "1  income_group       1    [1.0]   3933   0.197598       3447    486   \n",
       "0  income_group       0    [0.0]   2593   0.130275       2334    259   \n",
       "\n",
       "   Event rate       WoE        IV        JS  Coefficient      Points  \n",
       "4    0.448009 -1.074272  0.189775  0.022643     0.699163  103.982633  \n",
       "3    0.259778 -0.235866  0.017449  0.002176     0.699163   66.607021  \n",
       "5    0.000000  0.000000  0.000000  0.000000     0.699163   56.092238  \n",
       "6    0.000000  0.000000  0.000000  0.000000     0.699163   56.092238  \n",
       "2    0.181321  0.224434  0.011699  0.001459     0.699163   46.087089  \n",
       "1    0.123570  0.676062  0.073480  0.009014     0.699163   25.953824  \n",
       "0    0.099884  0.915521  0.082228  0.009934     0.699163   15.278851  "
      ]
     },
     "execution_count": 146,
     "metadata": {},
     "output_type": "execute_result"
    }
   ],
   "source": [
    "scorecard_df.query(\"Variable == 'income_group'\").sort_values(\"Points\", ascending=False)"
   ]
  },
  {
   "cell_type": "code",
   "execution_count": 147,
   "metadata": {},
   "outputs": [
    {
     "data": {
      "text/plain": [
       "['scorecard.pkl']"
      ]
     },
     "execution_count": 147,
     "metadata": {},
     "output_type": "execute_result"
    }
   ],
   "source": [
    "#Guardar el scorecard ajustado a los datos\n",
    "joblib.dump(scorecard, 'scorecard.pkl')"
   ]
  },
  {
   "cell_type": "code",
   "execution_count": 148,
   "metadata": {},
   "outputs": [
    {
     "data": {
      "text/html": [
       "<div>\n",
       "<style scoped>\n",
       "    .dataframe tbody tr th:only-of-type {\n",
       "        vertical-align: middle;\n",
       "    }\n",
       "\n",
       "    .dataframe tbody tr th {\n",
       "        vertical-align: top;\n",
       "    }\n",
       "\n",
       "    .dataframe thead th {\n",
       "        text-align: right;\n",
       "    }\n",
       "</style>\n",
       "<table border=\"1\" class=\"dataframe\">\n",
       "  <thead>\n",
       "    <tr style=\"text-align: right;\">\n",
       "      <th></th>\n",
       "      <th>Variable</th>\n",
       "      <th>Points</th>\n",
       "    </tr>\n",
       "  </thead>\n",
       "  <tbody>\n",
       "    <tr>\n",
       "      <th>8</th>\n",
       "      <td>loan_percent_income</td>\n",
       "      <td>-98.843939</td>\n",
       "    </tr>\n",
       "    <tr>\n",
       "      <th>7</th>\n",
       "      <td>loan_percent_income</td>\n",
       "      <td>-86.518028</td>\n",
       "    </tr>\n",
       "    <tr>\n",
       "      <th>3</th>\n",
       "      <td>loan_grade</td>\n",
       "      <td>-83.140752</td>\n",
       "    </tr>\n",
       "    <tr>\n",
       "      <th>0</th>\n",
       "      <td>person_income</td>\n",
       "      <td>-64.164130</td>\n",
       "    </tr>\n",
       "    <tr>\n",
       "      <th>1</th>\n",
       "      <td>person_income</td>\n",
       "      <td>-20.478804</td>\n",
       "    </tr>\n",
       "  </tbody>\n",
       "</table>\n",
       "</div>"
      ],
      "text/plain": [
       "              Variable     Points\n",
       "8  loan_percent_income -98.843939\n",
       "7  loan_percent_income -86.518028\n",
       "3           loan_grade -83.140752\n",
       "0        person_income -64.164130\n",
       "1        person_income -20.478804"
      ]
     },
     "execution_count": 148,
     "metadata": {},
     "output_type": "execute_result"
    }
   ],
   "source": [
    "# Se debe de buscar las variables cuyo puntaje sea negativo, luego se ordena del menor al mayor\n",
    "# 1. Elegir sólo las variables cuyo puntaje sea menor a 0\n",
    "variablesRiesgosas = scorecard_df[(scorecard_df['Points'] < 0)][[\"Variable\",\"Points\"]]\n",
    "# 2. Ordenar de menor a mayor\n",
    "variablesRiesgosas.sort_values(by=['Points'])\n",
    "# 3. Exponer estas variables en el reporte técnico"
   ]
  },
  {
   "cell_type": "markdown",
   "metadata": {},
   "source": [
    "# Modelo"
   ]
  },
  {
   "cell_type": "markdown",
   "metadata": {},
   "source": [
    "### Creamos el modelo de predicción en base a una regresión logistica"
   ]
  },
  {
   "cell_type": "code",
   "execution_count": 149,
   "metadata": {},
   "outputs": [],
   "source": [
    "model = linear_model.LogisticRegression()"
   ]
  },
  {
   "cell_type": "code",
   "execution_count": 150,
   "metadata": {},
   "outputs": [
    {
     "name": "stderr",
     "output_type": "stream",
     "text": [
      "c:\\Users\\pixel\\anaconda3\\lib\\site-packages\\sklearn\\utils\\validation.py:623: FutureWarning: is_sparse is deprecated and will be removed in a future version. Check `isinstance(dtype, pd.SparseDtype)` instead.\n",
      "  if not hasattr(array, \"sparse\") and array.dtypes.apply(is_sparse).any():\n"
     ]
    },
    {
     "data": {
      "text/plain": [
       "LogisticRegression()"
      ]
     },
     "execution_count": 150,
     "metadata": {},
     "output_type": "execute_result"
    }
   ],
   "source": [
    "model.fit(X_train, y_train)"
   ]
  },
  {
   "cell_type": "code",
   "execution_count": 151,
   "metadata": {},
   "outputs": [
    {
     "name": "stderr",
     "output_type": "stream",
     "text": [
      "c:\\Users\\pixel\\anaconda3\\lib\\site-packages\\sklearn\\utils\\validation.py:623: FutureWarning: is_sparse is deprecated and will be removed in a future version. Check `isinstance(dtype, pd.SparseDtype)` instead.\n",
      "  if not hasattr(array, \"sparse\") and array.dtypes.apply(is_sparse).any():\n"
     ]
    }
   ],
   "source": [
    "predict=model.predict(X_valid)"
   ]
  },
  {
   "cell_type": "markdown",
   "metadata": {},
   "source": [
    "### Sacamos las medidas de desempeño del modelo con accuracy, recall, la matriz de confusión y su ROC curve"
   ]
  },
  {
   "cell_type": "code",
   "execution_count": 152,
   "metadata": {},
   "outputs": [],
   "source": [
    "tn, fp, fn, tp = metrics.confusion_matrix(y_valid,predict).ravel()"
   ]
  },
  {
   "cell_type": "code",
   "execution_count": 153,
   "metadata": {},
   "outputs": [
    {
     "data": {
      "text/plain": [
       "0.8469112647989685"
      ]
     },
     "execution_count": 153,
     "metadata": {},
     "output_type": "execute_result"
    }
   ],
   "source": [
    "accuracy = (tp + tn) /(tp + tn + fn + fp)\n",
    "accuracy"
   ]
  },
  {
   "cell_type": "code",
   "execution_count": 154,
   "metadata": {},
   "outputs": [
    {
     "data": {
      "text/plain": [
       "0.7335047129391602"
      ]
     },
     "execution_count": 154,
     "metadata": {},
     "output_type": "execute_result"
    }
   ],
   "source": [
    "precision = tp / (tp + fp)\n",
    "precision"
   ]
  },
  {
   "cell_type": "code",
   "execution_count": 155,
   "metadata": {},
   "outputs": [
    {
     "data": {
      "text/plain": [
       "0.953443113772455"
      ]
     },
     "execution_count": 155,
     "metadata": {},
     "output_type": "execute_result"
    }
   ],
   "source": [
    "recall = tn / (tn + fp)\n",
    "recall"
   ]
  },
  {
   "cell_type": "code",
   "execution_count": 156,
   "metadata": {},
   "outputs": [
    {
     "data": {
      "text/plain": [
       "0.8291365108009815"
      ]
     },
     "execution_count": 156,
     "metadata": {},
     "output_type": "execute_result"
    }
   ],
   "source": [
    "f1_score = (2*precision*recall)/(precision + recall)\n",
    "f1_score"
   ]
  },
  {
   "cell_type": "code",
   "execution_count": 157,
   "metadata": {},
   "outputs": [
    {
     "name": "stderr",
     "output_type": "stream",
     "text": [
      "c:\\Users\\pixel\\anaconda3\\lib\\site-packages\\sklearn\\utils\\validation.py:623: FutureWarning: is_sparse is deprecated and will be removed in a future version. Check `isinstance(dtype, pd.SparseDtype)` instead.\n",
      "  if not hasattr(array, \"sparse\") and array.dtypes.apply(is_sparse).any():\n"
     ]
    }
   ],
   "source": [
    "score=model.score(X_valid, y_valid)"
   ]
  },
  {
   "cell_type": "code",
   "execution_count": 158,
   "metadata": {},
   "outputs": [
    {
     "name": "stdout",
     "output_type": "stream",
     "text": [
      "[[6369  311]\n",
      " [ 995  856]]\n"
     ]
    },
    {
     "name": "stderr",
     "output_type": "stream",
     "text": [
      "c:\\Users\\pixel\\anaconda3\\lib\\site-packages\\sklearn\\utils\\validation.py:623: FutureWarning: is_sparse is deprecated and will be removed in a future version. Check `isinstance(dtype, pd.SparseDtype)` instead.\n",
      "  if not hasattr(array, \"sparse\") and array.dtypes.apply(is_sparse).any():\n"
     ]
    }
   ],
   "source": [
    "#matriz de confusion\n",
    "cm=metrics.confusion_matrix(y_valid, model.predict(X_valid))\n",
    "print(cm)"
   ]
  },
  {
   "cell_type": "code",
   "execution_count": 159,
   "metadata": {},
   "outputs": [
    {
     "data": {
      "image/png": "[encoded data removed]",
      "text/plain": [
       "<Figure size 648x648 with 2 Axes>"
      ]
     },
     "metadata": {},
     "output_type": "display_data"
    }
   ],
   "source": [
    "plt.figure(figsize=(9,9))\n",
    "sns.heatmap(cm, annot=True, fmt=\".3f\", linewidths=.5, square = True, cmap = 'Blues_r');\n",
    "plt.ylabel('Actual label');\n",
    "plt.xlabel('Predicted label');\n",
    "all_sample_title = 'Accuracy Score: {0}'.format(score)\n",
    "plt.title(all_sample_title, size = 15);"
   ]
  },
  {
   "cell_type": "code",
   "execution_count": 160,
   "metadata": {},
   "outputs": [
    {
     "name": "stderr",
     "output_type": "stream",
     "text": [
      "c:\\Users\\pixel\\anaconda3\\lib\\site-packages\\sklearn\\utils\\validation.py:623: FutureWarning: is_sparse is deprecated and will be removed in a future version. Check `isinstance(dtype, pd.SparseDtype)` instead.\n",
      "  if not hasattr(array, \"sparse\") and array.dtypes.apply(is_sparse).any():\n"
     ]
    }
   ],
   "source": [
    "probas=model.predict_proba(X_train)"
   ]
  },
  {
   "cell_type": "code",
   "execution_count": 161,
   "metadata": {},
   "outputs": [],
   "source": [
    "# Generate RoC curve\n",
    "fpr, tpr, thresholds = roc_curve(y_train, probas[:, 1])\n",
    "roc_auc = auc(fpr, tpr)"
   ]
  },
  {
   "cell_type": "code",
   "execution_count": 162,
   "metadata": {},
   "outputs": [
    {
     "data": {
      "image/png": "[encoded data removed]",
      "text/plain": [
       "<Figure size 432x288 with 1 Axes>"
      ]
     },
     "metadata": {},
     "output_type": "display_data"
    }
   ],
   "source": [
    "\n",
    "# Plot RoC curve\n",
    "plt.plot(fpr, tpr, label='ROC curve (area = %0.2f)' % roc_auc)\n",
    "plt.plot([0, 1], [0, 1], 'k--')\n",
    "plt.xlim([0.0, 1.0])\n",
    "plt.ylim([0.0, 1.05])\n",
    "plt.xlabel('False Positive Rate')\n",
    "plt.ylabel('True Positive Rate')\n",
    "plt.title('Receiver operating characteristic example')\n",
    "plt.legend(loc=\"lower right\")\n",
    "plt.show()"
   ]
  }
 ],
 "metadata": {
  "kernelspec": {
   "display_name": "Python 3",
   "language": "python",
   "name": "python3"
  },
  "language_info": {
   "codemirror_mode": {
    "name": "ipython",
    "version": 3
   },
   "file_extension": ".py",
   "mimetype": "text/x-python",
   "name": "python",
   "nbconvert_exporter": "python",
   "pygments_lexer": "ipython3",
   "version": "3.9.12"
  },
  "orig_nbformat": 4
 },
 "nbformat": 4,
 "nbformat_minor": 2
}

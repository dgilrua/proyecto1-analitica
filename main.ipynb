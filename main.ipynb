{
 "cells": [
  {
   "cell_type": "markdown",
   "metadata": {},
   "source": [
    "<h1>Importacion de librerias necesarias para el desarrollo del modelo</h1>"
   ]
  },
  {
   "cell_type": "code",
   "execution_count": 50,
   "metadata": {},
   "outputs": [],
   "source": [
    "# Manipulacion de datos\n",
    "import pandas as pd\n",
    "import numpy as np\n",
    "import math\n",
    "from tqdm import tqdm\n",
    "import optbinning\n",
    "from sklearn.preprocessing import OrdinalEncoder\n",
    "\n",
    "#Visualizacion\n",
    "import matplotlib.pyplot as plt\n",
    "import seaborn as sns\n",
    "import sklearn\n",
    "\n",
    "#Preprocesamiento\n",
    "from sklearn.preprocessing import OneHotEncoder, OrdinalEncoder, MinMaxScaler, StandardScaler, Normalizer\n",
    "from sklearn.linear_model import LogisticRegression\n",
    "from sklearn import metrics, model_selection, linear_model\n",
    "from sklearn.feature_selection import f_classif\n",
    "from sklearn.model_selection import train_test_split\n",
    "from scipy.stats import chi2_contingency\n",
    "\n",
    "#Estilo de las graficas\n",
    "sns.set_style('whitegrid')"
   ]
  },
  {
   "cell_type": "code",
   "execution_count": 51,
   "metadata": {},
   "outputs": [
    {
     "data": {
      "text/html": [
       "<div>\n",
       "<style scoped>\n",
       "    .dataframe tbody tr th:only-of-type {\n",
       "        vertical-align: middle;\n",
       "    }\n",
       "\n",
       "    .dataframe tbody tr th {\n",
       "        vertical-align: top;\n",
       "    }\n",
       "\n",
       "    .dataframe thead th {\n",
       "        text-align: right;\n",
       "    }\n",
       "</style>\n",
       "<table border=\"1\" class=\"dataframe\">\n",
       "  <thead>\n",
       "    <tr style=\"text-align: right;\">\n",
       "      <th></th>\n",
       "      <th>person_age</th>\n",
       "      <th>person_income</th>\n",
       "      <th>person_home_ownership</th>\n",
       "      <th>person_emp_length</th>\n",
       "      <th>loan_intent</th>\n",
       "      <th>loan_grade</th>\n",
       "      <th>loan_amnt</th>\n",
       "      <th>loan_int_rate</th>\n",
       "      <th>loan_status</th>\n",
       "      <th>loan_percent_income</th>\n",
       "      <th>cb_person_default_on_file</th>\n",
       "      <th>cb_person_cred_hist_length</th>\n",
       "    </tr>\n",
       "  </thead>\n",
       "  <tbody>\n",
       "    <tr>\n",
       "      <th>0</th>\n",
       "      <td>22</td>\n",
       "      <td>59000</td>\n",
       "      <td>RENT</td>\n",
       "      <td>123.0</td>\n",
       "      <td>PERSONAL</td>\n",
       "      <td>D</td>\n",
       "      <td>35000</td>\n",
       "      <td>16.02</td>\n",
       "      <td>1</td>\n",
       "      <td>0.59</td>\n",
       "      <td>Y</td>\n",
       "      <td>3</td>\n",
       "    </tr>\n",
       "    <tr>\n",
       "      <th>1</th>\n",
       "      <td>21</td>\n",
       "      <td>9600</td>\n",
       "      <td>OWN</td>\n",
       "      <td>5.0</td>\n",
       "      <td>EDUCATION</td>\n",
       "      <td>B</td>\n",
       "      <td>1000</td>\n",
       "      <td>11.14</td>\n",
       "      <td>0</td>\n",
       "      <td>0.10</td>\n",
       "      <td>N</td>\n",
       "      <td>2</td>\n",
       "    </tr>\n",
       "    <tr>\n",
       "      <th>2</th>\n",
       "      <td>25</td>\n",
       "      <td>9600</td>\n",
       "      <td>MORTGAGE</td>\n",
       "      <td>1.0</td>\n",
       "      <td>MEDICAL</td>\n",
       "      <td>C</td>\n",
       "      <td>5500</td>\n",
       "      <td>12.87</td>\n",
       "      <td>1</td>\n",
       "      <td>0.57</td>\n",
       "      <td>N</td>\n",
       "      <td>3</td>\n",
       "    </tr>\n",
       "    <tr>\n",
       "      <th>3</th>\n",
       "      <td>23</td>\n",
       "      <td>65500</td>\n",
       "      <td>RENT</td>\n",
       "      <td>4.0</td>\n",
       "      <td>MEDICAL</td>\n",
       "      <td>C</td>\n",
       "      <td>35000</td>\n",
       "      <td>15.23</td>\n",
       "      <td>1</td>\n",
       "      <td>0.53</td>\n",
       "      <td>N</td>\n",
       "      <td>2</td>\n",
       "    </tr>\n",
       "    <tr>\n",
       "      <th>4</th>\n",
       "      <td>24</td>\n",
       "      <td>54400</td>\n",
       "      <td>RENT</td>\n",
       "      <td>8.0</td>\n",
       "      <td>MEDICAL</td>\n",
       "      <td>C</td>\n",
       "      <td>35000</td>\n",
       "      <td>14.27</td>\n",
       "      <td>1</td>\n",
       "      <td>0.55</td>\n",
       "      <td>Y</td>\n",
       "      <td>4</td>\n",
       "    </tr>\n",
       "  </tbody>\n",
       "</table>\n",
       "</div>"
      ],
      "text/plain": [
       "   person_age  person_income person_home_ownership  person_emp_length  \\\n",
       "0          22          59000                  RENT              123.0   \n",
       "1          21           9600                   OWN                5.0   \n",
       "2          25           9600              MORTGAGE                1.0   \n",
       "3          23          65500                  RENT                4.0   \n",
       "4          24          54400                  RENT                8.0   \n",
       "\n",
       "  loan_intent loan_grade  loan_amnt  loan_int_rate  loan_status  \\\n",
       "0    PERSONAL          D      35000          16.02            1   \n",
       "1   EDUCATION          B       1000          11.14            0   \n",
       "2     MEDICAL          C       5500          12.87            1   \n",
       "3     MEDICAL          C      35000          15.23            1   \n",
       "4     MEDICAL          C      35000          14.27            1   \n",
       "\n",
       "   loan_percent_income cb_person_default_on_file  cb_person_cred_hist_length  \n",
       "0                 0.59                         Y                           3  \n",
       "1                 0.10                         N                           2  \n",
       "2                 0.57                         N                           3  \n",
       "3                 0.53                         N                           2  \n",
       "4                 0.55                         Y                           4  "
      ]
     },
     "execution_count": 51,
     "metadata": {},
     "output_type": "execute_result"
    }
   ],
   "source": [
    "# Carga de datos\n",
    "df = pd.read_csv('credit_risk_dataset.csv')\n",
    "df.head()"
   ]
  },
  {
   "cell_type": "code",
   "execution_count": 52,
   "metadata": {},
   "outputs": [
    {
     "data": {
      "text/html": [
       "<div>\n",
       "<style scoped>\n",
       "    .dataframe tbody tr th:only-of-type {\n",
       "        vertical-align: middle;\n",
       "    }\n",
       "\n",
       "    .dataframe tbody tr th {\n",
       "        vertical-align: top;\n",
       "    }\n",
       "\n",
       "    .dataframe thead th {\n",
       "        text-align: right;\n",
       "    }\n",
       "</style>\n",
       "<table border=\"1\" class=\"dataframe\">\n",
       "  <thead>\n",
       "    <tr style=\"text-align: right;\">\n",
       "      <th></th>\n",
       "      <th>person_age</th>\n",
       "      <th>person_income</th>\n",
       "      <th>person_home_ownership</th>\n",
       "      <th>person_emp_length</th>\n",
       "      <th>loan_intent</th>\n",
       "      <th>loan_grade</th>\n",
       "      <th>loan_amnt</th>\n",
       "      <th>loan_int_rate</th>\n",
       "      <th>loan_status</th>\n",
       "      <th>loan_percent_income</th>\n",
       "      <th>cb_person_default_on_file</th>\n",
       "      <th>cb_person_cred_hist_length</th>\n",
       "    </tr>\n",
       "  </thead>\n",
       "  <tbody>\n",
       "    <tr>\n",
       "      <th>32576</th>\n",
       "      <td>57</td>\n",
       "      <td>53000</td>\n",
       "      <td>MORTGAGE</td>\n",
       "      <td>1.0</td>\n",
       "      <td>PERSONAL</td>\n",
       "      <td>C</td>\n",
       "      <td>5800</td>\n",
       "      <td>13.16</td>\n",
       "      <td>0</td>\n",
       "      <td>0.11</td>\n",
       "      <td>N</td>\n",
       "      <td>30</td>\n",
       "    </tr>\n",
       "    <tr>\n",
       "      <th>32577</th>\n",
       "      <td>54</td>\n",
       "      <td>120000</td>\n",
       "      <td>MORTGAGE</td>\n",
       "      <td>4.0</td>\n",
       "      <td>PERSONAL</td>\n",
       "      <td>A</td>\n",
       "      <td>17625</td>\n",
       "      <td>7.49</td>\n",
       "      <td>0</td>\n",
       "      <td>0.15</td>\n",
       "      <td>N</td>\n",
       "      <td>19</td>\n",
       "    </tr>\n",
       "    <tr>\n",
       "      <th>32578</th>\n",
       "      <td>65</td>\n",
       "      <td>76000</td>\n",
       "      <td>RENT</td>\n",
       "      <td>3.0</td>\n",
       "      <td>HOMEIMPROVEMENT</td>\n",
       "      <td>B</td>\n",
       "      <td>35000</td>\n",
       "      <td>10.99</td>\n",
       "      <td>1</td>\n",
       "      <td>0.46</td>\n",
       "      <td>N</td>\n",
       "      <td>28</td>\n",
       "    </tr>\n",
       "    <tr>\n",
       "      <th>32579</th>\n",
       "      <td>56</td>\n",
       "      <td>150000</td>\n",
       "      <td>MORTGAGE</td>\n",
       "      <td>5.0</td>\n",
       "      <td>PERSONAL</td>\n",
       "      <td>B</td>\n",
       "      <td>15000</td>\n",
       "      <td>11.48</td>\n",
       "      <td>0</td>\n",
       "      <td>0.10</td>\n",
       "      <td>N</td>\n",
       "      <td>26</td>\n",
       "    </tr>\n",
       "    <tr>\n",
       "      <th>32580</th>\n",
       "      <td>66</td>\n",
       "      <td>42000</td>\n",
       "      <td>RENT</td>\n",
       "      <td>2.0</td>\n",
       "      <td>MEDICAL</td>\n",
       "      <td>B</td>\n",
       "      <td>6475</td>\n",
       "      <td>9.99</td>\n",
       "      <td>0</td>\n",
       "      <td>0.15</td>\n",
       "      <td>N</td>\n",
       "      <td>30</td>\n",
       "    </tr>\n",
       "  </tbody>\n",
       "</table>\n",
       "</div>"
      ],
      "text/plain": [
       "       person_age  person_income person_home_ownership  person_emp_length  \\\n",
       "32576          57          53000              MORTGAGE                1.0   \n",
       "32577          54         120000              MORTGAGE                4.0   \n",
       "32578          65          76000                  RENT                3.0   \n",
       "32579          56         150000              MORTGAGE                5.0   \n",
       "32580          66          42000                  RENT                2.0   \n",
       "\n",
       "           loan_intent loan_grade  loan_amnt  loan_int_rate  loan_status  \\\n",
       "32576         PERSONAL          C       5800          13.16            0   \n",
       "32577         PERSONAL          A      17625           7.49            0   \n",
       "32578  HOMEIMPROVEMENT          B      35000          10.99            1   \n",
       "32579         PERSONAL          B      15000          11.48            0   \n",
       "32580          MEDICAL          B       6475           9.99            0   \n",
       "\n",
       "       loan_percent_income cb_person_default_on_file  \\\n",
       "32576                 0.11                         N   \n",
       "32577                 0.15                         N   \n",
       "32578                 0.46                         N   \n",
       "32579                 0.10                         N   \n",
       "32580                 0.15                         N   \n",
       "\n",
       "       cb_person_cred_hist_length  \n",
       "32576                          30  \n",
       "32577                          19  \n",
       "32578                          28  \n",
       "32579                          26  \n",
       "32580                          30  "
      ]
     },
     "execution_count": 52,
     "metadata": {},
     "output_type": "execute_result"
    }
   ],
   "source": [
    "df.tail()"
   ]
  },
  {
   "cell_type": "code",
   "execution_count": 53,
   "metadata": {},
   "outputs": [
    {
     "data": {
      "text/plain": [
       "(32581, 12)"
      ]
     },
     "execution_count": 53,
     "metadata": {},
     "output_type": "execute_result"
    }
   ],
   "source": [
    "# Tamaño del dataset\n",
    "df.shape"
   ]
  },
  {
   "cell_type": "code",
   "execution_count": 54,
   "metadata": {},
   "outputs": [
    {
     "name": "stdout",
     "output_type": "stream",
     "text": [
      "<class 'pandas.core.frame.DataFrame'>\n",
      "RangeIndex: 32581 entries, 0 to 32580\n",
      "Data columns (total 12 columns):\n",
      " #   Column                      Non-Null Count  Dtype  \n",
      "---  ------                      --------------  -----  \n",
      " 0   person_age                  32581 non-null  int64  \n",
      " 1   person_income               32581 non-null  int64  \n",
      " 2   person_home_ownership       32581 non-null  object \n",
      " 3   person_emp_length           31686 non-null  float64\n",
      " 4   loan_intent                 32581 non-null  object \n",
      " 5   loan_grade                  32581 non-null  object \n",
      " 6   loan_amnt                   32581 non-null  int64  \n",
      " 7   loan_int_rate               29465 non-null  float64\n",
      " 8   loan_status                 32581 non-null  int64  \n",
      " 9   loan_percent_income         32581 non-null  float64\n",
      " 10  cb_person_default_on_file   32581 non-null  object \n",
      " 11  cb_person_cred_hist_length  32581 non-null  int64  \n",
      "dtypes: float64(3), int64(5), object(4)\n",
      "memory usage: 3.0+ MB\n"
     ]
    }
   ],
   "source": [
    "#informacion general del dataset\n",
    "df.info()"
   ]
  },
  {
   "cell_type": "code",
   "execution_count": 55,
   "metadata": {},
   "outputs": [
    {
     "data": {
      "text/plain": [
       "person_age                       0\n",
       "person_income                    0\n",
       "person_home_ownership            0\n",
       "person_emp_length              895\n",
       "loan_intent                      0\n",
       "loan_grade                       0\n",
       "loan_amnt                        0\n",
       "loan_int_rate                 3116\n",
       "loan_status                      0\n",
       "loan_percent_income              0\n",
       "cb_person_default_on_file        0\n",
       "cb_person_cred_hist_length       0\n",
       "dtype: int64"
      ]
     },
     "execution_count": 55,
     "metadata": {},
     "output_type": "execute_result"
    }
   ],
   "source": [
    "#conteo de valores nulos\n",
    "df.isnull().sum()"
   ]
  },
  {
   "cell_type": "code",
   "execution_count": 56,
   "metadata": {},
   "outputs": [
    {
     "data": {
      "text/plain": [
       "person_age                    0\n",
       "person_income                 0\n",
       "person_home_ownership         0\n",
       "person_emp_length             0\n",
       "loan_intent                   0\n",
       "loan_grade                    0\n",
       "loan_amnt                     0\n",
       "loan_int_rate                 0\n",
       "loan_status                   0\n",
       "loan_percent_income           0\n",
       "cb_person_default_on_file     0\n",
       "cb_person_cred_hist_length    0\n",
       "dtype: int64"
      ]
     },
     "execution_count": 56,
     "metadata": {},
     "output_type": "execute_result"
    }
   ],
   "source": [
    "#Eliminar filas con valores nulos y verificar\n",
    "df = df.dropna().reset_index(drop=True)\n",
    "df.isnull().sum()"
   ]
  },
  {
   "cell_type": "code",
   "execution_count": 57,
   "metadata": {},
   "outputs": [
    {
     "data": {
      "text/plain": [
       "person_age                      57\n",
       "person_income                 3835\n",
       "person_home_ownership            4\n",
       "person_emp_length               36\n",
       "loan_intent                      6\n",
       "loan_grade                       7\n",
       "loan_amnt                      728\n",
       "loan_int_rate                  348\n",
       "loan_status                      2\n",
       "loan_percent_income             77\n",
       "cb_person_default_on_file        2\n",
       "cb_person_cred_hist_length      29\n",
       "dtype: int64"
      ]
     },
     "execution_count": 57,
     "metadata": {},
     "output_type": "execute_result"
    }
   ],
   "source": [
    "#conteo de valores unicos\n",
    "df.nunique()"
   ]
  },
  {
   "cell_type": "code",
   "execution_count": 58,
   "metadata": {},
   "outputs": [
    {
     "data": {
      "text/html": [
       "<div>\n",
       "<style scoped>\n",
       "    .dataframe tbody tr th:only-of-type {\n",
       "        vertical-align: middle;\n",
       "    }\n",
       "\n",
       "    .dataframe tbody tr th {\n",
       "        vertical-align: top;\n",
       "    }\n",
       "\n",
       "    .dataframe thead th {\n",
       "        text-align: right;\n",
       "    }\n",
       "</style>\n",
       "<table border=\"1\" class=\"dataframe\">\n",
       "  <thead>\n",
       "    <tr style=\"text-align: right;\">\n",
       "      <th></th>\n",
       "      <th>person_age</th>\n",
       "      <th>person_income</th>\n",
       "      <th>person_emp_length</th>\n",
       "      <th>loan_amnt</th>\n",
       "      <th>loan_int_rate</th>\n",
       "      <th>loan_status</th>\n",
       "      <th>loan_percent_income</th>\n",
       "      <th>cb_person_cred_hist_length</th>\n",
       "    </tr>\n",
       "  </thead>\n",
       "  <tbody>\n",
       "    <tr>\n",
       "      <th>count</th>\n",
       "      <td>28638.000000</td>\n",
       "      <td>2.863800e+04</td>\n",
       "      <td>28638.000000</td>\n",
       "      <td>28638.000000</td>\n",
       "      <td>28638.000000</td>\n",
       "      <td>28638.000000</td>\n",
       "      <td>28638.000000</td>\n",
       "      <td>28638.000000</td>\n",
       "    </tr>\n",
       "    <tr>\n",
       "      <th>mean</th>\n",
       "      <td>27.727216</td>\n",
       "      <td>6.664937e+04</td>\n",
       "      <td>4.788672</td>\n",
       "      <td>9656.493121</td>\n",
       "      <td>11.039867</td>\n",
       "      <td>0.216600</td>\n",
       "      <td>0.169488</td>\n",
       "      <td>5.793736</td>\n",
       "    </tr>\n",
       "    <tr>\n",
       "      <th>std</th>\n",
       "      <td>6.310441</td>\n",
       "      <td>6.235645e+04</td>\n",
       "      <td>4.154627</td>\n",
       "      <td>6329.683361</td>\n",
       "      <td>3.229372</td>\n",
       "      <td>0.411935</td>\n",
       "      <td>0.106393</td>\n",
       "      <td>4.038483</td>\n",
       "    </tr>\n",
       "    <tr>\n",
       "      <th>min</th>\n",
       "      <td>20.000000</td>\n",
       "      <td>4.000000e+03</td>\n",
       "      <td>0.000000</td>\n",
       "      <td>500.000000</td>\n",
       "      <td>5.420000</td>\n",
       "      <td>0.000000</td>\n",
       "      <td>0.000000</td>\n",
       "      <td>2.000000</td>\n",
       "    </tr>\n",
       "    <tr>\n",
       "      <th>25%</th>\n",
       "      <td>23.000000</td>\n",
       "      <td>3.948000e+04</td>\n",
       "      <td>2.000000</td>\n",
       "      <td>5000.000000</td>\n",
       "      <td>7.900000</td>\n",
       "      <td>0.000000</td>\n",
       "      <td>0.090000</td>\n",
       "      <td>3.000000</td>\n",
       "    </tr>\n",
       "    <tr>\n",
       "      <th>50%</th>\n",
       "      <td>26.000000</td>\n",
       "      <td>5.595600e+04</td>\n",
       "      <td>4.000000</td>\n",
       "      <td>8000.000000</td>\n",
       "      <td>10.990000</td>\n",
       "      <td>0.000000</td>\n",
       "      <td>0.150000</td>\n",
       "      <td>4.000000</td>\n",
       "    </tr>\n",
       "    <tr>\n",
       "      <th>75%</th>\n",
       "      <td>30.000000</td>\n",
       "      <td>8.000000e+04</td>\n",
       "      <td>7.000000</td>\n",
       "      <td>12500.000000</td>\n",
       "      <td>13.480000</td>\n",
       "      <td>0.000000</td>\n",
       "      <td>0.230000</td>\n",
       "      <td>8.000000</td>\n",
       "    </tr>\n",
       "    <tr>\n",
       "      <th>max</th>\n",
       "      <td>144.000000</td>\n",
       "      <td>6.000000e+06</td>\n",
       "      <td>123.000000</td>\n",
       "      <td>35000.000000</td>\n",
       "      <td>23.220000</td>\n",
       "      <td>1.000000</td>\n",
       "      <td>0.830000</td>\n",
       "      <td>30.000000</td>\n",
       "    </tr>\n",
       "  </tbody>\n",
       "</table>\n",
       "</div>"
      ],
      "text/plain": [
       "         person_age  person_income  person_emp_length     loan_amnt  \\\n",
       "count  28638.000000   2.863800e+04       28638.000000  28638.000000   \n",
       "mean      27.727216   6.664937e+04           4.788672   9656.493121   \n",
       "std        6.310441   6.235645e+04           4.154627   6329.683361   \n",
       "min       20.000000   4.000000e+03           0.000000    500.000000   \n",
       "25%       23.000000   3.948000e+04           2.000000   5000.000000   \n",
       "50%       26.000000   5.595600e+04           4.000000   8000.000000   \n",
       "75%       30.000000   8.000000e+04           7.000000  12500.000000   \n",
       "max      144.000000   6.000000e+06         123.000000  35000.000000   \n",
       "\n",
       "       loan_int_rate   loan_status  loan_percent_income  \\\n",
       "count   28638.000000  28638.000000         28638.000000   \n",
       "mean       11.039867      0.216600             0.169488   \n",
       "std         3.229372      0.411935             0.106393   \n",
       "min         5.420000      0.000000             0.000000   \n",
       "25%         7.900000      0.000000             0.090000   \n",
       "50%        10.990000      0.000000             0.150000   \n",
       "75%        13.480000      0.000000             0.230000   \n",
       "max        23.220000      1.000000             0.830000   \n",
       "\n",
       "       cb_person_cred_hist_length  \n",
       "count                28638.000000  \n",
       "mean                     5.793736  \n",
       "std                      4.038483  \n",
       "min                      2.000000  \n",
       "25%                      3.000000  \n",
       "50%                      4.000000  \n",
       "75%                      8.000000  \n",
       "max                     30.000000  "
      ]
     },
     "execution_count": 58,
     "metadata": {},
     "output_type": "execute_result"
    }
   ],
   "source": [
    "#Estadisticos descriptivos para variables numericas\n",
    "df.describe()"
   ]
  },
  {
   "cell_type": "code",
   "execution_count": 59,
   "metadata": {},
   "outputs": [
    {
     "data": {
      "text/html": [
       "<div>\n",
       "<style scoped>\n",
       "    .dataframe tbody tr th:only-of-type {\n",
       "        vertical-align: middle;\n",
       "    }\n",
       "\n",
       "    .dataframe tbody tr th {\n",
       "        vertical-align: top;\n",
       "    }\n",
       "\n",
       "    .dataframe thead th {\n",
       "        text-align: right;\n",
       "    }\n",
       "</style>\n",
       "<table border=\"1\" class=\"dataframe\">\n",
       "  <thead>\n",
       "    <tr style=\"text-align: right;\">\n",
       "      <th></th>\n",
       "      <th>person_home_ownership</th>\n",
       "      <th>loan_intent</th>\n",
       "      <th>loan_grade</th>\n",
       "      <th>cb_person_default_on_file</th>\n",
       "    </tr>\n",
       "  </thead>\n",
       "  <tbody>\n",
       "    <tr>\n",
       "      <th>count</th>\n",
       "      <td>28638</td>\n",
       "      <td>28638</td>\n",
       "      <td>28638</td>\n",
       "      <td>28638</td>\n",
       "    </tr>\n",
       "    <tr>\n",
       "      <th>unique</th>\n",
       "      <td>4</td>\n",
       "      <td>6</td>\n",
       "      <td>7</td>\n",
       "      <td>2</td>\n",
       "    </tr>\n",
       "    <tr>\n",
       "      <th>top</th>\n",
       "      <td>RENT</td>\n",
       "      <td>EDUCATION</td>\n",
       "      <td>A</td>\n",
       "      <td>N</td>\n",
       "    </tr>\n",
       "    <tr>\n",
       "      <th>freq</th>\n",
       "      <td>14551</td>\n",
       "      <td>5704</td>\n",
       "      <td>9402</td>\n",
       "      <td>23535</td>\n",
       "    </tr>\n",
       "  </tbody>\n",
       "</table>\n",
       "</div>"
      ],
      "text/plain": [
       "       person_home_ownership loan_intent loan_grade cb_person_default_on_file\n",
       "count                  28638       28638      28638                     28638\n",
       "unique                     4           6          7                         2\n",
       "top                     RENT   EDUCATION          A                         N\n",
       "freq                   14551        5704       9402                     23535"
      ]
     },
     "execution_count": 59,
     "metadata": {},
     "output_type": "execute_result"
    }
   ],
   "source": [
    "#Estadisticos descriptivos para variables categoricas\n",
    "df.describe(include=['object'])"
   ]
  },
  {
   "cell_type": "code",
   "execution_count": 60,
   "metadata": {},
   "outputs": [
    {
     "data": {
      "text/plain": [
       "137"
      ]
     },
     "execution_count": 60,
     "metadata": {},
     "output_type": "execute_result"
    }
   ],
   "source": [
    "#Verificar si hay valores duplicados\n",
    "df.duplicated().sum()"
   ]
  },
  {
   "cell_type": "code",
   "execution_count": 61,
   "metadata": {},
   "outputs": [],
   "source": [
    "#Eliminar valores duplicados\n",
    "df.drop_duplicates(inplace=True)"
   ]
  },
  {
   "cell_type": "code",
   "execution_count": 62,
   "metadata": {},
   "outputs": [
    {
     "data": {
      "text/plain": [
       "(28501, 12)"
      ]
     },
     "execution_count": 62,
     "metadata": {},
     "output_type": "execute_result"
    }
   ],
   "source": [
    "#Verificar que se eliminaron los valores duplicados\n",
    "df.shape"
   ]
  },
  {
   "cell_type": "code",
   "execution_count": 63,
   "metadata": {},
   "outputs": [
    {
     "name": "stderr",
     "output_type": "stream",
     "text": [
      "c:\\Users\\dgilr\\AppData\\Local\\Programs\\Python\\Python310\\lib\\site-packages\\seaborn\\axisgrid.py:118: UserWarning: The figure layout has changed to tight\n",
      "  self._figure.tight_layout(*args, **kwargs)\n"
     ]
    },
    {
     "data": {
      "image/png": "[encoded data removed]",
      "text/plain": [
       "<Figure size 1500x500 with 1 Axes>"
      ]
     },
     "metadata": {},
     "output_type": "display_data"
    }
   ],
   "source": [
    "#Grafico de la variable person_income para ver su distribucion\n",
    "sns.displot(df['person_income'], aspect=3, bins=100)\n",
    "plt.show()"
   ]
  },
  {
   "cell_type": "code",
   "execution_count": 64,
   "metadata": {},
   "outputs": [
    {
     "name": "stderr",
     "output_type": "stream",
     "text": [
      "c:\\Users\\dgilr\\AppData\\Local\\Programs\\Python\\Python310\\lib\\site-packages\\seaborn\\axisgrid.py:118: UserWarning: The figure layout has changed to tight\n",
      "  self._figure.tight_layout(*args, **kwargs)\n"
     ]
    },
    {
     "data": {
      "image/png": "[encoded data removed]",
      "text/plain": [
       "<Figure size 1500x500 with 1 Axes>"
      ]
     },
     "metadata": {},
     "output_type": "display_data"
    }
   ],
   "source": [
    "#Grafico de la variable loan_amnt para ver su distribucion\n",
    "sns.displot(df['loan_amnt'], aspect=3, bins=100)\n",
    "plt.show()"
   ]
  },
  {
   "cell_type": "code",
   "execution_count": 65,
   "metadata": {},
   "outputs": [
    {
     "name": "stderr",
     "output_type": "stream",
     "text": [
      "c:\\Users\\dgilr\\AppData\\Local\\Programs\\Python\\Python310\\lib\\site-packages\\seaborn\\axisgrid.py:118: UserWarning: The figure layout has changed to tight\n",
      "  self._figure.tight_layout(*args, **kwargs)\n"
     ]
    },
    {
     "data": {
      "image/png": "[encoded data removed]",
      "text/plain": [
       "<Figure size 1500x500 with 1 Axes>"
      ]
     },
     "metadata": {},
     "output_type": "display_data"
    }
   ],
   "source": [
    "#Grafico de la variable person_age para ver su distribucion\n",
    "sns.displot(df['person_age'], kde=False, bins=100, aspect=3)\n",
    "plt.show()"
   ]
  },
  {
   "cell_type": "code",
   "execution_count": 66,
   "metadata": {},
   "outputs": [
    {
     "data": {
      "image/png": "[encoded data removed]",
      "text/plain": [
       "<Figure size 1200x600 with 1 Axes>"
      ]
     },
     "metadata": {},
     "output_type": "display_data"
    }
   ],
   "source": [
    "#Grafico de caja de la variable person_age para verificar outliers\n",
    "fig, ax = plt.subplots(figsize=(12, 6))\n",
    "sns.boxplot(x=df['person_age'])\n",
    "plt.show()"
   ]
  },
  {
   "cell_type": "markdown",
   "metadata": {},
   "source": [
    "### En el grafico no se observan datos erroneos relacionados con la edad. En la tabla relacionada a los estadisticos descriptivos se observa un valor maximo de 144 para la variable graficada lo cual es un valor incorrecto y que debe ser corregido. Ademas en el boxplot se puede verificar la existencia de datos outliers."
   ]
  },
  {
   "cell_type": "code",
   "execution_count": 67,
   "metadata": {},
   "outputs": [
    {
     "data": {
      "text/plain": [
       "58"
      ]
     },
     "execution_count": 67,
     "metadata": {},
     "output_type": "execute_result"
    }
   ],
   "source": [
    "#Verificar cuantas entradas de la variable person_age son mayores a 60\n",
    "df[df['person_age'] > 60]['person_age'].count()"
   ]
  },
  {
   "cell_type": "code",
   "execution_count": 68,
   "metadata": {},
   "outputs": [],
   "source": [
    "#eliminar las entradas de la variable person_age mayores a 60\n",
    "df = df[df['person_age'] <= 60]"
   ]
  },
  {
   "cell_type": "markdown",
   "metadata": {},
   "source": [
    "### El mismo proceso se realiza para la variable person_emp_length"
   ]
  },
  {
   "cell_type": "code",
   "execution_count": 69,
   "metadata": {},
   "outputs": [
    {
     "name": "stderr",
     "output_type": "stream",
     "text": [
      "c:\\Users\\dgilr\\AppData\\Local\\Programs\\Python\\Python310\\lib\\site-packages\\seaborn\\axisgrid.py:118: UserWarning: The figure layout has changed to tight\n",
      "  self._figure.tight_layout(*args, **kwargs)\n"
     ]
    },
    {
     "data": {
      "image/png": "[encoded data removed]",
      "text/plain": [
       "<Figure size 1500x500 with 1 Axes>"
      ]
     },
     "metadata": {},
     "output_type": "display_data"
    }
   ],
   "source": [
    "#Grafico de la variable person_emp_length para ver su distribucion\n",
    "sns.displot(df['person_emp_length'], kde=False, bins=100, aspect=3)\n",
    "plt.show()"
   ]
  },
  {
   "cell_type": "code",
   "execution_count": 70,
   "metadata": {},
   "outputs": [
    {
     "data": {
      "image/png": "[encoded data removed]",
      "text/plain": [
       "<Figure size 1200x600 with 1 Axes>"
      ]
     },
     "metadata": {},
     "output_type": "display_data"
    }
   ],
   "source": [
    "#Grafico de caja de la variable person_emp_lenght para verificar outliers\n",
    "fig, ax = plt.subplots(figsize=(12, 6))\n",
    "sns.boxplot(x=df['person_emp_length'])\n",
    "plt.show()"
   ]
  },
  {
   "cell_type": "markdown",
   "metadata": {},
   "source": [
    "### En el grafico no se observan datos erroneos relacionados con los años que el usuario ha trabajado. En la tabla relacionada a los estadisticos descriptivos se observa un valor maximo de 123 años para la variable graficada lo cual es un valor incorrecto y que debe ser corregido. Ademas en el boxplot se puede verificar la existencia de datos outliers."
   ]
  },
  {
   "cell_type": "code",
   "execution_count": 71,
   "metadata": {},
   "outputs": [
    {
     "data": {
      "text/plain": [
       "8"
      ]
     },
     "execution_count": 71,
     "metadata": {},
     "output_type": "execute_result"
    }
   ],
   "source": [
    "#Verificar cuantas entradas de la variable person_emp_length son mayores a 40\n",
    "df[df['person_emp_length'] > 30]['person_emp_length'].count()"
   ]
  },
  {
   "cell_type": "code",
   "execution_count": 72,
   "metadata": {},
   "outputs": [],
   "source": [
    "#eliminar las entradas de la variable person_emp_length mayores a 40\n",
    "df = df[df['person_emp_length'] <= 30]"
   ]
  },
  {
   "cell_type": "markdown",
   "metadata": {},
   "source": [
    "# Discretizacion de datos"
   ]
  },
  {
   "cell_type": "markdown",
   "metadata": {},
   "source": [
    "### Se discretizaran las siguientes variables continuas (\tperson_age\tperson_income loan_amnt), agrupando sus valores en categorias especificas "
   ]
  },
  {
   "cell_type": "markdown",
   "metadata": {},
   "source": [
    "## Analisis de rangos"
   ]
  },
  {
   "cell_type": "code",
   "execution_count": 74,
   "metadata": {},
   "outputs": [
    {
     "name": "stdout",
     "output_type": "stream",
     "text": [
      "cantidad de datos entre 20 y 25 = 13389\n",
      "cantidad de datos entre 25 y 30 = 10983\n",
      "cantidad de datos entre 30 y inf = 7871\n"
     ]
    }
   ],
   "source": [
    "# analizar posibles rangos y cantidad de datos en cada rango para la columna person_age\n",
    "def age_group(arr):\n",
    "  for i in range(len(arr)-1):\n",
    "    next_value = arr[i+1]\n",
    "    values = df['person_age'].between(arr[i], next_value, inclusive='both').sum()\n",
    "    print(f'cantidad de datos entre {arr[i]} y {arr[i+1]} = {values}')\n",
    "age_group([20, 25, 30, float('inf')])"
   ]
  },
  {
   "cell_type": "code",
   "execution_count": 75,
   "metadata": {},
   "outputs": [
    {
     "name": "stdout",
     "output_type": "stream",
     "text": [
      "cantidad de datos entre 4000 y 30000 = 3721\n",
      "cantidad de datos entre 30000 y 50000 = 9084\n",
      "cantidad de datos entre 50000 y 70000 = 7715\n",
      "cantidad de datos entre 70000 y 100000 = 6075\n",
      "cantidad de datos entre 100000 y 2039784 = 4036\n"
     ]
    }
   ],
   "source": [
    "# analizar posibles rangos y cantidad de datos en cada rango para la columna person_income\n",
    "valor_max = df['person_income'].max()\n",
    "valor_min = df['person_income'].min()\n",
    "\n",
    "def income_group(arr):\n",
    "  for i in range(len(arr)-1):\n",
    "    next_value = arr[i+1]\n",
    "    values = df['person_income'].between(arr[i], next_value, inclusive='both').sum()\n",
    "    print(f'cantidad de datos entre {arr[i]} y {arr[i+1]} = {values}')\n",
    "    \n",
    "income_group([valor_min, 30000, 50000, 70000, 100000, valor_max])"
   ]
  },
  {
   "cell_type": "code",
   "execution_count": 76,
   "metadata": {},
   "outputs": [
    {
     "name": "stdout",
     "output_type": "stream",
     "text": [
      "cantidad de datos entre 500 y 5000 = 8125\n",
      "cantidad de datos entre 5000 y 10000 = 12310\n",
      "cantidad de datos entre 10000 y 15000 = 7708\n",
      "cantidad de datos entre 15000 y 35000 = 5710\n"
     ]
    }
   ],
   "source": [
    "#Analizar posibles rangos y cantidad de datos en cada rango para la columna loan_amnt\n",
    "valor_max = df['loan_amnt'].max()\n",
    "valor_min = df['loan_amnt'].min()\n",
    "def loan_group(arr):\n",
    "  for i in range(len(arr)-1):\n",
    "    next_value = arr[i+1]\n",
    "    values = df['loan_amnt'].between(arr[i], next_value, inclusive='both').sum()\n",
    "    print(f'cantidad de datos entre {arr[i]} y {arr[i+1]} = {values}')\n",
    "loan_group([valor_min, 5000, 10000, 15000, valor_max])"
   ]
  },
  {
   "cell_type": "markdown",
   "metadata": {},
   "source": [
    "## Creacion de nuevas variables"
   ]
  },
  {
   "cell_type": "code",
   "execution_count": 77,
   "metadata": {},
   "outputs": [],
   "source": [
    "#Creacion de la coluna age_group\n",
    "df['age_group'] = pd.cut(df['person_age'], bins=[20, 25, 30, np.inf], labels=['20-25', '25-30', '30+'], include_lowest=True)"
   ]
  },
  {
   "cell_type": "code",
   "execution_count": 107,
   "metadata": {},
   "outputs": [],
   "source": [
    "#Creacion de la coluna income_group\n",
    "df['income_group'] = pd.cut(df['person_income'], bins=[0, 30000, 50000, 70000, 100000, float('inf')], labels=['low', 'low-middle', 'middle', 'middle-high', 'high'])"
   ]
  },
  {
   "cell_type": "code",
   "execution_count": 79,
   "metadata": {},
   "outputs": [],
   "source": [
    "#Creacion de la coluna loan_group\n",
    "df['loan_group'] = pd.cut(df['loan_amnt'], bins=[0, 5000, 10000, 15000, float('inf')], labels=['small', 'medium', 'large', 'very large'])"
   ]
  },
  {
   "cell_type": "code",
   "execution_count": 101,
   "metadata": {},
   "outputs": [
    {
     "data": {
      "text/html": [
       "<div>\n",
       "<style scoped>\n",
       "    .dataframe tbody tr th:only-of-type {\n",
       "        vertical-align: middle;\n",
       "    }\n",
       "\n",
       "    .dataframe tbody tr th {\n",
       "        vertical-align: top;\n",
       "    }\n",
       "\n",
       "    .dataframe thead th {\n",
       "        text-align: right;\n",
       "    }\n",
       "</style>\n",
       "<table border=\"1\" class=\"dataframe\">\n",
       "  <thead>\n",
       "    <tr style=\"text-align: right;\">\n",
       "      <th></th>\n",
       "      <th>age_group</th>\n",
       "      <th>loan_group</th>\n",
       "      <th>income_group</th>\n",
       "    </tr>\n",
       "  </thead>\n",
       "  <tbody>\n",
       "    <tr>\n",
       "      <th>1</th>\n",
       "      <td>20-25</td>\n",
       "      <td>small</td>\n",
       "      <td>low</td>\n",
       "    </tr>\n",
       "    <tr>\n",
       "      <th>2</th>\n",
       "      <td>20-25</td>\n",
       "      <td>medium</td>\n",
       "      <td>low</td>\n",
       "    </tr>\n",
       "    <tr>\n",
       "      <th>3</th>\n",
       "      <td>20-25</td>\n",
       "      <td>very large</td>\n",
       "      <td>middle</td>\n",
       "    </tr>\n",
       "    <tr>\n",
       "      <th>4</th>\n",
       "      <td>20-25</td>\n",
       "      <td>very large</td>\n",
       "      <td>middle</td>\n",
       "    </tr>\n",
       "    <tr>\n",
       "      <th>5</th>\n",
       "      <td>20-25</td>\n",
       "      <td>small</td>\n",
       "      <td>low</td>\n",
       "    </tr>\n",
       "  </tbody>\n",
       "</table>\n",
       "</div>"
      ],
      "text/plain": [
       "  age_group  loan_group income_group\n",
       "1     20-25       small          low\n",
       "2     20-25      medium          low\n",
       "3     20-25  very large       middle\n",
       "4     20-25  very large       middle\n",
       "5     20-25       small          low"
      ]
     },
     "execution_count": 101,
     "metadata": {},
     "output_type": "execute_result"
    }
   ],
   "source": [
    "#Verificar que se crearon las columnas en el dataset principal\n",
    "df[['age_group','loan_group','income_group']].head()"
   ]
  },
  {
   "cell_type": "markdown",
   "metadata": {},
   "source": [
    "## Transformacion de variables categoricas en continuas para observar las correlaciones existentes"
   ]
  },
  {
   "cell_type": "code",
   "execution_count": 108,
   "metadata": {},
   "outputs": [],
   "source": [
    "#Creacion del encoder para las variables categoricas\n",
    "encoder = OrdinalEncoder()"
   ]
  },
  {
   "cell_type": "code",
   "execution_count": 109,
   "metadata": {},
   "outputs": [],
   "source": [
    "#Seleccion de variables categoricas\n",
    "cat_cols = df.select_dtypes(include=['object', 'category']).columns"
   ]
  },
  {
   "cell_type": "code",
   "execution_count": 110,
   "metadata": {},
   "outputs": [],
   "source": [
    "#Copiar el dataset en un nuevo dataframe\n",
    "df2 = df.copy()"
   ]
  },
  {
   "cell_type": "code",
   "execution_count": 111,
   "metadata": {},
   "outputs": [],
   "source": [
    "#Aplicar el encoder a las variables categoricas\n",
    "df2[cat_cols] = encoder.fit_transform(df2[cat_cols])"
   ]
  },
  {
   "cell_type": "code",
   "execution_count": 98,
   "metadata": {},
   "outputs": [
    {
     "data": {
      "text/html": [
       "<div>\n",
       "<style scoped>\n",
       "    .dataframe tbody tr th:only-of-type {\n",
       "        vertical-align: middle;\n",
       "    }\n",
       "\n",
       "    .dataframe tbody tr th {\n",
       "        vertical-align: top;\n",
       "    }\n",
       "\n",
       "    .dataframe thead th {\n",
       "        text-align: right;\n",
       "    }\n",
       "</style>\n",
       "<table border=\"1\" class=\"dataframe\">\n",
       "  <thead>\n",
       "    <tr style=\"text-align: right;\">\n",
       "      <th></th>\n",
       "      <th>person_age</th>\n",
       "      <th>person_income</th>\n",
       "      <th>person_home_ownership</th>\n",
       "      <th>person_emp_length</th>\n",
       "      <th>loan_intent</th>\n",
       "      <th>loan_grade</th>\n",
       "      <th>loan_amnt</th>\n",
       "      <th>loan_int_rate</th>\n",
       "      <th>loan_status</th>\n",
       "      <th>loan_percent_income</th>\n",
       "      <th>cb_person_default_on_file</th>\n",
       "      <th>cb_person_cred_hist_length</th>\n",
       "      <th>age_group</th>\n",
       "      <th>income_group</th>\n",
       "      <th>loan_group</th>\n",
       "    </tr>\n",
       "  </thead>\n",
       "  <tbody>\n",
       "    <tr>\n",
       "      <th>1</th>\n",
       "      <td>21</td>\n",
       "      <td>9600</td>\n",
       "      <td>2.0</td>\n",
       "      <td>5.0</td>\n",
       "      <td>1.0</td>\n",
       "      <td>1.0</td>\n",
       "      <td>1000</td>\n",
       "      <td>11.14</td>\n",
       "      <td>0</td>\n",
       "      <td>0.10</td>\n",
       "      <td>0.0</td>\n",
       "      <td>2</td>\n",
       "      <td>0.0</td>\n",
       "      <td>1.0</td>\n",
       "      <td>2.0</td>\n",
       "    </tr>\n",
       "    <tr>\n",
       "      <th>2</th>\n",
       "      <td>25</td>\n",
       "      <td>9600</td>\n",
       "      <td>0.0</td>\n",
       "      <td>1.0</td>\n",
       "      <td>3.0</td>\n",
       "      <td>2.0</td>\n",
       "      <td>5500</td>\n",
       "      <td>12.87</td>\n",
       "      <td>1</td>\n",
       "      <td>0.57</td>\n",
       "      <td>0.0</td>\n",
       "      <td>3</td>\n",
       "      <td>0.0</td>\n",
       "      <td>1.0</td>\n",
       "      <td>1.0</td>\n",
       "    </tr>\n",
       "    <tr>\n",
       "      <th>3</th>\n",
       "      <td>23</td>\n",
       "      <td>65500</td>\n",
       "      <td>3.0</td>\n",
       "      <td>4.0</td>\n",
       "      <td>3.0</td>\n",
       "      <td>2.0</td>\n",
       "      <td>35000</td>\n",
       "      <td>15.23</td>\n",
       "      <td>1</td>\n",
       "      <td>0.53</td>\n",
       "      <td>0.0</td>\n",
       "      <td>2</td>\n",
       "      <td>0.0</td>\n",
       "      <td>3.0</td>\n",
       "      <td>3.0</td>\n",
       "    </tr>\n",
       "    <tr>\n",
       "      <th>4</th>\n",
       "      <td>24</td>\n",
       "      <td>54400</td>\n",
       "      <td>3.0</td>\n",
       "      <td>8.0</td>\n",
       "      <td>3.0</td>\n",
       "      <td>2.0</td>\n",
       "      <td>35000</td>\n",
       "      <td>14.27</td>\n",
       "      <td>1</td>\n",
       "      <td>0.55</td>\n",
       "      <td>1.0</td>\n",
       "      <td>4</td>\n",
       "      <td>0.0</td>\n",
       "      <td>3.0</td>\n",
       "      <td>3.0</td>\n",
       "    </tr>\n",
       "    <tr>\n",
       "      <th>5</th>\n",
       "      <td>21</td>\n",
       "      <td>9900</td>\n",
       "      <td>2.0</td>\n",
       "      <td>2.0</td>\n",
       "      <td>5.0</td>\n",
       "      <td>0.0</td>\n",
       "      <td>2500</td>\n",
       "      <td>7.14</td>\n",
       "      <td>1</td>\n",
       "      <td>0.25</td>\n",
       "      <td>0.0</td>\n",
       "      <td>2</td>\n",
       "      <td>0.0</td>\n",
       "      <td>1.0</td>\n",
       "      <td>2.0</td>\n",
       "    </tr>\n",
       "  </tbody>\n",
       "</table>\n",
       "</div>"
      ],
      "text/plain": [
       "   person_age  person_income  person_home_ownership  person_emp_length  \\\n",
       "1          21           9600                    2.0                5.0   \n",
       "2          25           9600                    0.0                1.0   \n",
       "3          23          65500                    3.0                4.0   \n",
       "4          24          54400                    3.0                8.0   \n",
       "5          21           9900                    2.0                2.0   \n",
       "\n",
       "   loan_intent  loan_grade  loan_amnt  loan_int_rate  loan_status  \\\n",
       "1          1.0         1.0       1000          11.14            0   \n",
       "2          3.0         2.0       5500          12.87            1   \n",
       "3          3.0         2.0      35000          15.23            1   \n",
       "4          3.0         2.0      35000          14.27            1   \n",
       "5          5.0         0.0       2500           7.14            1   \n",
       "\n",
       "   loan_percent_income  cb_person_default_on_file  cb_person_cred_hist_length  \\\n",
       "1                 0.10                        0.0                           2   \n",
       "2                 0.57                        0.0                           3   \n",
       "3                 0.53                        0.0                           2   \n",
       "4                 0.55                        1.0                           4   \n",
       "5                 0.25                        0.0                           2   \n",
       "\n",
       "   age_group  income_group  loan_group  \n",
       "1        0.0           1.0         2.0  \n",
       "2        0.0           1.0         1.0  \n",
       "3        0.0           3.0         3.0  \n",
       "4        0.0           3.0         3.0  \n",
       "5        0.0           1.0         2.0  "
      ]
     },
     "execution_count": 98,
     "metadata": {},
     "output_type": "execute_result"
    }
   ],
   "source": [
    "#Verificar que se aplico el encoder\n",
    "df2.head()"
   ]
  },
  {
   "cell_type": "code",
   "execution_count": 112,
   "metadata": {},
   "outputs": [
    {
     "data": {
      "image/png": "[encoded data removed]",
      "text/plain": [
       "<Figure size 1200x1000 with 2 Axes>"
      ]
     },
     "metadata": {},
     "output_type": "display_data"
    }
   ],
   "source": [
    "#Grafico de calor para ver la correlacion entre las variables numericas\n",
    "fig, ax = plt.subplots(figsize=(12, 10))\n",
    "sns.heatmap(df2.corr(numeric_only=True), annot=True)\n",
    "plt.show()"
   ]
  },
  {
   "cell_type": "markdown",
   "metadata": {},
   "source": [
    "## Pruebas de chi2"
   ]
  },
  {
   "cell_type": "code",
   "execution_count": 152,
   "metadata": {},
   "outputs": [],
   "source": [
    "# Dividir las variables en X y Y (Split) Se va a realizar en proporción 70/30\n",
    "X = list(df.columns.copy())\n",
    "X.remove('loan_status')\n",
    "X = df[X].copy()\n",
    "y = df['loan_status'].copy()\n",
    "y = y.values.flatten()"
   ]
  },
  {
   "cell_type": "code",
   "execution_count": 153,
   "metadata": {},
   "outputs": [],
   "source": [
    "var_cat=['person_home_ownership',\n",
    "         'loan_intent','loan_grade',\n",
    "         'cb_person_default_on_file',\n",
    "         'cb_person_cred_hist_length',\n",
    "         'age_group',\n",
    "         'income_group',\n",
    "         'person_emp_length',\n",
    "         'loan_group']\n",
    "var_cont=['person_emp_length',\n",
    "          'person_income',\n",
    "          'loan_amnt',\n",
    "          'loan_int_rate',\n",
    "          'loan_percent_income',\n",
    "          'cb_person_cred_hist_length'\n",
    "          ]"
   ]
  },
  {
   "cell_type": "code",
   "execution_count": 154,
   "metadata": {},
   "outputs": [
    {
     "data": {
      "text/html": [
       "<div>\n",
       "<style scoped>\n",
       "    .dataframe tbody tr th:only-of-type {\n",
       "        vertical-align: middle;\n",
       "    }\n",
       "\n",
       "    .dataframe tbody tr th {\n",
       "        vertical-align: top;\n",
       "    }\n",
       "\n",
       "    .dataframe thead th {\n",
       "        text-align: right;\n",
       "    }\n",
       "</style>\n",
       "<table border=\"1\" class=\"dataframe\">\n",
       "  <thead>\n",
       "    <tr style=\"text-align: right;\">\n",
       "      <th></th>\n",
       "      <th>Variable</th>\n",
       "      <th>Chi P-Value</th>\n",
       "    </tr>\n",
       "  </thead>\n",
       "  <tbody>\n",
       "    <tr>\n",
       "      <th>0</th>\n",
       "      <td>person_home_ownership</td>\n",
       "      <td>0.000000e+00</td>\n",
       "    </tr>\n",
       "    <tr>\n",
       "      <th>1</th>\n",
       "      <td>loan_intent</td>\n",
       "      <td>1.568916e-97</td>\n",
       "    </tr>\n",
       "    <tr>\n",
       "      <th>2</th>\n",
       "      <td>loan_grade</td>\n",
       "      <td>0.000000e+00</td>\n",
       "    </tr>\n",
       "    <tr>\n",
       "      <th>3</th>\n",
       "      <td>cb_person_default_on_file</td>\n",
       "      <td>8.025750e-206</td>\n",
       "    </tr>\n",
       "    <tr>\n",
       "      <th>4</th>\n",
       "      <td>cb_person_cred_hist_length</td>\n",
       "      <td>8.318654e-02</td>\n",
       "    </tr>\n",
       "    <tr>\n",
       "      <th>5</th>\n",
       "      <td>age_group</td>\n",
       "      <td>4.002673e-06</td>\n",
       "    </tr>\n",
       "    <tr>\n",
       "      <th>6</th>\n",
       "      <td>income_group</td>\n",
       "      <td>0.000000e+00</td>\n",
       "    </tr>\n",
       "    <tr>\n",
       "      <th>7</th>\n",
       "      <td>person_emp_length</td>\n",
       "      <td>6.882384e-54</td>\n",
       "    </tr>\n",
       "    <tr>\n",
       "      <th>8</th>\n",
       "      <td>loan_group</td>\n",
       "      <td>1.793522e-91</td>\n",
       "    </tr>\n",
       "  </tbody>\n",
       "</table>\n",
       "</div>"
      ],
      "text/plain": [
       "                     Variable    Chi P-Value\n",
       "0       person_home_ownership   0.000000e+00\n",
       "1                 loan_intent   1.568916e-97\n",
       "2                  loan_grade   0.000000e+00\n",
       "3   cb_person_default_on_file  8.025750e-206\n",
       "4  cb_person_cred_hist_length   8.318654e-02\n",
       "5                   age_group   4.002673e-06\n",
       "6                income_group   0.000000e+00\n",
       "7           person_emp_length   6.882384e-54\n",
       "8                  loan_group   1.793522e-91"
      ]
     },
     "execution_count": 154,
     "metadata": {},
     "output_type": "execute_result"
    }
   ],
   "source": [
    "chi2_tabla = {'Variable':[],'Chi P-Value':[]}\n",
    "for columna in var_cat:\n",
    "    chi, p, dof, ex = chi2_contingency(pd.crosstab(X[columna], y))\n",
    "    chi2_tabla['Variable'].append(columna)\n",
    "    chi2_tabla['Chi P-Value'].append(p)\n",
    "chi2_tabla = pd.DataFrame(chi2_tabla)\n",
    "chi2_tabla"
   ]
  },
  {
   "cell_type": "code",
   "execution_count": 156,
   "metadata": {},
   "outputs": [],
   "source": [
    "datasetContinuo = X[var_cont].copy()"
   ]
  },
  {
   "cell_type": "markdown",
   "metadata": {},
   "source": [
    "### ANOVA para variables continuas"
   ]
  },
  {
   "cell_type": "code",
   "execution_count": 157,
   "metadata": {},
   "outputs": [
    {
     "data": {
      "text/html": [
       "<div>\n",
       "<style scoped>\n",
       "    .dataframe tbody tr th:only-of-type {\n",
       "        vertical-align: middle;\n",
       "    }\n",
       "\n",
       "    .dataframe tbody tr th {\n",
       "        vertical-align: top;\n",
       "    }\n",
       "\n",
       "    .dataframe thead th {\n",
       "        text-align: right;\n",
       "    }\n",
       "</style>\n",
       "<table border=\"1\" class=\"dataframe\">\n",
       "  <thead>\n",
       "    <tr style=\"text-align: right;\">\n",
       "      <th></th>\n",
       "      <th>Feature</th>\n",
       "      <th>F-Score</th>\n",
       "      <th>P-Value</th>\n",
       "    </tr>\n",
       "  </thead>\n",
       "  <tbody>\n",
       "    <tr>\n",
       "      <th>0</th>\n",
       "      <td>person_emp_length</td>\n",
       "      <td>221.936705</td>\n",
       "      <td>5.281364e-50</td>\n",
       "    </tr>\n",
       "    <tr>\n",
       "      <th>1</th>\n",
       "      <td>person_income</td>\n",
       "      <td>851.509510</td>\n",
       "      <td>1.796653e-184</td>\n",
       "    </tr>\n",
       "    <tr>\n",
       "      <th>2</th>\n",
       "      <td>loan_amnt</td>\n",
       "      <td>370.236451</td>\n",
       "      <td>5.526480e-82</td>\n",
       "    </tr>\n",
       "    <tr>\n",
       "      <th>3</th>\n",
       "      <td>loan_int_rate</td>\n",
       "      <td>3709.578956</td>\n",
       "      <td>0.000000e+00</td>\n",
       "    </tr>\n",
       "    <tr>\n",
       "      <th>4</th>\n",
       "      <td>loan_percent_income</td>\n",
       "      <td>4784.921648</td>\n",
       "      <td>0.000000e+00</td>\n",
       "    </tr>\n",
       "    <tr>\n",
       "      <th>5</th>\n",
       "      <td>cb_person_cred_hist_length</td>\n",
       "      <td>9.612501</td>\n",
       "      <td>1.934461e-03</td>\n",
       "    </tr>\n",
       "  </tbody>\n",
       "</table>\n",
       "</div>"
      ],
      "text/plain": [
       "                      Feature      F-Score        P-Value\n",
       "0           person_emp_length   221.936705   5.281364e-50\n",
       "1               person_income   851.509510  1.796653e-184\n",
       "2                   loan_amnt   370.236451   5.526480e-82\n",
       "3               loan_int_rate  3709.578956   0.000000e+00\n",
       "4         loan_percent_income  4784.921648   0.000000e+00\n",
       "5  cb_person_cred_hist_length     9.612501   1.934461e-03"
      ]
     },
     "execution_count": 157,
     "metadata": {},
     "output_type": "execute_result"
    }
   ],
   "source": [
    "F_statistic, p_values = f_classif(datasetContinuo, y)\n",
    "anovaTabla = pd.DataFrame(data = {'Feature':datasetContinuo.columns.values,'F-Score':F_statistic,'P-Value':p_values})\n",
    "anovaTabla['Feature']=var_cont\n",
    "anovaTabla"
   ]
  },
  {
   "cell_type": "markdown",
   "metadata": {},
   "source": [
    "# Alternativa a manejo de datos con WoE"
   ]
  },
  {
   "cell_type": "markdown",
   "metadata": {},
   "source": [
    "### Matrices de contingencia"
   ]
  },
  {
   "cell_type": "code",
   "execution_count": null,
   "metadata": {},
   "outputs": [
    {
     "data": {
      "text/html": [
       "<div>\n",
       "<style scoped>\n",
       "    .dataframe tbody tr th:only-of-type {\n",
       "        vertical-align: middle;\n",
       "    }\n",
       "\n",
       "    .dataframe tbody tr th {\n",
       "        vertical-align: top;\n",
       "    }\n",
       "\n",
       "    .dataframe thead th {\n",
       "        text-align: right;\n",
       "    }\n",
       "</style>\n",
       "<table border=\"1\" class=\"dataframe\">\n",
       "  <thead>\n",
       "    <tr style=\"text-align: right;\">\n",
       "      <th>loan_status</th>\n",
       "      <th>0</th>\n",
       "      <th>1</th>\n",
       "    </tr>\n",
       "    <tr>\n",
       "      <th>age_group</th>\n",
       "      <th></th>\n",
       "      <th></th>\n",
       "    </tr>\n",
       "  </thead>\n",
       "  <tbody>\n",
       "    <tr>\n",
       "      <th>20-25</th>\n",
       "      <td>0.770334</td>\n",
       "      <td>0.229666</td>\n",
       "    </tr>\n",
       "    <tr>\n",
       "      <th>25-30</th>\n",
       "      <td>0.791129</td>\n",
       "      <td>0.208871</td>\n",
       "    </tr>\n",
       "    <tr>\n",
       "      <th>30+</th>\n",
       "      <td>0.797383</td>\n",
       "      <td>0.202617</td>\n",
       "    </tr>\n",
       "  </tbody>\n",
       "</table>\n",
       "</div>"
      ],
      "text/plain": [
       "loan_status         0         1\n",
       "age_group                      \n",
       "20-25        0.770334  0.229666\n",
       "25-30        0.791129  0.208871\n",
       "30+          0.797383  0.202617"
      ]
     },
     "execution_count": 70,
     "metadata": {},
     "output_type": "execute_result"
    }
   ],
   "source": [
    "pd.crosstab(df['age_group'], df['loan_status'], normalize='index')"
   ]
  },
  {
   "cell_type": "code",
   "execution_count": null,
   "metadata": {},
   "outputs": [
    {
     "data": {
      "text/html": [
       "<div>\n",
       "<style scoped>\n",
       "    .dataframe tbody tr th:only-of-type {\n",
       "        vertical-align: middle;\n",
       "    }\n",
       "\n",
       "    .dataframe tbody tr th {\n",
       "        vertical-align: top;\n",
       "    }\n",
       "\n",
       "    .dataframe thead th {\n",
       "        text-align: right;\n",
       "    }\n",
       "</style>\n",
       "<table border=\"1\" class=\"dataframe\">\n",
       "  <thead>\n",
       "    <tr style=\"text-align: right;\">\n",
       "      <th>loan_status</th>\n",
       "      <th>0</th>\n",
       "      <th>1</th>\n",
       "    </tr>\n",
       "    <tr>\n",
       "      <th>income_group</th>\n",
       "      <th></th>\n",
       "      <th></th>\n",
       "    </tr>\n",
       "  </thead>\n",
       "  <tbody>\n",
       "    <tr>\n",
       "      <th>low</th>\n",
       "      <td>0.547210</td>\n",
       "      <td>0.452790</td>\n",
       "    </tr>\n",
       "    <tr>\n",
       "      <th>low-middle</th>\n",
       "      <td>0.741820</td>\n",
       "      <td>0.258180</td>\n",
       "    </tr>\n",
       "    <tr>\n",
       "      <th>middle</th>\n",
       "      <td>0.819342</td>\n",
       "      <td>0.180658</td>\n",
       "    </tr>\n",
       "    <tr>\n",
       "      <th>middle-high</th>\n",
       "      <td>0.875779</td>\n",
       "      <td>0.124221</td>\n",
       "    </tr>\n",
       "    <tr>\n",
       "      <th>high</th>\n",
       "      <td>0.901992</td>\n",
       "      <td>0.098008</td>\n",
       "    </tr>\n",
       "  </tbody>\n",
       "</table>\n",
       "</div>"
      ],
      "text/plain": [
       "loan_status          0         1\n",
       "income_group                    \n",
       "low           0.547210  0.452790\n",
       "low-middle    0.741820  0.258180\n",
       "middle        0.819342  0.180658\n",
       "middle-high   0.875779  0.124221\n",
       "high          0.901992  0.098008"
      ]
     },
     "execution_count": 71,
     "metadata": {},
     "output_type": "execute_result"
    }
   ],
   "source": [
    "pd.crosstab(df['income_group'], df['loan_status'], normalize='index')"
   ]
  },
  {
   "cell_type": "code",
   "execution_count": null,
   "metadata": {},
   "outputs": [
    {
     "data": {
      "text/html": [
       "<div>\n",
       "<style scoped>\n",
       "    .dataframe tbody tr th:only-of-type {\n",
       "        vertical-align: middle;\n",
       "    }\n",
       "\n",
       "    .dataframe tbody tr th {\n",
       "        vertical-align: top;\n",
       "    }\n",
       "\n",
       "    .dataframe thead th {\n",
       "        text-align: right;\n",
       "    }\n",
       "</style>\n",
       "<table border=\"1\" class=\"dataframe\">\n",
       "  <thead>\n",
       "    <tr style=\"text-align: right;\">\n",
       "      <th>loan_status</th>\n",
       "      <th>0</th>\n",
       "      <th>1</th>\n",
       "    </tr>\n",
       "    <tr>\n",
       "      <th>loan_group</th>\n",
       "      <th></th>\n",
       "      <th></th>\n",
       "    </tr>\n",
       "  </thead>\n",
       "  <tbody>\n",
       "    <tr>\n",
       "      <th>small</th>\n",
       "      <td>0.801745</td>\n",
       "      <td>0.198255</td>\n",
       "    </tr>\n",
       "    <tr>\n",
       "      <th>medium</th>\n",
       "      <td>0.821212</td>\n",
       "      <td>0.178788</td>\n",
       "    </tr>\n",
       "    <tr>\n",
       "      <th>large</th>\n",
       "      <td>0.768846</td>\n",
       "      <td>0.231154</td>\n",
       "    </tr>\n",
       "    <tr>\n",
       "      <th>very large</th>\n",
       "      <td>0.672814</td>\n",
       "      <td>0.327186</td>\n",
       "    </tr>\n",
       "  </tbody>\n",
       "</table>\n",
       "</div>"
      ],
      "text/plain": [
       "loan_status         0         1\n",
       "loan_group                     \n",
       "small        0.801745  0.198255\n",
       "medium       0.821212  0.178788\n",
       "large        0.768846  0.231154\n",
       "very large   0.672814  0.327186"
      ]
     },
     "execution_count": 72,
     "metadata": {},
     "output_type": "execute_result"
    }
   ],
   "source": [
    "pd.crosstab(df['loan_group'], df['loan_status'], normalize='index')"
   ]
  },
  {
   "cell_type": "code",
   "execution_count": null,
   "metadata": {},
   "outputs": [
    {
     "data": {
      "text/html": [
       "<div>\n",
       "<style scoped>\n",
       "    .dataframe tbody tr th:only-of-type {\n",
       "        vertical-align: middle;\n",
       "    }\n",
       "\n",
       "    .dataframe tbody tr th {\n",
       "        vertical-align: top;\n",
       "    }\n",
       "\n",
       "    .dataframe thead th {\n",
       "        text-align: right;\n",
       "    }\n",
       "</style>\n",
       "<table border=\"1\" class=\"dataframe\">\n",
       "  <thead>\n",
       "    <tr style=\"text-align: right;\">\n",
       "      <th>loan_status</th>\n",
       "      <th>0</th>\n",
       "      <th>1</th>\n",
       "    </tr>\n",
       "    <tr>\n",
       "      <th>loan_grade</th>\n",
       "      <th></th>\n",
       "      <th></th>\n",
       "    </tr>\n",
       "  </thead>\n",
       "  <tbody>\n",
       "    <tr>\n",
       "      <th>A</th>\n",
       "      <td>0.903875</td>\n",
       "      <td>0.096125</td>\n",
       "    </tr>\n",
       "    <tr>\n",
       "      <th>B</th>\n",
       "      <td>0.840669</td>\n",
       "      <td>0.159331</td>\n",
       "    </tr>\n",
       "    <tr>\n",
       "      <th>C</th>\n",
       "      <td>0.796655</td>\n",
       "      <td>0.203345</td>\n",
       "    </tr>\n",
       "    <tr>\n",
       "      <th>D</th>\n",
       "      <td>0.407716</td>\n",
       "      <td>0.592284</td>\n",
       "    </tr>\n",
       "    <tr>\n",
       "      <th>E</th>\n",
       "      <td>0.353280</td>\n",
       "      <td>0.646720</td>\n",
       "    </tr>\n",
       "    <tr>\n",
       "      <th>F</th>\n",
       "      <td>0.301435</td>\n",
       "      <td>0.698565</td>\n",
       "    </tr>\n",
       "    <tr>\n",
       "      <th>G</th>\n",
       "      <td>0.016949</td>\n",
       "      <td>0.983051</td>\n",
       "    </tr>\n",
       "  </tbody>\n",
       "</table>\n",
       "</div>"
      ],
      "text/plain": [
       "loan_status         0         1\n",
       "loan_grade                     \n",
       "A            0.903875  0.096125\n",
       "B            0.840669  0.159331\n",
       "C            0.796655  0.203345\n",
       "D            0.407716  0.592284\n",
       "E            0.353280  0.646720\n",
       "F            0.301435  0.698565\n",
       "G            0.016949  0.983051"
      ]
     },
     "execution_count": 73,
     "metadata": {},
     "output_type": "execute_result"
    }
   ],
   "source": [
    "pd.crosstab(df['loan_grade'], df['loan_status'], normalize='index')"
   ]
  },
  {
   "cell_type": "code",
   "execution_count": null,
   "metadata": {},
   "outputs": [
    {
     "data": {
      "text/html": [
       "<div>\n",
       "<style scoped>\n",
       "    .dataframe tbody tr th:only-of-type {\n",
       "        vertical-align: middle;\n",
       "    }\n",
       "\n",
       "    .dataframe tbody tr th {\n",
       "        vertical-align: top;\n",
       "    }\n",
       "\n",
       "    .dataframe thead th {\n",
       "        text-align: right;\n",
       "    }\n",
       "</style>\n",
       "<table border=\"1\" class=\"dataframe\">\n",
       "  <thead>\n",
       "    <tr style=\"text-align: right;\">\n",
       "      <th>loan_status</th>\n",
       "      <th>0</th>\n",
       "      <th>1</th>\n",
       "    </tr>\n",
       "    <tr>\n",
       "      <th>cb_person_default_on_file</th>\n",
       "      <th></th>\n",
       "      <th></th>\n",
       "    </tr>\n",
       "  </thead>\n",
       "  <tbody>\n",
       "    <tr>\n",
       "      <th>N</th>\n",
       "      <td>0.817855</td>\n",
       "      <td>0.182145</td>\n",
       "    </tr>\n",
       "    <tr>\n",
       "      <th>Y</th>\n",
       "      <td>0.621855</td>\n",
       "      <td>0.378145</td>\n",
       "    </tr>\n",
       "  </tbody>\n",
       "</table>\n",
       "</div>"
      ],
      "text/plain": [
       "loan_status                       0         1\n",
       "cb_person_default_on_file                    \n",
       "N                          0.817855  0.182145\n",
       "Y                          0.621855  0.378145"
      ]
     },
     "execution_count": 74,
     "metadata": {},
     "output_type": "execute_result"
    }
   ],
   "source": [
    "pd.crosstab(df['cb_person_default_on_file'], df['loan_status'], normalize='index')"
   ]
  },
  {
   "cell_type": "code",
   "execution_count": null,
   "metadata": {},
   "outputs": [
    {
     "data": {
      "text/html": [
       "<div>\n",
       "<style scoped>\n",
       "    .dataframe tbody tr th:only-of-type {\n",
       "        vertical-align: middle;\n",
       "    }\n",
       "\n",
       "    .dataframe tbody tr th {\n",
       "        vertical-align: top;\n",
       "    }\n",
       "\n",
       "    .dataframe thead th {\n",
       "        text-align: right;\n",
       "    }\n",
       "</style>\n",
       "<table border=\"1\" class=\"dataframe\">\n",
       "  <thead>\n",
       "    <tr style=\"text-align: right;\">\n",
       "      <th>loan_status</th>\n",
       "      <th>0</th>\n",
       "      <th>1</th>\n",
       "    </tr>\n",
       "    <tr>\n",
       "      <th>person_home_ownership</th>\n",
       "      <th></th>\n",
       "      <th></th>\n",
       "    </tr>\n",
       "  </thead>\n",
       "  <tbody>\n",
       "    <tr>\n",
       "      <th>MORTGAGE</th>\n",
       "      <td>0.873625</td>\n",
       "      <td>0.126375</td>\n",
       "    </tr>\n",
       "    <tr>\n",
       "      <th>OTHER</th>\n",
       "      <td>0.709677</td>\n",
       "      <td>0.290323</td>\n",
       "    </tr>\n",
       "    <tr>\n",
       "      <th>OWN</th>\n",
       "      <td>0.933272</td>\n",
       "      <td>0.066728</td>\n",
       "    </tr>\n",
       "    <tr>\n",
       "      <th>RENT</th>\n",
       "      <td>0.687319</td>\n",
       "      <td>0.312681</td>\n",
       "    </tr>\n",
       "  </tbody>\n",
       "</table>\n",
       "</div>"
      ],
      "text/plain": [
       "loan_status                   0         1\n",
       "person_home_ownership                    \n",
       "MORTGAGE               0.873625  0.126375\n",
       "OTHER                  0.709677  0.290323\n",
       "OWN                    0.933272  0.066728\n",
       "RENT                   0.687319  0.312681"
      ]
     },
     "execution_count": 75,
     "metadata": {},
     "output_type": "execute_result"
    }
   ],
   "source": [
    "pd.crosstab(df['person_home_ownership'], df['loan_status'], normalize='index')"
   ]
  },
  {
   "cell_type": "code",
   "execution_count": null,
   "metadata": {},
   "outputs": [
    {
     "data": {
      "text/html": [
       "<div>\n",
       "<style scoped>\n",
       "    .dataframe tbody tr th:only-of-type {\n",
       "        vertical-align: middle;\n",
       "    }\n",
       "\n",
       "    .dataframe tbody tr th {\n",
       "        vertical-align: top;\n",
       "    }\n",
       "\n",
       "    .dataframe thead th {\n",
       "        text-align: right;\n",
       "    }\n",
       "</style>\n",
       "<table border=\"1\" class=\"dataframe\">\n",
       "  <thead>\n",
       "    <tr style=\"text-align: right;\">\n",
       "      <th>loan_status</th>\n",
       "      <th>0</th>\n",
       "      <th>1</th>\n",
       "    </tr>\n",
       "    <tr>\n",
       "      <th>loan_intent</th>\n",
       "      <th></th>\n",
       "      <th></th>\n",
       "    </tr>\n",
       "  </thead>\n",
       "  <tbody>\n",
       "    <tr>\n",
       "      <th>DEBTCONSOLIDATION</th>\n",
       "      <td>0.715417</td>\n",
       "      <td>0.284583</td>\n",
       "    </tr>\n",
       "    <tr>\n",
       "      <th>EDUCATION</th>\n",
       "      <td>0.829393</td>\n",
       "      <td>0.170607</td>\n",
       "    </tr>\n",
       "    <tr>\n",
       "      <th>HOMEIMPROVEMENT</th>\n",
       "      <td>0.742624</td>\n",
       "      <td>0.257376</td>\n",
       "    </tr>\n",
       "    <tr>\n",
       "      <th>MEDICAL</th>\n",
       "      <td>0.730915</td>\n",
       "      <td>0.269085</td>\n",
       "    </tr>\n",
       "    <tr>\n",
       "      <th>PERSONAL</th>\n",
       "      <td>0.802266</td>\n",
       "      <td>0.197734</td>\n",
       "    </tr>\n",
       "    <tr>\n",
       "      <th>VENTURE</th>\n",
       "      <td>0.853374</td>\n",
       "      <td>0.146626</td>\n",
       "    </tr>\n",
       "  </tbody>\n",
       "</table>\n",
       "</div>"
      ],
      "text/plain": [
       "loan_status               0         1\n",
       "loan_intent                          \n",
       "DEBTCONSOLIDATION  0.715417  0.284583\n",
       "EDUCATION          0.829393  0.170607\n",
       "HOMEIMPROVEMENT    0.742624  0.257376\n",
       "MEDICAL            0.730915  0.269085\n",
       "PERSONAL           0.802266  0.197734\n",
       "VENTURE            0.853374  0.146626"
      ]
     },
     "execution_count": 76,
     "metadata": {},
     "output_type": "execute_result"
    }
   ],
   "source": [
    "pd.crosstab(df['loan_intent'], df['loan_status'], normalize='index')"
   ]
  },
  {
   "cell_type": "code",
   "execution_count": null,
   "metadata": {},
   "outputs": [],
   "source": [
    "train_df=list(df.columns.copy())\n",
    "train_df =df[train_df]\n",
    "y=df['loan_status']"
   ]
  },
  {
   "cell_type": "code",
   "execution_count": null,
   "metadata": {},
   "outputs": [],
   "source": [
    "target_col = 'loan_status'\n",
    "drop_cols = ['person_age', 'person_income','loan_percent_income', target_col]\n",
    "cat_cols = ['person_home_ownership',\n",
    "         'loan_intent','loan_grade',\n",
    "         'cb_person_default_on_file',\n",
    "         'cb_person_cred_hist_length',\n",
    "         'age_group',\n",
    "         'income_group',\n",
    "         'loan_group']\n",
    "cont_cols=['person_emp_length',\n",
    "          'loan_int_rate',\n",
    "          'cb_person_cred_hist_length'\n",
    "          ]\n",
    "train_cols = [col for col in train_df.columns if col not in drop_cols]"
   ]
  },
  {
   "cell_type": "code",
   "execution_count": null,
   "metadata": {},
   "outputs": [
    {
     "name": "stderr",
     "output_type": "stream",
     "text": [
      "100%|██████████| 11/11 [00:00<00:00, 11.43it/s]\n"
     ]
    }
   ],
   "source": [
    "iv_score_dict = {}\n",
    "for col in tqdm(train_cols):\n",
    "    if col in cat_cols:\n",
    "        optb = optbinning.OptimalBinning(dtype='categorical')\n",
    "        optb.fit(train_df[col], train_df['loan_status'])\n",
    "    else:\n",
    "        optb = optbinning.OptimalBinning(dtype='numerical')\n",
    "        optb.fit(train_df[col], train_df['loan_status'])\n",
    "    binning_table = optb.binning_table\n",
    "    binning_table.build()\n",
    "    iv_score_dict[col] = binning_table.iv\n",
    "\n",
    "iv_score_df = pd.Series(iv_score_dict)\n",
    "iv_score_df.sort_values(ascending=False, inplace=True)"
   ]
  },
  {
   "cell_type": "code",
   "execution_count": null,
   "metadata": {},
   "outputs": [
    {
     "data": {
      "text/plain": [
       "loan_grade                    0.891198\n",
       "loan_int_rate                 0.799560\n",
       "income_group                  0.384512\n",
       "person_home_ownership         0.376580\n",
       "cb_person_default_on_file     0.169901\n",
       "loan_amnt                     0.099127\n",
       "loan_intent                   0.097925\n",
       "loan_group                    0.081194\n",
       "person_emp_length             0.062583\n",
       "cb_person_cred_hist_length    0.006862\n",
       "age_group                     0.004987\n",
       "dtype: float64"
      ]
     },
     "execution_count": 81,
     "metadata": {},
     "output_type": "execute_result"
    }
   ],
   "source": [
    "iv_score_df.head(12)"
   ]
  },
  {
   "cell_type": "code",
   "execution_count": null,
   "metadata": {},
   "outputs": [],
   "source": [
    "varmodelo=['loan_status','loan_grade','loan_int_rate','income_group','person_home_ownership','cb_person_default_on_file','loan_amnt','loan_intent','loan_group','person_emp_length']"
   ]
  },
  {
   "cell_type": "code",
   "execution_count": null,
   "metadata": {},
   "outputs": [
    {
     "data": {
      "text/html": [
       "<div>\n",
       "<style scoped>\n",
       "    .dataframe tbody tr th:only-of-type {\n",
       "        vertical-align: middle;\n",
       "    }\n",
       "\n",
       "    .dataframe tbody tr th {\n",
       "        vertical-align: top;\n",
       "    }\n",
       "\n",
       "    .dataframe thead th {\n",
       "        text-align: right;\n",
       "    }\n",
       "</style>\n",
       "<table border=\"1\" class=\"dataframe\">\n",
       "  <thead>\n",
       "    <tr style=\"text-align: right;\">\n",
       "      <th></th>\n",
       "      <th>Bin</th>\n",
       "      <th>Count</th>\n",
       "      <th>Count (%)</th>\n",
       "      <th>Non-event</th>\n",
       "      <th>Event</th>\n",
       "      <th>Event rate</th>\n",
       "      <th>WoE</th>\n",
       "      <th>IV</th>\n",
       "      <th>JS</th>\n",
       "    </tr>\n",
       "  </thead>\n",
       "  <tbody>\n",
       "    <tr>\n",
       "      <th>0</th>\n",
       "      <td>(-inf, 24228.00)</td>\n",
       "      <td>1686</td>\n",
       "      <td>0.059185</td>\n",
       "      <td>761</td>\n",
       "      <td>925</td>\n",
       "      <td>0.548636</td>\n",
       "      <td>-1.477503</td>\n",
       "      <td>0.170514</td>\n",
       "      <td>0.019565</td>\n",
       "    </tr>\n",
       "    <tr>\n",
       "      <th>1</th>\n",
       "      <td>[24228.00, 34999.50)</td>\n",
       "      <td>3533</td>\n",
       "      <td>0.124021</td>\n",
       "      <td>2115</td>\n",
       "      <td>1418</td>\n",
       "      <td>0.401359</td>\n",
       "      <td>-0.882535</td>\n",
       "      <td>0.118603</td>\n",
       "      <td>0.014362</td>\n",
       "    </tr>\n",
       "    <tr>\n",
       "      <th>2</th>\n",
       "      <td>[34999.50, 39937.50)</td>\n",
       "      <td>1995</td>\n",
       "      <td>0.070032</td>\n",
       "      <td>1455</td>\n",
       "      <td>540</td>\n",
       "      <td>0.270677</td>\n",
       "      <td>-0.291151</td>\n",
       "      <td>0.006420</td>\n",
       "      <td>0.000800</td>\n",
       "    </tr>\n",
       "    <tr>\n",
       "      <th>3</th>\n",
       "      <td>[39937.50, 49994.00)</td>\n",
       "      <td>4215</td>\n",
       "      <td>0.147962</td>\n",
       "      <td>3307</td>\n",
       "      <td>908</td>\n",
       "      <td>0.215421</td>\n",
       "      <td>0.010209</td>\n",
       "      <td>0.000015</td>\n",
       "      <td>0.000002</td>\n",
       "    </tr>\n",
       "    <tr>\n",
       "      <th>4</th>\n",
       "      <td>[49994.00, 59982.00)</td>\n",
       "      <td>3845</td>\n",
       "      <td>0.134974</td>\n",
       "      <td>3050</td>\n",
       "      <td>795</td>\n",
       "      <td>0.206762</td>\n",
       "      <td>0.062212</td>\n",
       "      <td>0.000513</td>\n",
       "      <td>0.000064</td>\n",
       "    </tr>\n",
       "    <tr>\n",
       "      <th>5</th>\n",
       "      <td>[59982.00, 79942.50)</td>\n",
       "      <td>6017</td>\n",
       "      <td>0.211219</td>\n",
       "      <td>5083</td>\n",
       "      <td>934</td>\n",
       "      <td>0.155227</td>\n",
       "      <td>0.411838</td>\n",
       "      <td>0.031687</td>\n",
       "      <td>0.003933</td>\n",
       "    </tr>\n",
       "    <tr>\n",
       "      <th>6</th>\n",
       "      <td>[79942.50, 89325.00)</td>\n",
       "      <td>1741</td>\n",
       "      <td>0.061116</td>\n",
       "      <td>1558</td>\n",
       "      <td>183</td>\n",
       "      <td>0.105112</td>\n",
       "      <td>0.859329</td>\n",
       "      <td>0.034613</td>\n",
       "      <td>0.004198</td>\n",
       "    </tr>\n",
       "    <tr>\n",
       "      <th>7</th>\n",
       "      <td>[89325.00, inf)</td>\n",
       "      <td>5455</td>\n",
       "      <td>0.191491</td>\n",
       "      <td>4972</td>\n",
       "      <td>483</td>\n",
       "      <td>0.088543</td>\n",
       "      <td>1.049218</td>\n",
       "      <td>0.152000</td>\n",
       "      <td>0.018174</td>\n",
       "    </tr>\n",
       "    <tr>\n",
       "      <th>8</th>\n",
       "      <td>Special</td>\n",
       "      <td>0</td>\n",
       "      <td>0.000000</td>\n",
       "      <td>0</td>\n",
       "      <td>0</td>\n",
       "      <td>0.000000</td>\n",
       "      <td>0.0</td>\n",
       "      <td>0.000000</td>\n",
       "      <td>0.000000</td>\n",
       "    </tr>\n",
       "    <tr>\n",
       "      <th>9</th>\n",
       "      <td>Missing</td>\n",
       "      <td>0</td>\n",
       "      <td>0.000000</td>\n",
       "      <td>0</td>\n",
       "      <td>0</td>\n",
       "      <td>0.000000</td>\n",
       "      <td>0.0</td>\n",
       "      <td>0.000000</td>\n",
       "      <td>0.000000</td>\n",
       "    </tr>\n",
       "    <tr>\n",
       "      <th>Totals</th>\n",
       "      <td></td>\n",
       "      <td>28487</td>\n",
       "      <td>1.000000</td>\n",
       "      <td>22301</td>\n",
       "      <td>6186</td>\n",
       "      <td>0.217152</td>\n",
       "      <td></td>\n",
       "      <td>0.514366</td>\n",
       "      <td>0.061098</td>\n",
       "    </tr>\n",
       "  </tbody>\n",
       "</table>\n",
       "</div>"
      ],
      "text/plain": [
       "                         Bin  Count  Count (%)  Non-event  Event  Event rate  \\\n",
       "0           (-inf, 24228.00)   1686   0.059185        761    925    0.548636   \n",
       "1       [24228.00, 34999.50)   3533   0.124021       2115   1418    0.401359   \n",
       "2       [34999.50, 39937.50)   1995   0.070032       1455    540    0.270677   \n",
       "3       [39937.50, 49994.00)   4215   0.147962       3307    908    0.215421   \n",
       "4       [49994.00, 59982.00)   3845   0.134974       3050    795    0.206762   \n",
       "5       [59982.00, 79942.50)   6017   0.211219       5083    934    0.155227   \n",
       "6       [79942.50, 89325.00)   1741   0.061116       1558    183    0.105112   \n",
       "7            [89325.00, inf)   5455   0.191491       4972    483    0.088543   \n",
       "8                    Special      0   0.000000          0      0    0.000000   \n",
       "9                    Missing      0   0.000000          0      0    0.000000   \n",
       "Totals                        28487   1.000000      22301   6186    0.217152   \n",
       "\n",
       "             WoE        IV        JS  \n",
       "0      -1.477503  0.170514  0.019565  \n",
       "1      -0.882535  0.118603  0.014362  \n",
       "2      -0.291151  0.006420  0.000800  \n",
       "3       0.010209  0.000015  0.000002  \n",
       "4       0.062212  0.000513  0.000064  \n",
       "5       0.411838  0.031687  0.003933  \n",
       "6       0.859329  0.034613  0.004198  \n",
       "7       1.049218  0.152000  0.018174  \n",
       "8            0.0  0.000000  0.000000  \n",
       "9            0.0  0.000000  0.000000  \n",
       "Totals            0.514366  0.061098  "
      ]
     },
     "metadata": {},
     "output_type": "display_data"
    }
   ],
   "source": [
    "col = 'person_income'\n",
    "optb = optbinning.OptimalBinning(dtype='numerical')\n",
    "optb.fit(train_df[col], train_df['loan_status'])\n",
    "binning_table = optb.binning_table\n",
    "display(binning_table.build())"
   ]
  },
  {
   "cell_type": "code",
   "execution_count": null,
   "metadata": {},
   "outputs": [],
   "source": [
    "selected_features = iv_score_df[iv_score_df > 0.1].index.values\n",
    "cat_cols = [col for col in cat_cols if col in selected_features]\n",
    "train_cols = [col for col in train_df.columns if col in selected_features]"
   ]
  },
  {
   "cell_type": "code",
   "execution_count": null,
   "metadata": {},
   "outputs": [
    {
     "data": {
      "text/plain": [
       "((19940, 10), (8547, 10))"
      ]
     },
     "execution_count": 85,
     "metadata": {},
     "output_type": "execute_result"
    }
   ],
   "source": [
    "train_data, valid_data = model_selection.train_test_split(train_df[varmodelo],\n",
    "test_size=0.3,random_state=42, shuffle=True, stratify=train_df['loan_status'])\n",
    "\n",
    "train_data.shape, valid_data.shape"
   ]
  },
  {
   "cell_type": "code",
   "execution_count": null,
   "metadata": {},
   "outputs": [],
   "source": [
    "\n",
    "cat_cols = [col for col in cat_cols if col in selected_features]\n",
    "train_cols = [col for col in train_df.columns if col in selected_features]"
   ]
  },
  {
   "cell_type": "code",
   "execution_count": null,
   "metadata": {},
   "outputs": [],
   "source": [
    "X_train = train_data[train_cols].copy()\n",
    "y_train = train_data[target_col].copy()\n",
    "\n",
    "X_valid = valid_data[train_cols].copy()\n",
    "y_valid = valid_data[target_col].copy()"
   ]
  },
  {
   "cell_type": "code",
   "execution_count": null,
   "metadata": {},
   "outputs": [],
   "source": [
    "binning_process = optbinning.BinningProcess(                             \n",
    "    variable_names=train_cols,\n",
    "    #selection_criteria=selection_criteria,\n",
    "    categorical_variables=cat_cols\n",
    ")"
   ]
  },
  {
   "cell_type": "markdown",
   "metadata": {},
   "source": [
    "##Scorecard"
   ]
  },
  {
   "cell_type": "code",
   "execution_count": null,
   "metadata": {},
   "outputs": [],
   "source": [
    "estimator = linear_model.LogisticRegression()"
   ]
  },
  {
   "cell_type": "code",
   "execution_count": null,
   "metadata": {},
   "outputs": [],
   "source": [
    "scorecard = optbinning.Scorecard(\n",
    "    binning_process=binning_process,\n",
    "    estimator=estimator, \n",
    "    scaling_method=\"min_max\",\n",
    "    scaling_method_params={\"min\": 300, \"max\": 850},\n",
    "    # scaling_method = \"pdo_odds\",\n",
    "    # scaling_method_params = {\"pdo\": 20, \"odds\": 50, \"scorecard_points\": 100},\n",
    "    #intercept_based=True,\n",
    "    #reverse_scorecard=True\n",
    ")"
   ]
  },
  {
   "cell_type": "code",
   "execution_count": null,
   "metadata": {},
   "outputs": [
    {
     "name": "stderr",
     "output_type": "stream",
     "text": [
      "c:\\Users\\pixel\\anaconda3\\lib\\site-packages\\sklearn\\utils\\validation.py:623: FutureWarning: is_sparse is deprecated and will be removed in a future version. Check `isinstance(dtype, pd.SparseDtype)` instead.\n",
      "  if not hasattr(array, \"sparse\") and array.dtypes.apply(is_sparse).any():\n"
     ]
    },
    {
     "data": {
      "text/plain": [
       "Scorecard(binning_process=BinningProcess(categorical_variables=['person_home_ownership',\n",
       "                                                                'loan_grade',\n",
       "                                                                'cb_person_default_on_file',\n",
       "                                                                'income_group'],\n",
       "                                         variable_names=['person_home_ownership',\n",
       "                                                         'loan_grade',\n",
       "                                                         'loan_int_rate',\n",
       "                                                         'cb_person_default_on_file',\n",
       "                                                         'income_group']),\n",
       "          estimator=LogisticRegression(), scaling_method='min_max',\n",
       "          scaling_method_params={'max': 850, 'min': 300})"
      ]
     },
     "execution_count": 91,
     "metadata": {},
     "output_type": "execute_result"
    }
   ],
   "source": [
    "scorecard.fit(X_train, y_train)"
   ]
  },
  {
   "cell_type": "code",
   "execution_count": null,
   "metadata": {},
   "outputs": [],
   "source": [
    "# scorecard table\n",
    "scorecard_df = scorecard.table(style=\"detailed\")"
   ]
  },
  {
   "cell_type": "code",
   "execution_count": null,
   "metadata": {},
   "outputs": [
    {
     "data": {
      "text/html": [
       "<div>\n",
       "<style scoped>\n",
       "    .dataframe tbody tr th:only-of-type {\n",
       "        vertical-align: middle;\n",
       "    }\n",
       "\n",
       "    .dataframe tbody tr th {\n",
       "        vertical-align: top;\n",
       "    }\n",
       "\n",
       "    .dataframe thead th {\n",
       "        text-align: right;\n",
       "    }\n",
       "</style>\n",
       "<table border=\"1\" class=\"dataframe\">\n",
       "  <thead>\n",
       "    <tr style=\"text-align: right;\">\n",
       "      <th></th>\n",
       "      <th>Variable</th>\n",
       "      <th>Bin id</th>\n",
       "      <th>Bin</th>\n",
       "      <th>Count</th>\n",
       "      <th>Count (%)</th>\n",
       "      <th>Non-event</th>\n",
       "      <th>Event</th>\n",
       "      <th>Event rate</th>\n",
       "      <th>WoE</th>\n",
       "      <th>IV</th>\n",
       "      <th>JS</th>\n",
       "      <th>Coefficient</th>\n",
       "      <th>Points</th>\n",
       "    </tr>\n",
       "  </thead>\n",
       "  <tbody>\n",
       "    <tr>\n",
       "      <th>0</th>\n",
       "      <td>person_home_ownership</td>\n",
       "      <td>0</td>\n",
       "      <td>[OWN]</td>\n",
       "      <td>1527</td>\n",
       "      <td>0.076580</td>\n",
       "      <td>1428</td>\n",
       "      <td>99</td>\n",
       "      <td>0.064833</td>\n",
       "      <td>1.386566</td>\n",
       "      <td>0.095141</td>\n",
       "      <td>0.011023</td>\n",
       "      <td>-0.816473</td>\n",
       "      <td>203.928898</td>\n",
       "    </tr>\n",
       "    <tr>\n",
       "      <th>1</th>\n",
       "      <td>person_home_ownership</td>\n",
       "      <td>1</td>\n",
       "      <td>[MORTGAGE]</td>\n",
       "      <td>8231</td>\n",
       "      <td>0.412788</td>\n",
       "      <td>7195</td>\n",
       "      <td>1036</td>\n",
       "      <td>0.125866</td>\n",
       "      <td>0.655675</td>\n",
       "      <td>0.145338</td>\n",
       "      <td>0.017849</td>\n",
       "      <td>-0.816473</td>\n",
       "      <td>157.811870</td>\n",
       "    </tr>\n",
       "    <tr>\n",
       "      <th>2</th>\n",
       "      <td>person_home_ownership</td>\n",
       "      <td>2</td>\n",
       "      <td>[RENT, OTHER]</td>\n",
       "      <td>10182</td>\n",
       "      <td>0.510632</td>\n",
       "      <td>6987</td>\n",
       "      <td>3195</td>\n",
       "      <td>0.313789</td>\n",
       "      <td>-0.499880</td>\n",
       "      <td>0.145104</td>\n",
       "      <td>0.017951</td>\n",
       "      <td>-0.816473</td>\n",
       "      <td>84.899827</td>\n",
       "    </tr>\n",
       "    <tr>\n",
       "      <th>3</th>\n",
       "      <td>person_home_ownership</td>\n",
       "      <td>3</td>\n",
       "      <td>Special</td>\n",
       "      <td>0</td>\n",
       "      <td>0.000000</td>\n",
       "      <td>0</td>\n",
       "      <td>0</td>\n",
       "      <td>0.000000</td>\n",
       "      <td>0.000000</td>\n",
       "      <td>0.000000</td>\n",
       "      <td>0.000000</td>\n",
       "      <td>-0.816473</td>\n",
       "      <td>116.440751</td>\n",
       "    </tr>\n",
       "    <tr>\n",
       "      <th>4</th>\n",
       "      <td>person_home_ownership</td>\n",
       "      <td>4</td>\n",
       "      <td>Missing</td>\n",
       "      <td>0</td>\n",
       "      <td>0.000000</td>\n",
       "      <td>0</td>\n",
       "      <td>0</td>\n",
       "      <td>0.000000</td>\n",
       "      <td>0.000000</td>\n",
       "      <td>0.000000</td>\n",
       "      <td>0.000000</td>\n",
       "      <td>-0.816473</td>\n",
       "      <td>116.440751</td>\n",
       "    </tr>\n",
       "  </tbody>\n",
       "</table>\n",
       "</div>"
      ],
      "text/plain": [
       "                Variable  Bin id            Bin  Count  Count (%)  Non-event  \\\n",
       "0  person_home_ownership       0          [OWN]   1527   0.076580       1428   \n",
       "1  person_home_ownership       1     [MORTGAGE]   8231   0.412788       7195   \n",
       "2  person_home_ownership       2  [RENT, OTHER]  10182   0.510632       6987   \n",
       "3  person_home_ownership       3        Special      0   0.000000          0   \n",
       "4  person_home_ownership       4        Missing      0   0.000000          0   \n",
       "\n",
       "   Event  Event rate       WoE        IV        JS  Coefficient      Points  \n",
       "0     99    0.064833  1.386566  0.095141  0.011023    -0.816473  203.928898  \n",
       "1   1036    0.125866  0.655675  0.145338  0.017849    -0.816473  157.811870  \n",
       "2   3195    0.313789 -0.499880  0.145104  0.017951    -0.816473   84.899827  \n",
       "3      0    0.000000  0.000000  0.000000  0.000000    -0.816473  116.440751  \n",
       "4      0    0.000000  0.000000  0.000000  0.000000    -0.816473  116.440751  "
      ]
     },
     "execution_count": 93,
     "metadata": {},
     "output_type": "execute_result"
    }
   ],
   "source": [
    "scorecard_df.head()"
   ]
  },
  {
   "cell_type": "code",
   "execution_count": null,
   "metadata": {},
   "outputs": [
    {
     "data": {
      "text/html": [
       "<div>\n",
       "<style scoped>\n",
       "    .dataframe tbody tr th:only-of-type {\n",
       "        vertical-align: middle;\n",
       "    }\n",
       "\n",
       "    .dataframe tbody tr th {\n",
       "        vertical-align: top;\n",
       "    }\n",
       "\n",
       "    .dataframe thead th {\n",
       "        text-align: right;\n",
       "    }\n",
       "</style>\n",
       "<table border=\"1\" class=\"dataframe\">\n",
       "  <thead>\n",
       "    <tr style=\"text-align: right;\">\n",
       "      <th></th>\n",
       "      <th>Variable</th>\n",
       "      <th>Bin id</th>\n",
       "      <th>Bin</th>\n",
       "      <th>Count</th>\n",
       "      <th>Count (%)</th>\n",
       "      <th>Non-event</th>\n",
       "      <th>Event</th>\n",
       "      <th>Event rate</th>\n",
       "      <th>WoE</th>\n",
       "      <th>IV</th>\n",
       "      <th>JS</th>\n",
       "      <th>Coefficient</th>\n",
       "      <th>Points</th>\n",
       "    </tr>\n",
       "  </thead>\n",
       "  <tbody>\n",
       "    <tr>\n",
       "      <th>0</th>\n",
       "      <td>loan_int_rate</td>\n",
       "      <td>0</td>\n",
       "      <td>(-inf, 6.46)</td>\n",
       "      <td>1367</td>\n",
       "      <td>0.068556</td>\n",
       "      <td>1291</td>\n",
       "      <td>76</td>\n",
       "      <td>0.055596</td>\n",
       "      <td>1.550095</td>\n",
       "      <td>0.100991</td>\n",
       "      <td>0.011495</td>\n",
       "      <td>-0.162025</td>\n",
       "      <td>135.849927</td>\n",
       "    </tr>\n",
       "    <tr>\n",
       "      <th>1</th>\n",
       "      <td>loan_int_rate</td>\n",
       "      <td>1</td>\n",
       "      <td>[6.46, 7.46)</td>\n",
       "      <td>1675</td>\n",
       "      <td>0.084002</td>\n",
       "      <td>1535</td>\n",
       "      <td>140</td>\n",
       "      <td>0.083582</td>\n",
       "      <td>1.112299</td>\n",
       "      <td>0.073414</td>\n",
       "      <td>0.008731</td>\n",
       "      <td>-0.162025</td>\n",
       "      <td>130.368161</td>\n",
       "    </tr>\n",
       "    <tr>\n",
       "      <th>2</th>\n",
       "      <td>loan_int_rate</td>\n",
       "      <td>2</td>\n",
       "      <td>[7.46, 7.89)</td>\n",
       "      <td>1729</td>\n",
       "      <td>0.086710</td>\n",
       "      <td>1547</td>\n",
       "      <td>182</td>\n",
       "      <td>0.105263</td>\n",
       "      <td>0.857722</td>\n",
       "      <td>0.048951</td>\n",
       "      <td>0.005938</td>\n",
       "      <td>-0.162025</td>\n",
       "      <td>127.180530</td>\n",
       "    </tr>\n",
       "    <tr>\n",
       "      <th>3</th>\n",
       "      <td>loan_int_rate</td>\n",
       "      <td>3</td>\n",
       "      <td>[7.89, 9.64)</td>\n",
       "      <td>2170</td>\n",
       "      <td>0.108826</td>\n",
       "      <td>1881</td>\n",
       "      <td>289</td>\n",
       "      <td>0.133180</td>\n",
       "      <td>0.590788</td>\n",
       "      <td>0.031758</td>\n",
       "      <td>0.003913</td>\n",
       "      <td>-0.162025</td>\n",
       "      <td>123.838174</td>\n",
       "    </tr>\n",
       "    <tr>\n",
       "      <th>4</th>\n",
       "      <td>loan_int_rate</td>\n",
       "      <td>4</td>\n",
       "      <td>[9.64, 11.27)</td>\n",
       "      <td>3555</td>\n",
       "      <td>0.178285</td>\n",
       "      <td>3002</td>\n",
       "      <td>553</td>\n",
       "      <td>0.155556</td>\n",
       "      <td>0.409332</td>\n",
       "      <td>0.026442</td>\n",
       "      <td>0.003282</td>\n",
       "      <td>-0.162025</td>\n",
       "      <td>121.566110</td>\n",
       "    </tr>\n",
       "    <tr>\n",
       "      <th>5</th>\n",
       "      <td>loan_int_rate</td>\n",
       "      <td>5</td>\n",
       "      <td>[11.27, 12.11)</td>\n",
       "      <td>1809</td>\n",
       "      <td>0.090722</td>\n",
       "      <td>1499</td>\n",
       "      <td>310</td>\n",
       "      <td>0.171365</td>\n",
       "      <td>0.293637</td>\n",
       "      <td>0.007175</td>\n",
       "      <td>0.000894</td>\n",
       "      <td>-0.162025</td>\n",
       "      <td>120.117463</td>\n",
       "    </tr>\n",
       "    <tr>\n",
       "      <th>6</th>\n",
       "      <td>loan_int_rate</td>\n",
       "      <td>6</td>\n",
       "      <td>[12.11, 12.76)</td>\n",
       "      <td>1351</td>\n",
       "      <td>0.067753</td>\n",
       "      <td>1093</td>\n",
       "      <td>258</td>\n",
       "      <td>0.190970</td>\n",
       "      <td>0.161378</td>\n",
       "      <td>0.001684</td>\n",
       "      <td>0.000210</td>\n",
       "      <td>-0.162025</td>\n",
       "      <td>118.461407</td>\n",
       "    </tr>\n",
       "    <tr>\n",
       "      <th>7</th>\n",
       "      <td>loan_int_rate</td>\n",
       "      <td>7</td>\n",
       "      <td>[12.76, 13.61)</td>\n",
       "      <td>1876</td>\n",
       "      <td>0.094082</td>\n",
       "      <td>1473</td>\n",
       "      <td>403</td>\n",
       "      <td>0.214819</td>\n",
       "      <td>0.013776</td>\n",
       "      <td>0.000018</td>\n",
       "      <td>0.000002</td>\n",
       "      <td>-0.162025</td>\n",
       "      <td>116.613240</td>\n",
       "    </tr>\n",
       "    <tr>\n",
       "      <th>8</th>\n",
       "      <td>loan_int_rate</td>\n",
       "      <td>8</td>\n",
       "      <td>[13.61, 14.37)</td>\n",
       "      <td>1149</td>\n",
       "      <td>0.057623</td>\n",
       "      <td>830</td>\n",
       "      <td>319</td>\n",
       "      <td>0.277633</td>\n",
       "      <td>-0.326110</td>\n",
       "      <td>0.006686</td>\n",
       "      <td>0.000832</td>\n",
       "      <td>-0.162025</td>\n",
       "      <td>112.357440</td>\n",
       "    </tr>\n",
       "    <tr>\n",
       "      <th>9</th>\n",
       "      <td>loan_int_rate</td>\n",
       "      <td>9</td>\n",
       "      <td>[14.37, 15.28)</td>\n",
       "      <td>1185</td>\n",
       "      <td>0.059428</td>\n",
       "      <td>633</td>\n",
       "      <td>552</td>\n",
       "      <td>0.465823</td>\n",
       "      <td>-1.145422</td>\n",
       "      <td>0.099574</td>\n",
       "      <td>0.011808</td>\n",
       "      <td>-0.162025</td>\n",
       "      <td>102.098601</td>\n",
       "    </tr>\n",
       "    <tr>\n",
       "      <th>10</th>\n",
       "      <td>loan_int_rate</td>\n",
       "      <td>10</td>\n",
       "      <td>[15.28, 16.31)</td>\n",
       "      <td>1029</td>\n",
       "      <td>0.051605</td>\n",
       "      <td>433</td>\n",
       "      <td>596</td>\n",
       "      <td>0.579203</td>\n",
       "      <td>-1.601847</td>\n",
       "      <td>0.176052</td>\n",
       "      <td>0.019919</td>\n",
       "      <td>-0.162025</td>\n",
       "      <td>96.383570</td>\n",
       "    </tr>\n",
       "    <tr>\n",
       "      <th>11</th>\n",
       "      <td>loan_int_rate</td>\n",
       "      <td>11</td>\n",
       "      <td>[16.31, inf)</td>\n",
       "      <td>1045</td>\n",
       "      <td>0.052407</td>\n",
       "      <td>393</td>\n",
       "      <td>652</td>\n",
       "      <td>0.623923</td>\n",
       "      <td>-1.788579</td>\n",
       "      <td>0.224290</td>\n",
       "      <td>0.024811</td>\n",
       "      <td>-0.162025</td>\n",
       "      <td>94.045446</td>\n",
       "    </tr>\n",
       "    <tr>\n",
       "      <th>12</th>\n",
       "      <td>loan_int_rate</td>\n",
       "      <td>12</td>\n",
       "      <td>Special</td>\n",
       "      <td>0</td>\n",
       "      <td>0.000000</td>\n",
       "      <td>0</td>\n",
       "      <td>0</td>\n",
       "      <td>0.000000</td>\n",
       "      <td>0.000000</td>\n",
       "      <td>0.000000</td>\n",
       "      <td>0.000000</td>\n",
       "      <td>-0.162025</td>\n",
       "      <td>116.440751</td>\n",
       "    </tr>\n",
       "    <tr>\n",
       "      <th>13</th>\n",
       "      <td>loan_int_rate</td>\n",
       "      <td>13</td>\n",
       "      <td>Missing</td>\n",
       "      <td>0</td>\n",
       "      <td>0.000000</td>\n",
       "      <td>0</td>\n",
       "      <td>0</td>\n",
       "      <td>0.000000</td>\n",
       "      <td>0.000000</td>\n",
       "      <td>0.000000</td>\n",
       "      <td>0.000000</td>\n",
       "      <td>-0.162025</td>\n",
       "      <td>116.440751</td>\n",
       "    </tr>\n",
       "  </tbody>\n",
       "</table>\n",
       "</div>"
      ],
      "text/plain": [
       "         Variable  Bin id             Bin  Count  Count (%)  Non-event  Event  \\\n",
       "0   loan_int_rate       0    (-inf, 6.46)   1367   0.068556       1291     76   \n",
       "1   loan_int_rate       1    [6.46, 7.46)   1675   0.084002       1535    140   \n",
       "2   loan_int_rate       2    [7.46, 7.89)   1729   0.086710       1547    182   \n",
       "3   loan_int_rate       3    [7.89, 9.64)   2170   0.108826       1881    289   \n",
       "4   loan_int_rate       4   [9.64, 11.27)   3555   0.178285       3002    553   \n",
       "5   loan_int_rate       5  [11.27, 12.11)   1809   0.090722       1499    310   \n",
       "6   loan_int_rate       6  [12.11, 12.76)   1351   0.067753       1093    258   \n",
       "7   loan_int_rate       7  [12.76, 13.61)   1876   0.094082       1473    403   \n",
       "8   loan_int_rate       8  [13.61, 14.37)   1149   0.057623        830    319   \n",
       "9   loan_int_rate       9  [14.37, 15.28)   1185   0.059428        633    552   \n",
       "10  loan_int_rate      10  [15.28, 16.31)   1029   0.051605        433    596   \n",
       "11  loan_int_rate      11    [16.31, inf)   1045   0.052407        393    652   \n",
       "12  loan_int_rate      12         Special      0   0.000000          0      0   \n",
       "13  loan_int_rate      13         Missing      0   0.000000          0      0   \n",
       "\n",
       "    Event rate       WoE        IV        JS  Coefficient      Points  \n",
       "0     0.055596  1.550095  0.100991  0.011495    -0.162025  135.849927  \n",
       "1     0.083582  1.112299  0.073414  0.008731    -0.162025  130.368161  \n",
       "2     0.105263  0.857722  0.048951  0.005938    -0.162025  127.180530  \n",
       "3     0.133180  0.590788  0.031758  0.003913    -0.162025  123.838174  \n",
       "4     0.155556  0.409332  0.026442  0.003282    -0.162025  121.566110  \n",
       "5     0.171365  0.293637  0.007175  0.000894    -0.162025  120.117463  \n",
       "6     0.190970  0.161378  0.001684  0.000210    -0.162025  118.461407  \n",
       "7     0.214819  0.013776  0.000018  0.000002    -0.162025  116.613240  \n",
       "8     0.277633 -0.326110  0.006686  0.000832    -0.162025  112.357440  \n",
       "9     0.465823 -1.145422  0.099574  0.011808    -0.162025  102.098601  \n",
       "10    0.579203 -1.601847  0.176052  0.019919    -0.162025   96.383570  \n",
       "11    0.623923 -1.788579  0.224290  0.024811    -0.162025   94.045446  \n",
       "12    0.000000  0.000000  0.000000  0.000000    -0.162025  116.440751  \n",
       "13    0.000000  0.000000  0.000000  0.000000    -0.162025  116.440751  "
      ]
     },
     "execution_count": 94,
     "metadata": {},
     "output_type": "execute_result"
    }
   ],
   "source": [
    "scorecard_df.query(\"Variable == 'loan_int_rate'\")"
   ]
  },
  {
   "cell_type": "code",
   "execution_count": null,
   "metadata": {},
   "outputs": [
    {
     "data": {
      "text/html": [
       "<div>\n",
       "<style scoped>\n",
       "    .dataframe tbody tr th:only-of-type {\n",
       "        vertical-align: middle;\n",
       "    }\n",
       "\n",
       "    .dataframe tbody tr th {\n",
       "        vertical-align: top;\n",
       "    }\n",
       "\n",
       "    .dataframe thead th {\n",
       "        text-align: right;\n",
       "    }\n",
       "</style>\n",
       "<table border=\"1\" class=\"dataframe\">\n",
       "  <thead>\n",
       "    <tr style=\"text-align: right;\">\n",
       "      <th></th>\n",
       "      <th>Variable</th>\n",
       "      <th>Points</th>\n",
       "    </tr>\n",
       "  </thead>\n",
       "  <tbody>\n",
       "    <tr>\n",
       "      <th>3</th>\n",
       "      <td>loan_grade</td>\n",
       "      <td>-18.553628</td>\n",
       "    </tr>\n",
       "  </tbody>\n",
       "</table>\n",
       "</div>"
      ],
      "text/plain": [
       "     Variable     Points\n",
       "3  loan_grade -18.553628"
      ]
     },
     "execution_count": 95,
     "metadata": {},
     "output_type": "execute_result"
    }
   ],
   "source": [
    "# Se debe de buscar las variables cuyo puntaje sea negativo, luego se ordena del menor al mayor\n",
    "# 1. Elegir sólo las variables cuyo puntaje sea menor a 0\n",
    "variablesRiesgosas = scorecard_df[(scorecard_df['Points'] < 0)][[\"Variable\",\"Points\"]]\n",
    "# 2. Ordenar de menor a mayor\n",
    "variablesRiesgosas.sort_values(by=['Points'])\n",
    "# 3. Exponer estas variables en el reporte técnico"
   ]
  },
  {
   "cell_type": "code",
   "execution_count": null,
   "metadata": {},
   "outputs": [
    {
     "name": "stderr",
     "output_type": "stream",
     "text": [
      "c:\\Users\\pixel\\anaconda3\\lib\\site-packages\\sklearn\\utils\\validation.py:623: FutureWarning: is_sparse is deprecated and will be removed in a future version. Check `isinstance(dtype, pd.SparseDtype)` instead.\n",
      "  if not hasattr(array, \"sparse\") and array.dtypes.apply(is_sparse).any():\n",
      "c:\\Users\\pixel\\anaconda3\\lib\\site-packages\\sklearn\\utils\\validation.py:623: FutureWarning: is_sparse is deprecated and will be removed in a future version. Check `isinstance(dtype, pd.SparseDtype)` instead.\n",
      "  if not hasattr(array, \"sparse\") and array.dtypes.apply(is_sparse).any():\n"
     ]
    }
   ],
   "source": [
    "train_data['predict_proba'] = scorecard.predict_proba(X_train)[:, 1]\n",
    "valid_data['predict_proba'] = scorecard.predict_proba(X_valid)[:, 1]\n"
   ]
  },
  {
   "cell_type": "markdown",
   "metadata": {},
   "source": [
    "# Manejo de datos categoricos"
   ]
  },
  {
   "cell_type": "markdown",
   "metadata": {},
   "source": [
    "### Se procede a convertir las variables categoricas en numericas para ser aceptadas por el modelo, unas se hacen mediante target dummy (datos nominales) y otras se establecen los valores en la misma columna (datos ordinales). Ejemplo: "
   ]
  },
  {
   "cell_type": "markdown",
   "metadata": {},
   "source": [
    "<div>\n",
    "  <table style=\"margin: 0 auto;\">\n",
    "    <tr>\n",
    "      <th>Variable_Categorica</th>\n",
    "      <th>Variable_Numerica</th>\n",
    "    </tr>\n",
    "    <tr>\n",
    "      <td>A</td>\n",
    "      <td>0</td>\n",
    "    </tr>\n",
    "    <tr>\n",
    "      <td>B</td>\n",
    "      <td>1</td>\n",
    "    </tr>\n",
    "    <tr>\n",
    "      <td>C</td>\n",
    "      <td>2</td>\n",
    "    </tr>\n",
    "    <tr>\n",
    "      <td>D</td>\n",
    "      <td>3</td>\n",
    "    </tr>\n",
    "    <tr>\n",
    "      <td>E</td>\n",
    "      <td>4</td>\n",
    "    </tr>\n",
    "  </table>\n",
    "</div>"
   ]
  },
  {
   "cell_type": "markdown",
   "metadata": {},
   "source": [
    "## Datos Ordinales:"
   ]
  },
  {
   "cell_type": "code",
   "execution_count": null,
   "metadata": {},
   "outputs": [
    {
     "name": "stderr",
     "output_type": "stream",
     "text": [
      "c:\\Users\\pixel\\anaconda3\\lib\\site-packages\\seaborn\\_oldcore.py:1498: FutureWarning: is_categorical_dtype is deprecated and will be removed in a future version. Use isinstance(dtype, CategoricalDtype) instead\n",
      "  if pd.api.types.is_categorical_dtype(vector):\n",
      "c:\\Users\\pixel\\anaconda3\\lib\\site-packages\\seaborn\\_oldcore.py:1498: FutureWarning: is_categorical_dtype is deprecated and will be removed in a future version. Use isinstance(dtype, CategoricalDtype) instead\n",
      "  if pd.api.types.is_categorical_dtype(vector):\n",
      "c:\\Users\\pixel\\anaconda3\\lib\\site-packages\\seaborn\\_oldcore.py:1498: FutureWarning: is_categorical_dtype is deprecated and will be removed in a future version. Use isinstance(dtype, CategoricalDtype) instead\n",
      "  if pd.api.types.is_categorical_dtype(vector):\n"
     ]
    },
    {
     "data": {
      "image/png": "[encoded data removed]",
      "text/plain": [
       "<Figure size 864x432 with 1 Axes>"
      ]
     },
     "metadata": {},
     "output_type": "display_data"
    }
   ],
   "source": [
    "#Grafico de la variable loan_grade para ver el conteo de cada categoria\n",
    "fig, ax = plt.subplots(figsize=(12, 6))\n",
    "sns.countplot(data=df, x='loan_grade')\n",
    "plt.show()"
   ]
  },
  {
   "cell_type": "markdown",
   "metadata": {},
   "source": [
    "## NOTA: Preguntar acerca de esta codificacion, ya que con esto asumimos que A es mejor que B, y B es mejor que C y se encuentran equi distantes entre si "
   ]
  },
  {
   "cell_type": "code",
   "execution_count": null,
   "metadata": {},
   "outputs": [],
   "source": [
    "#convertir variable categorica loan_grade a numerica\n",
    "df['loan_grade'].replace(to_replace=['A', 'B', 'C', 'D', 'E', 'F', 'G'], value=[6, 5, 4, 3, 2, 1, 0], inplace=True)"
   ]
  },
  {
   "cell_type": "code",
   "execution_count": null,
   "metadata": {},
   "outputs": [
    {
     "data": {
      "text/plain": [
       "dtype('int64')"
      ]
     },
     "execution_count": 99,
     "metadata": {},
     "output_type": "execute_result"
    }
   ],
   "source": [
    "#verificar que se convirtio la variable loan_grade a numerica\n",
    "df['loan_grade'].dtype"
   ]
  },
  {
   "cell_type": "code",
   "execution_count": null,
   "metadata": {},
   "outputs": [
    {
     "name": "stderr",
     "output_type": "stream",
     "text": [
      "c:\\Users\\pixel\\anaconda3\\lib\\site-packages\\seaborn\\_oldcore.py:1498: FutureWarning: is_categorical_dtype is deprecated and will be removed in a future version. Use isinstance(dtype, CategoricalDtype) instead\n",
      "  if pd.api.types.is_categorical_dtype(vector):\n",
      "c:\\Users\\pixel\\anaconda3\\lib\\site-packages\\seaborn\\_oldcore.py:1498: FutureWarning: is_categorical_dtype is deprecated and will be removed in a future version. Use isinstance(dtype, CategoricalDtype) instead\n",
      "  if pd.api.types.is_categorical_dtype(vector):\n",
      "c:\\Users\\pixel\\anaconda3\\lib\\site-packages\\seaborn\\_oldcore.py:1498: FutureWarning: is_categorical_dtype is deprecated and will be removed in a future version. Use isinstance(dtype, CategoricalDtype) instead\n",
      "  if pd.api.types.is_categorical_dtype(vector):\n"
     ]
    },
    {
     "data": {
      "image/png": "[encoded data removed]",
      "text/plain": [
       "<Figure size 864x432 with 1 Axes>"
      ]
     },
     "metadata": {},
     "output_type": "display_data"
    }
   ],
   "source": [
    "#Grafico de la variable cb_person_default_on_file para ver el conteo de cada categoria\n",
    "fig, ax = plt.subplots(figsize=(12, 6))\n",
    "sns.countplot(data=df, x='cb_person_default_on_file')\n",
    "plt.show()"
   ]
  },
  {
   "cell_type": "code",
   "execution_count": null,
   "metadata": {},
   "outputs": [],
   "source": [
    "#convertir variable categorica cb_person_default_on_file a numerica\n",
    "df['cb_person_default_on_file'].replace(to_replace=['Y', 'N'], value=[1, 0], inplace=True)"
   ]
  },
  {
   "cell_type": "code",
   "execution_count": null,
   "metadata": {},
   "outputs": [
    {
     "data": {
      "text/plain": [
       "dtype('int64')"
      ]
     },
     "execution_count": 102,
     "metadata": {},
     "output_type": "execute_result"
    }
   ],
   "source": [
    "#verificar que se convirtio la variable cb_person_default_on_file a numerica\n",
    "df['cb_person_default_on_file'].dtype"
   ]
  },
  {
   "cell_type": "markdown",
   "metadata": {},
   "source": [
    "## Datos nominales"
   ]
  },
  {
   "cell_type": "markdown",
   "metadata": {},
   "source": [
    "person_home_ownership\n",
    "loan_intent"
   ]
  },
  {
   "cell_type": "code",
   "execution_count": null,
   "metadata": {},
   "outputs": [
    {
     "ename": "NameError",
     "evalue": "name 'sparse_output' is not defined",
     "output_type": "error",
     "traceback": [
      "\u001b[1;31m---------------------------------------------------------------------------\u001b[0m",
      "\u001b[1;31mNameError\u001b[0m                                 Traceback (most recent call last)",
      "\u001b[1;32mc:\\Users\\pixel\\Documents\\GitHub\\proyecto1-analitica\\main.ipynb Cell 108\u001b[0m line \u001b[0;36m<cell line: 2>\u001b[1;34m()\u001b[0m\n\u001b[0;32m      <a href='vscode-notebook-cell:/c%3A/Users/pixel/Documents/GitHub/proyecto1-analitica/main.ipynb#Y210sZmlsZQ%3D%3D?line=0'>1</a>\u001b[0m \u001b[39m#Crear codificacion nominal para las variables person_home_ownership, loan_intent\u001b[39;00m\n\u001b[1;32m----> <a href='vscode-notebook-cell:/c%3A/Users/pixel/Documents/GitHub/proyecto1-analitica/main.ipynb#Y210sZmlsZQ%3D%3D?line=1'>2</a>\u001b[0m codificador \u001b[39m=\u001b[39m OneHotEncoder(sparse_output\u001b[39m==\u001b[39m\u001b[39mFalse\u001b[39;00m)\n",
      "\u001b[1;31mNameError\u001b[0m: name 'sparse_output' is not defined"
     ]
    }
   ],
   "source": [
    "#Crear codificacion nominal para las variables person_home_ownership, loan_intent\n",
    "codificador = OneHotEncoder(sparse_output==False)"
   ]
  },
  {
   "cell_type": "code",
   "execution_count": null,
   "metadata": {},
   "outputs": [],
   "source": [
    "#Columnas categoricas a transformar\n",
    "cat_cols = ['person_home_ownership', 'loan_intent', 'loan_group', 'age_group', 'income_group']"
   ]
  },
  {
   "cell_type": "code",
   "execution_count": null,
   "metadata": {},
   "outputs": [
    {
     "ename": "KeyError",
     "evalue": "'person_home_ownership'",
     "output_type": "error",
     "traceback": [
      "\u001b[1;31m---------------------------------------------------------------------------\u001b[0m",
      "\u001b[1;31mKeyError\u001b[0m                                  Traceback (most recent call last)",
      "File \u001b[1;32mc:\\Users\\pixel\\anaconda3\\lib\\site-packages\\pandas\\core\\indexes\\base.py:3790\u001b[0m, in \u001b[0;36mIndex.get_loc\u001b[1;34m(self, key)\u001b[0m\n\u001b[0;32m   3789\u001b[0m \u001b[39mtry\u001b[39;00m:\n\u001b[1;32m-> 3790\u001b[0m     \u001b[39mreturn\u001b[39;00m \u001b[39mself\u001b[39;49m\u001b[39m.\u001b[39;49m_engine\u001b[39m.\u001b[39;49mget_loc(casted_key)\n\u001b[0;32m   3791\u001b[0m \u001b[39mexcept\u001b[39;00m \u001b[39mKeyError\u001b[39;00m \u001b[39mas\u001b[39;00m err:\n",
      "File \u001b[1;32mindex.pyx:152\u001b[0m, in \u001b[0;36mpandas._libs.index.IndexEngine.get_loc\u001b[1;34m()\u001b[0m\n",
      "File \u001b[1;32mindex.pyx:181\u001b[0m, in \u001b[0;36mpandas._libs.index.IndexEngine.get_loc\u001b[1;34m()\u001b[0m\n",
      "File \u001b[1;32mpandas\\_libs\\hashtable_class_helper.pxi:7080\u001b[0m, in \u001b[0;36mpandas._libs.hashtable.PyObjectHashTable.get_item\u001b[1;34m()\u001b[0m\n",
      "File \u001b[1;32mpandas\\_libs\\hashtable_class_helper.pxi:7088\u001b[0m, in \u001b[0;36mpandas._libs.hashtable.PyObjectHashTable.get_item\u001b[1;34m()\u001b[0m\n",
      "\u001b[1;31mKeyError\u001b[0m: 'person_home_ownership'",
      "\nThe above exception was the direct cause of the following exception:\n",
      "\u001b[1;31mKeyError\u001b[0m                                  Traceback (most recent call last)",
      "\u001b[1;32mc:\\Users\\pixel\\Documents\\GitHub\\proyecto1-analitica\\main.ipynb Cell 92\u001b[0m line \u001b[0;36m<cell line: 2>\u001b[1;34m()\u001b[0m\n\u001b[0;32m      <a href='vscode-notebook-cell:/c%3A/Users/pixel/Documents/GitHub/proyecto1-analitica/main.ipynb#Y131sZmlsZQ%3D%3D?line=0'>1</a>\u001b[0m valores_unicos_categoria \u001b[39m=\u001b[39m {}\n\u001b[0;32m      <a href='vscode-notebook-cell:/c%3A/Users/pixel/Documents/GitHub/proyecto1-analitica/main.ipynb#Y131sZmlsZQ%3D%3D?line=1'>2</a>\u001b[0m \u001b[39mfor\u001b[39;00m i \u001b[39min\u001b[39;00m cat_cols:\n\u001b[1;32m----> <a href='vscode-notebook-cell:/c%3A/Users/pixel/Documents/GitHub/proyecto1-analitica/main.ipynb#Y131sZmlsZQ%3D%3D?line=2'>3</a>\u001b[0m   valores_unicos_categoria[i] \u001b[39m=\u001b[39m df[i]\u001b[39m.\u001b[39munique()\n",
      "File \u001b[1;32mc:\\Users\\pixel\\anaconda3\\lib\\site-packages\\pandas\\core\\frame.py:3896\u001b[0m, in \u001b[0;36mDataFrame.__getitem__\u001b[1;34m(self, key)\u001b[0m\n\u001b[0;32m   3894\u001b[0m \u001b[39mif\u001b[39;00m \u001b[39mself\u001b[39m\u001b[39m.\u001b[39mcolumns\u001b[39m.\u001b[39mnlevels \u001b[39m>\u001b[39m \u001b[39m1\u001b[39m:\n\u001b[0;32m   3895\u001b[0m     \u001b[39mreturn\u001b[39;00m \u001b[39mself\u001b[39m\u001b[39m.\u001b[39m_getitem_multilevel(key)\n\u001b[1;32m-> 3896\u001b[0m indexer \u001b[39m=\u001b[39m \u001b[39mself\u001b[39;49m\u001b[39m.\u001b[39;49mcolumns\u001b[39m.\u001b[39;49mget_loc(key)\n\u001b[0;32m   3897\u001b[0m \u001b[39mif\u001b[39;00m is_integer(indexer):\n\u001b[0;32m   3898\u001b[0m     indexer \u001b[39m=\u001b[39m [indexer]\n",
      "File \u001b[1;32mc:\\Users\\pixel\\anaconda3\\lib\\site-packages\\pandas\\core\\indexes\\base.py:3797\u001b[0m, in \u001b[0;36mIndex.get_loc\u001b[1;34m(self, key)\u001b[0m\n\u001b[0;32m   3792\u001b[0m     \u001b[39mif\u001b[39;00m \u001b[39misinstance\u001b[39m(casted_key, \u001b[39mslice\u001b[39m) \u001b[39mor\u001b[39;00m (\n\u001b[0;32m   3793\u001b[0m         \u001b[39misinstance\u001b[39m(casted_key, abc\u001b[39m.\u001b[39mIterable)\n\u001b[0;32m   3794\u001b[0m         \u001b[39mand\u001b[39;00m \u001b[39many\u001b[39m(\u001b[39misinstance\u001b[39m(x, \u001b[39mslice\u001b[39m) \u001b[39mfor\u001b[39;00m x \u001b[39min\u001b[39;00m casted_key)\n\u001b[0;32m   3795\u001b[0m     ):\n\u001b[0;32m   3796\u001b[0m         \u001b[39mraise\u001b[39;00m InvalidIndexError(key)\n\u001b[1;32m-> 3797\u001b[0m     \u001b[39mraise\u001b[39;00m \u001b[39mKeyError\u001b[39;00m(key) \u001b[39mfrom\u001b[39;00m \u001b[39merr\u001b[39;00m\n\u001b[0;32m   3798\u001b[0m \u001b[39mexcept\u001b[39;00m \u001b[39mTypeError\u001b[39;00m:\n\u001b[0;32m   3799\u001b[0m     \u001b[39m# If we have a listlike key, _check_indexing_error will raise\u001b[39;00m\n\u001b[0;32m   3800\u001b[0m     \u001b[39m#  InvalidIndexError. Otherwise we fall through and re-raise\u001b[39;00m\n\u001b[0;32m   3801\u001b[0m     \u001b[39m#  the TypeError.\u001b[39;00m\n\u001b[0;32m   3802\u001b[0m     \u001b[39mself\u001b[39m\u001b[39m.\u001b[39m_check_indexing_error(key)\n",
      "\u001b[1;31mKeyError\u001b[0m: 'person_home_ownership'"
     ]
    }
   ],
   "source": [
    "valores_unicos_categoria = {}\n",
    "for i in cat_cols:\n",
    "  valores_unicos_categoria[i] = df[i].unique()"
   ]
  },
  {
   "cell_type": "code",
   "execution_count": null,
   "metadata": {},
   "outputs": [
    {
     "data": {
      "text/plain": [
       "{'person_home_ownership': array(['OWN', 'MORTGAGE', 'RENT', 'OTHER'], dtype=object),\n",
       " 'loan_intent': array(['EDUCATION', 'MEDICAL', 'VENTURE', 'PERSONAL', 'HOMEIMPROVEMENT',\n",
       "        'DEBTCONSOLIDATION'], dtype=object),\n",
       " 'loan_group': ['small', 'medium', 'very large', 'large']\n",
       " Categories (4, object): ['small' < 'medium' < 'large' < 'very large'],\n",
       " 'age_group': ['20-25', '25-30', '30+']\n",
       " Categories (3, object): ['20-25' < '25-30' < '30+'],\n",
       " 'income_group': ['low', 'middle', 'middle-high', 'high', 'low-middle']\n",
       " Categories (5, object): ['low' < 'low-middle' < 'middle' < 'middle-high' < 'high']}"
      ]
     },
     "execution_count": 354,
     "metadata": {},
     "output_type": "execute_result"
    }
   ],
   "source": [
    "valores_unicos_categoria"
   ]
  },
  {
   "cell_type": "code",
   "execution_count": null,
   "metadata": {},
   "outputs": [
    {
     "ename": "KeyError",
     "evalue": "\"['person_home_ownership', 'loan_intent', 'age_group', 'income_group'] not in index\"",
     "output_type": "error",
     "traceback": [
      "\u001b[1;31m---------------------------------------------------------------------------\u001b[0m",
      "\u001b[1;31mKeyError\u001b[0m                                  Traceback (most recent call last)",
      "\u001b[1;32mc:\\Users\\pixel\\Documents\\GitHub\\proyecto1-analitica\\main.ipynb Cell 93\u001b[0m line \u001b[0;36m<cell line: 2>\u001b[1;34m()\u001b[0m\n\u001b[0;32m      <a href='vscode-notebook-cell:/c%3A/Users/pixel/Documents/GitHub/proyecto1-analitica/main.ipynb#Y133sZmlsZQ%3D%3D?line=0'>1</a>\u001b[0m \u001b[39m#Crear dataframe con las variables codificadas\u001b[39;00m\n\u001b[1;32m----> <a href='vscode-notebook-cell:/c%3A/Users/pixel/Documents/GitHub/proyecto1-analitica/main.ipynb#Y133sZmlsZQ%3D%3D?line=1'>2</a>\u001b[0m df_codificado \u001b[39m=\u001b[39m pd\u001b[39m.\u001b[39mDataFrame(codificador\u001b[39m.\u001b[39mfit_transform(df[cat_cols]), columns\u001b[39m=\u001b[39mnp\u001b[39m.\u001b[39mconcatenate(codificador\u001b[39m.\u001b[39mcategories_))\n\u001b[0;32m      <a href='vscode-notebook-cell:/c%3A/Users/pixel/Documents/GitHub/proyecto1-analitica/main.ipynb#Y133sZmlsZQ%3D%3D?line=2'>3</a>\u001b[0m df_codificado\u001b[39m.\u001b[39mhead()\n",
      "File \u001b[1;32mc:\\Users\\pixel\\anaconda3\\lib\\site-packages\\pandas\\core\\frame.py:3902\u001b[0m, in \u001b[0;36mDataFrame.__getitem__\u001b[1;34m(self, key)\u001b[0m\n\u001b[0;32m   3900\u001b[0m     \u001b[39mif\u001b[39;00m is_iterator(key):\n\u001b[0;32m   3901\u001b[0m         key \u001b[39m=\u001b[39m \u001b[39mlist\u001b[39m(key)\n\u001b[1;32m-> 3902\u001b[0m     indexer \u001b[39m=\u001b[39m \u001b[39mself\u001b[39;49m\u001b[39m.\u001b[39;49mcolumns\u001b[39m.\u001b[39;49m_get_indexer_strict(key, \u001b[39m\"\u001b[39;49m\u001b[39mcolumns\u001b[39;49m\u001b[39m\"\u001b[39;49m)[\u001b[39m1\u001b[39m]\n\u001b[0;32m   3904\u001b[0m \u001b[39m# take() does not accept boolean indexers\u001b[39;00m\n\u001b[0;32m   3905\u001b[0m \u001b[39mif\u001b[39;00m \u001b[39mgetattr\u001b[39m(indexer, \u001b[39m\"\u001b[39m\u001b[39mdtype\u001b[39m\u001b[39m\"\u001b[39m, \u001b[39mNone\u001b[39;00m) \u001b[39m==\u001b[39m \u001b[39mbool\u001b[39m:\n",
      "File \u001b[1;32mc:\\Users\\pixel\\anaconda3\\lib\\site-packages\\pandas\\core\\indexes\\base.py:6114\u001b[0m, in \u001b[0;36mIndex._get_indexer_strict\u001b[1;34m(self, key, axis_name)\u001b[0m\n\u001b[0;32m   6111\u001b[0m \u001b[39melse\u001b[39;00m:\n\u001b[0;32m   6112\u001b[0m     keyarr, indexer, new_indexer \u001b[39m=\u001b[39m \u001b[39mself\u001b[39m\u001b[39m.\u001b[39m_reindex_non_unique(keyarr)\n\u001b[1;32m-> 6114\u001b[0m \u001b[39mself\u001b[39;49m\u001b[39m.\u001b[39;49m_raise_if_missing(keyarr, indexer, axis_name)\n\u001b[0;32m   6116\u001b[0m keyarr \u001b[39m=\u001b[39m \u001b[39mself\u001b[39m\u001b[39m.\u001b[39mtake(indexer)\n\u001b[0;32m   6117\u001b[0m \u001b[39mif\u001b[39;00m \u001b[39misinstance\u001b[39m(key, Index):\n\u001b[0;32m   6118\u001b[0m     \u001b[39m# GH 42790 - Preserve name from an Index\u001b[39;00m\n",
      "File \u001b[1;32mc:\\Users\\pixel\\anaconda3\\lib\\site-packages\\pandas\\core\\indexes\\base.py:6178\u001b[0m, in \u001b[0;36mIndex._raise_if_missing\u001b[1;34m(self, key, indexer, axis_name)\u001b[0m\n\u001b[0;32m   6175\u001b[0m     \u001b[39mraise\u001b[39;00m \u001b[39mKeyError\u001b[39;00m(\u001b[39mf\u001b[39m\u001b[39m\"\u001b[39m\u001b[39mNone of [\u001b[39m\u001b[39m{\u001b[39;00mkey\u001b[39m}\u001b[39;00m\u001b[39m] are in the [\u001b[39m\u001b[39m{\u001b[39;00maxis_name\u001b[39m}\u001b[39;00m\u001b[39m]\u001b[39m\u001b[39m\"\u001b[39m)\n\u001b[0;32m   6177\u001b[0m not_found \u001b[39m=\u001b[39m \u001b[39mlist\u001b[39m(ensure_index(key)[missing_mask\u001b[39m.\u001b[39mnonzero()[\u001b[39m0\u001b[39m]]\u001b[39m.\u001b[39munique())\n\u001b[1;32m-> 6178\u001b[0m \u001b[39mraise\u001b[39;00m \u001b[39mKeyError\u001b[39;00m(\u001b[39mf\u001b[39m\u001b[39m\"\u001b[39m\u001b[39m{\u001b[39;00mnot_found\u001b[39m}\u001b[39;00m\u001b[39m not in index\u001b[39m\u001b[39m\"\u001b[39m)\n",
      "\u001b[1;31mKeyError\u001b[0m: \"['person_home_ownership', 'loan_intent', 'age_group', 'income_group'] not in index\""
     ]
    }
   ],
   "source": [
    "#Crear dataframe con las variables codificadas\n",
    "df_codificado = pd.DataFrame(codificador.fit_transform(df[cat_cols]), columns=np.concatenate(codificador.categories_))\n",
    "df_codificado.head()"
   ]
  },
  {
   "cell_type": "code",
   "execution_count": null,
   "metadata": {},
   "outputs": [
    {
     "ename": "NameError",
     "evalue": "name 'df_codificado' is not defined",
     "output_type": "error",
     "traceback": [
      "\u001b[1;31m---------------------------------------------------------------------------\u001b[0m",
      "\u001b[1;31mNameError\u001b[0m                                 Traceback (most recent call last)",
      "\u001b[1;32mc:\\Users\\pixel\\Documents\\GitHub\\proyecto1-analitica\\main.ipynb Cell 95\u001b[0m line \u001b[0;36m<cell line: 2>\u001b[1;34m()\u001b[0m\n\u001b[0;32m      <a href='vscode-notebook-cell:/c%3A/Users/pixel/Documents/GitHub/proyecto1-analitica/main.ipynb#Y134sZmlsZQ%3D%3D?line=0'>1</a>\u001b[0m \u001b[39m#Unir el dataframe codificado con el dataframe original y eliminar las variables que ya fueron codificadas\u001b[39;00m\n\u001b[1;32m----> <a href='vscode-notebook-cell:/c%3A/Users/pixel/Documents/GitHub/proyecto1-analitica/main.ipynb#Y134sZmlsZQ%3D%3D?line=1'>2</a>\u001b[0m df \u001b[39m=\u001b[39m pd\u001b[39m.\u001b[39mconcat([df, df_codificado], axis\u001b[39m=\u001b[39m\u001b[39m1\u001b[39m)\n\u001b[0;32m      <a href='vscode-notebook-cell:/c%3A/Users/pixel/Documents/GitHub/proyecto1-analitica/main.ipynb#Y134sZmlsZQ%3D%3D?line=2'>3</a>\u001b[0m df\u001b[39m.\u001b[39mdrop([\u001b[39m'\u001b[39m\u001b[39mperson_home_ownership\u001b[39m\u001b[39m'\u001b[39m, \u001b[39m'\u001b[39m\u001b[39mloan_intent\u001b[39m\u001b[39m'\u001b[39m, \u001b[39m'\u001b[39m\u001b[39mage_group\u001b[39m\u001b[39m'\u001b[39m, \u001b[39m'\u001b[39m\u001b[39mloan_group\u001b[39m\u001b[39m'\u001b[39m, \u001b[39m'\u001b[39m\u001b[39mincome_group\u001b[39m\u001b[39m'\u001b[39m], axis\u001b[39m=\u001b[39m\u001b[39m1\u001b[39m, inplace\u001b[39m=\u001b[39m\u001b[39mTrue\u001b[39;00m)\n\u001b[0;32m      <a href='vscode-notebook-cell:/c%3A/Users/pixel/Documents/GitHub/proyecto1-analitica/main.ipynb#Y134sZmlsZQ%3D%3D?line=3'>4</a>\u001b[0m df\u001b[39m.\u001b[39mhead()\n",
      "\u001b[1;31mNameError\u001b[0m: name 'df_codificado' is not defined"
     ]
    }
   ],
   "source": [
    "#Unir el dataframe codificado con el dataframe original y eliminar las variables que ya fueron codificadas\n",
    "df = pd.concat([df, df_codificado], axis=1)\n",
    "df.drop(['person_home_ownership', 'loan_intent', 'age_group', 'loan_group', 'income_group'], axis=1, inplace=True)\n",
    "df.head()"
   ]
  },
  {
   "cell_type": "code",
   "execution_count": null,
   "metadata": {},
   "outputs": [
    {
     "data": {
      "text/plain": [
       "person_age                    144\n",
       "person_income                 144\n",
       "person_emp_length             144\n",
       "loan_grade                    144\n",
       "loan_amnt                     144\n",
       "loan_int_rate                 144\n",
       "loan_status                   144\n",
       "loan_percent_income           144\n",
       "cb_person_default_on_file     144\n",
       "cb_person_cred_hist_length    144\n",
       "MORTGAGE                      144\n",
       "OTHER                         144\n",
       "OWN                           144\n",
       "RENT                          144\n",
       "DEBTCONSOLIDATION             144\n",
       "EDUCATION                     144\n",
       "HOMEIMPROVEMENT               144\n",
       "MEDICAL                       144\n",
       "PERSONAL                      144\n",
       "VENTURE                       144\n",
       "large                         144\n",
       "medium                        144\n",
       "small                         144\n",
       "very large                    144\n",
       "20-25                         144\n",
       "25-30                         144\n",
       "30+                           144\n",
       "high                          144\n",
       "low                           144\n",
       "low-middle                    144\n",
       "middle                        144\n",
       "middle-high                   144\n",
       "dtype: int64"
      ]
     },
     "execution_count": 352,
     "metadata": {},
     "output_type": "execute_result"
    }
   ],
   "source": [
    "df.isna().sum()"
   ]
  }
 ],
 "metadata": {
  "kernelspec": {
   "display_name": "Python 3",
   "language": "python",
   "name": "python3"
  },
  "language_info": {
   "codemirror_mode": {
    "name": "ipython",
    "version": 3
   },
   "file_extension": ".py",
   "mimetype": "text/x-python",
   "name": "python",
   "nbconvert_exporter": "python",
   "pygments_lexer": "ipython3",
   "version": "3.10.11"
  },
  "orig_nbformat": 4
 },
 "nbformat": 4,
 "nbformat_minor": 2
}
